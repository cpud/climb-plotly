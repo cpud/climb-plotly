{
 "cells": [
  {
   "cell_type": "markdown",
   "metadata": {},
   "source": [
    "Using data scraped from Mountain Project, a website where users share rock climbing routes, I created a plotly choropleth map that show which states have the most routes, while also displaying the amount of certain types of routes (toprope, boulder, etc) and the number of Crags (climbing areas). \n",
    "\n",
    "This is my first foray into gathering my own data, and also my first side project. Web scraping is very messy! From the start, I have been aware of the inherent flaws of this project. Many climbing areas are secretive and exclusive, and won't be shared with the public, let alone posted on Mountain Project. I personally know of a couple crags near where I live that aren't on Mountain Project, and I'm certainly no 'insider'.\n",
    "\n",
    "Furthermore, if you compare the displayed Total number of climbs with the sum of the individual types of climbs, you may find that these amounts don't match. This is because some routes are considered both Trad and Toprope, so they get counted twice.\n",
    "\n",
    "Overall, this project was meant to get me familiar with gathering and cleaning my own data, while creating something that is interesting to look at, even if it is not 100% accurate to reality. The biggest surprise is Massachusetts having the most crags, at 110, while California only has 19. California definitely has more than 19 areas, and most of the MA crags have less than 100 routes, while each CA area is upwards 250, with Joshua Tree alone having 6000 posted routes while all of MA only has 4000. Again, it is important note that these are merely the routes shared on the internet. My go-to crag is listed at under 300 routes, but if you ask the climbers who have been going there for years, they could show you over 1000 routes.\n",
    "\n",
    "***Since this was originally made, some state pages have changed their layouts, making the 'number of crags' measuse displayed in the final map to be incorrect. For example, North Carolina's page used to just list out each crag on the page, but now the crags are separated by 4 different regions, where the actual list of areas for that region is found by clicking on the link to those regions. \n",
    "\n",
    "Code found in the \"Final\" notebook here: https://github.com/cpud/climb-plotly"
   ]
  },
  {
   "cell_type": "code",
   "execution_count": 2,
   "metadata": {},
   "outputs": [],
   "source": [
    "# Trying to get hyperlinks for all states so we can run the scraping script on all states.\n",
    "\n",
    "# Imports and get the html data from MountainProject. \n",
    "import pandas as pd\n",
    "import numpy as np\n",
    "import string\n",
    "import requests\n",
    "from bs4 import BeautifulSoup\n",
    "\n",
    "#This page contains the links to each state page. \n",
    "url = 'https://www.mountainproject.com/route-guide'\n",
    "page = requests.get(url)\n",
    "\n",
    "soup = BeautifulSoup(page.content, 'html.parser')\n",
    "\n",
    "# Put all hyperlinks on the page into a list.\n",
    "data = []\n",
    "for link in soup.find_all('a', class_= 'text-truncate float-xs-left'):\n",
    "    data.append(link.get('href'))\n",
    "    \n",
    "# List of US States that we'll use to remove unwanted hyperlinks.\n",
    "# Mississippi and Nebrasaka don't have pages, which makes sense,\n",
    "# considering how flat they are.\n",
    "states = [\"Alabama\",\"Alaska\",\"Arizona\",\"Arkansas\",\"California\",\"Colorado\",\n",
    "  \"Connecticut\",\"Delaware\",\"Florida\",\"Georgia\",\"Hawaii\",\"Idaho\",\"Illinois\",\n",
    "  \"Indiana\",\"Iowa\",\"Kansas\",\"Kentucky\",\"Louisiana\",\"Maine\",\"Maryland\",\n",
    "  \"Massachusetts\",\"Michigan\",\"Minnesota\",\"Mississippi\",\"Missouri\",\"Montana\",\n",
    "  \"Nebraska\",\"Nevada\",\"New-Hampshire\",\"New-Jersey\",\"New-Mexico\",\"New-York\",\n",
    "  \"North-Carolina\",\"North-Dakota\",\"Ohio\",\"Oklahoma\",\"Oregon\",\"Pennsylvania\",\n",
    "  \"Rhode-Island\",\"South-Carolina\",\"South-Dakota\",\"Tennessee\",\"Texas\",\"Utah\",\n",
    "  \"Vermont\",\"Virginia\",\"Washington\",\"West-Virginia\",\"Wisconsin\",\"Wyoming\"]\n",
    "\n",
    "# List of US States and their abbreviations for a dictionary.\n",
    "us_state_abbrev = {\n",
    "    'Alabama': 'AL',\n",
    "    'Alaska': 'AK',\n",
    "    'Arizona': 'AZ',\n",
    "    'Arkansas': 'AR',\n",
    "    'California': 'CA',\n",
    "    'Colorado': 'CO',\n",
    "    'Connecticut': 'CT',\n",
    "    'Delaware': 'DE',\n",
    "    'District of Columbia': 'DC',\n",
    "    'Florida': 'FL',\n",
    "    'Georgia': 'GA',\n",
    "    'Hawaii': 'HI',\n",
    "    'Idaho': 'ID',\n",
    "    'Illinois': 'IL',\n",
    "    'Indiana': 'IN',\n",
    "    'Iowa': 'IA',\n",
    "    'Kansas': 'KS',\n",
    "    'Kentucky': 'KY',\n",
    "    'Louisiana': 'LA',\n",
    "    'Maine': 'ME',\n",
    "    'Maryland': 'MD',\n",
    "    'Massachusetts': 'MA',\n",
    "    'Michigan': 'MI',\n",
    "    'Minnesota': 'MN',\n",
    "    'Mississippi': 'MS',\n",
    "    'Missouri': 'MO',\n",
    "    'Montana': 'MT',\n",
    "    'Nebraska': 'NE',\n",
    "    'Nevada': 'NV',\n",
    "    'New-Hampshire': 'NH',\n",
    "    'New-Jersey': 'NJ',\n",
    "    'New-Mexico': 'NM',\n",
    "    'New-York': 'NY',\n",
    "    'North-Carolina': 'NC',\n",
    "    'North-Dakota': 'ND',\n",
    "    'Northern Mariana Islands':'MP',\n",
    "    'Ohio': 'OH',\n",
    "    'Oklahoma': 'OK',\n",
    "    'Oregon': 'OR',\n",
    "    'Palau': 'PW',\n",
    "    'Pennsylvania': 'PA',\n",
    "    'Puerto Rico': 'PR',\n",
    "    'Rhode-Island': 'RI',\n",
    "    'South-Carolina': 'SC',\n",
    "    'South-Dakota': 'SD',\n",
    "    'Tennessee': 'TN',\n",
    "    'Texas': 'TX',\n",
    "    'Utah': 'UT',\n",
    "    'Vermont': 'VT',\n",
    "    'Virgin Islands': 'VI',\n",
    "    'Virginia': 'VA',\n",
    "    'Washington': 'WA',\n",
    "    'West-Virginia': 'WV',\n",
    "    'Wisconsin': 'WI',\n",
    "    'Wyoming': 'WY',\n",
    "}\n",
    "\n",
    "# Make the states lowercase to match hyperlinks. \n",
    "states = [x.lower() for x in states]\n",
    "us_state_abbrev = dict((k.lower(),v) for k,v in us_state_abbrev.items())\n",
    "\n",
    "# Loop through each hyperlink and see if it contains a state as a subsrting.\n",
    "# If it does, add the link to a list containing links for each state page. \n",
    "US = []\n",
    "for datum in data:\n",
    "    for state in states:\n",
    "        if state in datum:\n",
    "            US.append([state,datum])\n",
    "        \n",
    "# Remove duplicate links, Vermont Ice+Mixed, and Tennessee Wall (they are duplicates!)\n",
    "# Check length. Should be 48. \n",
    "res = [] \n",
    "[res.append(x) for x in US if x not in res] \n",
    "# US=list(set(US))\n",
    "res.remove(['tennessee','https://www.mountainproject.com/area/105851828/the-tennessee-wall'])\n",
    "#res.remove(['vermont','https://www.mountainproject.com/area/107280521/vermont-ice-and-mixed'])\n",
    "links = dict(res)"
   ]
  },
  {
   "cell_type": "code",
   "execution_count": 3,
   "metadata": {},
   "outputs": [],
   "source": [
    "url = links['alabama']"
   ]
  },
  {
   "cell_type": "code",
   "execution_count": 4,
   "metadata": {},
   "outputs": [],
   "source": [
    "page = requests.get(url)\n",
    "response = requests.get(url)\n",
    "data = response.text\n",
    "soup = BeautifulSoup(data)"
   ]
  },
  {
   "cell_type": "code",
   "execution_count": null,
   "metadata": {},
   "outputs": [],
   "source": []
  },
  {
   "cell_type": "code",
   "execution_count": null,
   "metadata": {},
   "outputs": [],
   "source": []
  },
  {
   "cell_type": "code",
   "execution_count": 5,
   "metadata": {},
   "outputs": [],
   "source": [
    "# Trying to get number of crags on an individual state page.\n",
    "\n",
    "def getData(url):\n",
    "\n",
    "    page = requests.get(url)\n",
    "\n",
    "    # Getting the webpage, creating a Response object.\n",
    "    response = requests.get(url)\n",
    " \n",
    "    # Extracting the source code of the page.\n",
    "    data = response.text\n",
    " \n",
    "    # Passing the source code to Beautiful Soup to create a BeautifulSoup object for it.\n",
    "    # soup = BeautifulSoup(data, 'lxml')\n",
    "    soup = BeautifulSoup(data)\n",
    " \n",
    "    # Extracting all the <a> tags into a list. No ID or class or anything next to hyperlink in HTML\n",
    "    titles = soup.findAll('a')\n",
    "    climbs = soup.findAll('span',class_ ='text-warm')\n",
    " \n",
    "    # Extracting text from the the <a> and put into list. \n",
    "    areas = [x.text for x in titles]\n",
    "    climbs = [y.text for y in climbs ]\n",
    "            \n",
    "    return areas, climbs\n",
    "\n",
    "\n",
    "# Define function to get location of a string that always occurs after end of list of crags.\n",
    "def getIndexes(dfObj, value):\n",
    "    ''' Get index positions of value in dataframe i.e. dfObj.'''\n",
    " \n",
    "    listOfPos = list()\n",
    "    # Get bool dataframe with True at positions where the given value exists\n",
    "    result = dfObj.isin([value])\n",
    "    # Get list of columns that contains the value\n",
    "    seriesObj = result.any()\n",
    "    columnNames = list(seriesObj[seriesObj == True].index)\n",
    "    # Iterate over list of columns and fetch the rows indexes where value exists\n",
    "    for col in columnNames:\n",
    "        rows = list(result[col][result[col] == True].index)\n",
    "        for row in rows:\n",
    "            listOfPos.append((row, col))\n",
    "    # Return a list of tuples indicating the positions of value in the dataframe\n",
    "    return listOfPos\n",
    "\n",
    "# Define function to remove the unwanted text from the dataframe. Pages with slight differences\n",
    "# in their layout needed the cutOff point to be manually entered.\n",
    "def adjustDF(url,state):\n",
    "\n",
    "    areas, climbs = getData(url)\n",
    "    \n",
    "    # Cleaning up areas DataFrame\n",
    "    areas = pd.DataFrame(list(filter(None,areas)))\n",
    "    areas.columns = ['Crags']\n",
    "    areas = areas[~areas['Crags'].str.contains('\\n')]\n",
    "    # Actual list of climbing areas starts 1 after 'Climbing Area map', and ends 2 before it.\n",
    "    places = getIndexes(areas,'Climbing Area Map')\n",
    "    cleaned_areas = areas.loc[places[0][0] + 1:places[1][0] - 2]\n",
    "    \n",
    "    # Cleaning up number of climbs DataFrame\n",
    "    climbs = pd.DataFrame(list(filter(None,climbs)))\n",
    "    climbs.columns = ['Climbs']\n",
    "    climbs['Climbs'] = [s.strip() for s in climbs['Climbs']]\n",
    "    \n",
    "    # Make DataFrame combining fields. The climbs scrape starts with the number of climbs for\n",
    "    # the first area, meaning it will line up with the proper crag. \n",
    "    df = pd.DataFrame(list(zip(cleaned_areas['Crags'],climbs['Climbs'])))\n",
    "\n",
    "    # Add state column\n",
    "    df = df.assign(ST = us_state_abbrev[state])\n",
    "    return df"
   ]
  },
  {
   "cell_type": "code",
   "execution_count": 6,
   "metadata": {},
   "outputs": [],
   "source": [
    "# Make combined dataframe for all crags in all states using gathered hyperlinks.\n",
    "def makeDataFrame(links):\n",
    "    # Instantiate empty dataframe\n",
    "    df = pd.DataFrame()\n",
    "    #Loop through links.\n",
    "    for sta, link in links.items():\n",
    "        # Add state dataframes on top of each other.\n",
    "        df = df.append(adjustDF(link,sta))\n",
    "    return df"
   ]
  },
  {
   "cell_type": "code",
   "execution_count": 7,
   "metadata": {},
   "outputs": [],
   "source": [
    "all_df = makeDataFrame(links)\n",
    "#all_df.info"
   ]
  },
  {
   "cell_type": "code",
   "execution_count": 8,
   "metadata": {},
   "outputs": [
    {
     "data": {
      "text/html": [
       "<div>\n",
       "<style scoped>\n",
       "    .dataframe tbody tr th:only-of-type {\n",
       "        vertical-align: middle;\n",
       "    }\n",
       "\n",
       "    .dataframe tbody tr th {\n",
       "        vertical-align: top;\n",
       "    }\n",
       "\n",
       "    .dataframe thead th {\n",
       "        text-align: right;\n",
       "    }\n",
       "</style>\n",
       "<table border=\"1\" class=\"dataframe\">\n",
       "  <thead>\n",
       "    <tr style=\"text-align: right;\">\n",
       "      <th></th>\n",
       "      <th>0</th>\n",
       "      <th>1</th>\n",
       "      <th>ST</th>\n",
       "    </tr>\n",
       "  </thead>\n",
       "  <tbody>\n",
       "    <tr>\n",
       "      <th>0</th>\n",
       "      <td>BankHead Forest/ Thompson Creek Trail</td>\n",
       "      <td>2</td>\n",
       "      <td>AL</td>\n",
       "    </tr>\n",
       "    <tr>\n",
       "      <th>1</th>\n",
       "      <td>Bankhead Forest/Ship Rock</td>\n",
       "      <td>10</td>\n",
       "      <td>AL</td>\n",
       "    </tr>\n",
       "    <tr>\n",
       "      <th>2</th>\n",
       "      <td>bankhead forest/sipsey picnic area</td>\n",
       "      <td>1</td>\n",
       "      <td>AL</td>\n",
       "    </tr>\n",
       "    <tr>\n",
       "      <th>3</th>\n",
       "      <td>Cherokee Bluffs</td>\n",
       "      <td>32</td>\n",
       "      <td>AL</td>\n",
       "    </tr>\n",
       "    <tr>\n",
       "      <th>4</th>\n",
       "      <td>Chewacla State Park</td>\n",
       "      <td>18</td>\n",
       "      <td>AL</td>\n",
       "    </tr>\n",
       "  </tbody>\n",
       "</table>\n",
       "</div>"
      ],
      "text/plain": [
       "                                       0   1  ST\n",
       "0  BankHead Forest/ Thompson Creek Trail   2  AL\n",
       "1              Bankhead Forest/Ship Rock  10  AL\n",
       "2     bankhead forest/sipsey picnic area   1  AL\n",
       "3                        Cherokee Bluffs  32  AL\n",
       "4                    Chewacla State Park  18  AL"
      ]
     },
     "execution_count": 8,
     "metadata": {},
     "output_type": "execute_result"
    }
   ],
   "source": [
    "all_df.head()"
   ]
  },
  {
   "cell_type": "code",
   "execution_count": null,
   "metadata": {},
   "outputs": [],
   "source": []
  },
  {
   "cell_type": "code",
   "execution_count": null,
   "metadata": {},
   "outputs": [],
   "source": []
  },
  {
   "cell_type": "code",
   "execution_count": 9,
   "metadata": {},
   "outputs": [],
   "source": [
    "all_df.columns=['Crags', 'Climbs', 'ST']\n",
    "# Remove Punctuation from Climbs\n",
    "all_df['Climbs'] = [s.translate(str.maketrans('', '', string.punctuation)) for s in all_df['Climbs']]\n",
    "# Convert Climbs values to integers\n",
    "all_df['Climbs'] = [int(x) for x in all_df['Climbs']]\n",
    "# Make dataframe to count number of crags per state. \n",
    "crag_counts = pd.DataFrame(all_df['ST'].value_counts())\n",
    "crag_counts.columns = ['Crags']\n",
    "# Make dataframe for aggregating climb counts at the State level.\n",
    "climb_counts = all_df.drop(columns = ['Crags'])\n",
    "climb_counts = climb_counts.set_index('ST')\n",
    "climb_counts = climb_counts.sum(level = 'ST')\n",
    "# Make aggregate dataFrame.\n",
    "agg_df = climb_counts.join(crag_counts)"
   ]
  },
  {
   "cell_type": "code",
   "execution_count": 10,
   "metadata": {},
   "outputs": [],
   "source": [
    "# Define function to get climb type data (Number of boulders, sport, trad, etc)\n",
    "def climb_type_dataframe(link, state):\n",
    "    url = link\n",
    "    page = requests.get(link)\n",
    "    soup = BeautifulSoup(page.content,'html.parser')\n",
    "    climb_types = ['Trad','Sport','Toprope','Boulder','Ice','Aid','Mixed','Alpine']\n",
    "    route_count = []\n",
    "    route_type = []\n",
    "    # Loop through climb types to create lists. Lists will be cleaned and combined\n",
    "    # into a dataframe.\n",
    "    for climb_type in climb_types:\n",
    "        for route in soup.find_all('span', class_ = \"lef-nav-\" + climb_type):\n",
    "            route_count.append(route.text)\n",
    "            route_type.append(climb_type)\n",
    "            \n",
    "    # Clean up lists before putting them in dataframe. \n",
    "    route_count = [s.strip() for s in route_count]\n",
    "    route_count = [s.replace(' /','') for s in route_count]\n",
    "    route_count = [s.replace(',','') for s in route_count]\n",
    "    route_count = [int(s) for s in route_count]\n",
    "    # Create dataframe. \n",
    "    df = pd.DataFrame(data = route_count)\n",
    "    df['type'] = route_type\n",
    "    df['ST'] = us_state_abbrev[state]\n",
    "    return df"
   ]
  },
  {
   "cell_type": "code",
   "execution_count": 11,
   "metadata": {},
   "outputs": [],
   "source": [
    "# Make dataframe with climb_types.\n",
    "climb_df = pd.DataFrame()\n",
    "for sta, link in links.items():\n",
    "    climb_df = climb_df.append(climb_type_dataframe(link,sta))"
   ]
  },
  {
   "cell_type": "code",
   "execution_count": 12,
   "metadata": {},
   "outputs": [],
   "source": [
    "# Set index and name columns for climb_df, join with agg_df for plotting. \n",
    "climb_df = climb_df.set_index('ST')\n",
    "climb_df.columns = ['num','type']\n",
    "# Pivot table to aggregate climb type counts to a state level.\n",
    "table = climb_df.pivot_table(values = 'num', columns = 'type', index = 'ST', aggfunc = np.sum)\n",
    "agg_df = agg_df.join(table)"
   ]
  },
  {
   "cell_type": "code",
   "execution_count": 13,
   "metadata": {},
   "outputs": [],
   "source": [
    "# Create 'text' column in agg_df. This will be what displays when mouse\n",
    "# hovers over a state. \n",
    "agg_df['text'] = ['Crags: {}<br>Boulder: {}<br>Sport: {}<br>Toprope: {}<br>Trad: {}<br>Alpine: {}<br>Ice: {}'\\\n",
    "                    .format(agg_df['Crags'][i],agg_df['Boulder'][i],agg_df['Sport'][i],agg_df['Toprope'][i],agg_df['Trad'][i],\\\n",
    "                    agg_df['Alpine'][i], agg_df['Ice'][i])\\\n",
    "                    for i in range(0, len(agg_df['Crags']))]"
   ]
  },
  {
   "cell_type": "code",
   "execution_count": 23,
   "metadata": {},
   "outputs": [],
   "source": [
    "# Imports for chart\n",
    "#import chart_studio.plotly as py\n",
    "import plotly.graph_objs as go \n",
    "#from plotly.offline import download_plotlyjs, init_notebook_mode, plot, iplot\n",
    "from plotly.offline import download_plotlyjs, plot, iplot\n",
    "import plotly.express as px"
   ]
  },
  {
   "cell_type": "code",
   "execution_count": 24,
   "metadata": {},
   "outputs": [],
   "source": [
    "data = dict(type='choropleth',\n",
    "            colorscale = 'inferno',\n",
    "            locations = list(agg_df.index.values),\n",
    "            z = agg_df['Climbs'],\n",
    "            locationmode = 'USA-states',\n",
    "            text = agg_df['text'],\n",
    "            marker = dict(line = dict(color = 'rgb(255,255,255)',width = 2)),\n",
    "            colorbar = {'title':\"Number of Climbs\"}\n",
    "            ) "
   ]
  },
  {
   "cell_type": "code",
   "execution_count": 25,
   "metadata": {},
   "outputs": [],
   "source": [
    "layout = dict(title = 'Number of Climbs By State',\n",
    "              geo = dict(scope='usa',\n",
    "                         showlakes = True,\n",
    "                         lakecolor = 'rgb(85,173,240)')\n",
    "             )"
   ]
  },
  {
   "cell_type": "code",
   "execution_count": 26,
   "metadata": {},
   "outputs": [],
   "source": [
    "choromap = go.Figure(data = [data],layout = layout)"
   ]
  },
  {
   "cell_type": "code",
   "execution_count": 27,
   "metadata": {},
   "outputs": [
    {
     "data": {
      "application/vnd.plotly.v1+json": {
       "config": {
        "linkText": "Export to plot.ly",
        "plotlyServerURL": "https://plot.ly",
        "showLink": false
       },
       "data": [
        {
         "colorbar": {
          "title": {
           "text": "Number of Climbs"
          }
         },
         "colorscale": [
          [
           0,
           "#000004"
          ],
          [
           0.1111111111111111,
           "#1b0c41"
          ],
          [
           0.2222222222222222,
           "#4a0c6b"
          ],
          [
           0.3333333333333333,
           "#781c6d"
          ],
          [
           0.4444444444444444,
           "#a52c60"
          ],
          [
           0.5555555555555556,
           "#cf4446"
          ],
          [
           0.6666666666666666,
           "#ed6925"
          ],
          [
           0.7777777777777778,
           "#fb9b06"
          ],
          [
           0.8888888888888888,
           "#f7d13d"
          ],
          [
           1,
           "#fcffa4"
          ]
         ],
         "locationmode": "USA-states",
         "locations": [
          "AL",
          "AK",
          "AZ",
          "AR",
          "KS",
          "CA",
          "CO",
          "CT",
          "DE",
          "FL",
          "GA",
          "HI",
          "ID",
          "IL",
          "IN",
          "IA",
          "KY",
          "LA",
          "ME",
          "MD",
          "MA",
          "MI",
          "MN",
          "MS",
          "MO",
          "MT",
          "NE",
          "NV",
          "NH",
          "NJ",
          "NM",
          "NY",
          "NC",
          "ND",
          "OH",
          "OK",
          "OR",
          "PA",
          "RI",
          "SC",
          "SD",
          "TN",
          "TX",
          "UT",
          "VT",
          "VA",
          "WA",
          "WV",
          "WI",
          "WY"
         ],
         "marker": {
          "line": {
           "color": "rgb(255,255,255)",
           "width": 2
          }
         },
         "text": [
          "Crags: 32<br>Boulder: 958<br>Sport: 335<br>Toprope: 103<br>Trad: 254<br>Alpine: 0<br>Ice: 0",
          "Crags: 10<br>Boulder: 338<br>Sport: 713<br>Toprope: 216<br>Trad: 862<br>Alpine: 585<br>Ice: 244",
          "Crags: 3<br>Boulder: 2416<br>Sport: 4229<br>Toprope: 447<br>Trad: 3755<br>Alpine: 4<br>Ice: 0",
          "Crags: 4<br>Boulder: 508<br>Sport: 1093<br>Toprope: 60<br>Trad: 447<br>Alpine: 0<br>Ice: 0",
          "Crags: 23<br>Boulder: 177<br>Sport: 1<br>Toprope: 8<br>Trad: 5<br>Alpine: 0<br>Ice: 0",
          "Crags: 19<br>Boulder: 11426<br>Sport: 9143<br>Toprope: 3425<br>Trad: 11791<br>Alpine: 1308<br>Ice: 109",
          "Crags: 82<br>Boulder: 8545<br>Sport: 10298<br>Toprope: 2076<br>Trad: 10060<br>Alpine: 1489<br>Ice: 770",
          "Crags: 7<br>Boulder: 1239<br>Sport: 84<br>Toprope: 533<br>Trad: 604<br>Alpine: 0<br>Ice: 3",
          "Crags: 4<br>Boulder: 24<br>Sport: 0<br>Toprope: 15<br>Trad: 2<br>Alpine: 0<br>Ice: 0",
          "Crags: 15<br>Boulder: 26<br>Sport: 0<br>Toprope: 1<br>Trad: 0<br>Alpine: 0<br>Ice: 0",
          "Crags: 38<br>Boulder: 753<br>Sport: 64<br>Toprope: 121<br>Trad: 207<br>Alpine: 0<br>Ice: 4",
          "Crags: 6<br>Boulder: 191<br>Sport: 65<br>Toprope: 38<br>Trad: 18<br>Alpine: 0<br>Ice: 0",
          "Crags: 5<br>Boulder: 836<br>Sport: 1963<br>Toprope: 390<br>Trad: 990<br>Alpine: 209<br>Ice: 20",
          "Crags: 28<br>Boulder: 493<br>Sport: 567<br>Toprope: 185<br>Trad: 286<br>Alpine: 0<br>Ice: 17",
          "Crags: 8<br>Boulder: 100<br>Sport: 4<br>Toprope: 3<br>Trad: 0<br>Alpine: 0<br>Ice: 0",
          "Crags: 15<br>Boulder: 122<br>Sport: 109<br>Toprope: 52<br>Trad: 28<br>Alpine: 0<br>Ice: 1",
          "Crags: 11<br>Boulder: 118<br>Sport: 1705<br>Toprope: 40<br>Trad: 683<br>Alpine: 0<br>Ice: 1",
          "Crags: 1<br>Boulder: 2<br>Sport: 0<br>Toprope: 0<br>Trad: 0<br>Alpine: 0<br>Ice: 0",
          "Crags: 16<br>Boulder: 400<br>Sport: 218<br>Toprope: 165<br>Trad: 441<br>Alpine: 23<br>Ice: 40",
          "Crags: 40<br>Boulder: 724<br>Sport: 37<br>Toprope: 587<br>Trad: 508<br>Alpine: 0<br>Ice: 0",
          "Crags: 6<br>Boulder: 3846<br>Sport: 78<br>Toprope: 614<br>Trad: 311<br>Alpine: 3<br>Ice: 9",
          "Crags: 2<br>Boulder: 501<br>Sport: 93<br>Toprope: 268<br>Trad: 151<br>Alpine: 0<br>Ice: 96",
          "Crags: 43<br>Boulder: 843<br>Sport: 368<br>Toprope: 592<br>Trad: 383<br>Alpine: 0<br>Ice: 63",
          "Crags: 3<br>Boulder: 48<br>Sport: 0<br>Toprope: 25<br>Trad: 5<br>Alpine: 0<br>Ice: 0",
          "Crags: 52<br>Boulder: 460<br>Sport: 505<br>Toprope: 127<br>Trad: 143<br>Alpine: 0<br>Ice: 0",
          "Crags: 3<br>Boulder: 645<br>Sport: 1114<br>Toprope: 276<br>Trad: 757<br>Alpine: 279<br>Ice: 122",
          "Crags: 2<br>Boulder: 8<br>Sport: 0<br>Toprope: 1<br>Trad: 0<br>Alpine: 0<br>Ice: 0",
          "Crags: 3<br>Boulder: 800<br>Sport: 1741<br>Toprope: 202<br>Trad: 1735<br>Alpine: 68<br>Ice: 13",
          "Crags: 25<br>Boulder: 2312<br>Sport: 992<br>Toprope: 278<br>Trad: 2072<br>Alpine: 261<br>Ice: 333",
          "Crags: 5<br>Boulder: 340<br>Sport: 1<br>Toprope: 216<br>Trad: 185<br>Alpine: 0<br>Ice: 3",
          "Crags: 16<br>Boulder: 1019<br>Sport: 2376<br>Toprope: 524<br>Trad: 1769<br>Alpine: 336<br>Ice: 21",
          "Crags: 54<br>Boulder: 1280<br>Sport: 337<br>Toprope: 1141<br>Trad: 2292<br>Alpine: 33<br>Ice: 344",
          "Crags: 4<br>Boulder: 909<br>Sport: 564<br>Toprope: 288<br>Trad: 1595<br>Alpine: 10<br>Ice: 37",
          "Crags: 10<br>Boulder: 27<br>Sport: 7<br>Toprope: 13<br>Trad: 13<br>Alpine: 0<br>Ice: 0",
          "Crags: 6<br>Boulder: 848<br>Sport: 218<br>Toprope: 230<br>Trad: 105<br>Alpine: 0<br>Ice: 2",
          "Crags: 10<br>Boulder: 517<br>Sport: 160<br>Toprope: 248<br>Trad: 447<br>Alpine: 0<br>Ice: 0",
          "Crags: 8<br>Boulder: 517<br>Sport: 1845<br>Toprope: 454<br>Trad: 1129<br>Alpine: 74<br>Ice: 25",
          "Crags: 6<br>Boulder: 1559<br>Sport: 666<br>Toprope: 454<br>Trad: 434<br>Alpine: 19<br>Ice: 37",
          "Crags: 20<br>Boulder: 1307<br>Sport: 8<br>Toprope: 27<br>Trad: 4<br>Alpine: 0<br>Ice: 1",
          "Crags: 7<br>Boulder: 33<br>Sport: 33<br>Toprope: 16<br>Trad: 71<br>Alpine: 0<br>Ice: 0",
          "Crags: 8<br>Boulder: 831<br>Sport: 1363<br>Toprope: 254<br>Trad: 898<br>Alpine: 0<br>Ice: 20",
          "Crags: 56<br>Boulder: 663<br>Sport: 1078<br>Toprope: 60<br>Trad: 645<br>Alpine: 0<br>Ice: 1",
          "Crags: 51<br>Boulder: 1770<br>Sport: 1042<br>Toprope: 297<br>Trad: 274<br>Alpine: 5<br>Ice: 0",
          "Crags: 7<br>Boulder: 3435<br>Sport: 5329<br>Toprope: 708<br>Trad: 5676<br>Alpine: 636<br>Ice: 197",
          "Crags: 4<br>Boulder: 1035<br>Sport: 235<br>Toprope: 90<br>Trad: 341<br>Alpine: 37<br>Ice: 76",
          "Crags: 29<br>Boulder: 1078<br>Sport: 1152<br>Toprope: 197<br>Trad: 1042<br>Alpine: 0<br>Ice: 0",
          "Crags: 10<br>Boulder: 2027<br>Sport: 3260<br>Toprope: 563<br>Trad: 2620<br>Alpine: 410<br>Ice: 81",
          "Crags: 29<br>Boulder: 1078<br>Sport: 1152<br>Toprope: 197<br>Trad: 1042<br>Alpine: 0<br>Ice: 0",
          "Crags: 58<br>Boulder: 2580<br>Sport: 181<br>Toprope: 1202<br>Trad: 1109<br>Alpine: 0<br>Ice: 46",
          "Crags: 32<br>Boulder: 731<br>Sport: 3016<br>Toprope: 206<br>Trad: 1781<br>Alpine: 735<br>Ice: 118"
         ],
         "type": "choropleth",
         "z": [
          1563,
          2061,
          10262,
          2027,
          185,
          33874,
          28864,
          2075,
          39,
          27,
          1046,
          290,
          3881,
          1397,
          105,
          283,
          2509,
          2,
          1161,
          1526,
          4563,
          952,
          1872,
          77,
          1121,
          2639,
          8,
          4335,
          5688,
          678,
          5231,
          4708,
          3013,
          51,
          1341,
          1210,
          3580,
          2872,
          1332,
          137,
          3120,
          2398,
          3191,
          14652,
          1684,
          3333,
          7938,
          3333,
          4215,
          5479
         ]
        }
       ],
       "layout": {
        "geo": {
         "lakecolor": "rgb(85,173,240)",
         "scope": "usa",
         "showlakes": true
        },
        "template": {
         "data": {
          "bar": [
           {
            "error_x": {
             "color": "#2a3f5f"
            },
            "error_y": {
             "color": "#2a3f5f"
            },
            "marker": {
             "line": {
              "color": "#E5ECF6",
              "width": 0.5
             }
            },
            "type": "bar"
           }
          ],
          "barpolar": [
           {
            "marker": {
             "line": {
              "color": "#E5ECF6",
              "width": 0.5
             }
            },
            "type": "barpolar"
           }
          ],
          "carpet": [
           {
            "aaxis": {
             "endlinecolor": "#2a3f5f",
             "gridcolor": "white",
             "linecolor": "white",
             "minorgridcolor": "white",
             "startlinecolor": "#2a3f5f"
            },
            "baxis": {
             "endlinecolor": "#2a3f5f",
             "gridcolor": "white",
             "linecolor": "white",
             "minorgridcolor": "white",
             "startlinecolor": "#2a3f5f"
            },
            "type": "carpet"
           }
          ],
          "choropleth": [
           {
            "colorbar": {
             "outlinewidth": 0,
             "ticks": ""
            },
            "type": "choropleth"
           }
          ],
          "contour": [
           {
            "colorbar": {
             "outlinewidth": 0,
             "ticks": ""
            },
            "colorscale": [
             [
              0,
              "#0d0887"
             ],
             [
              0.1111111111111111,
              "#46039f"
             ],
             [
              0.2222222222222222,
              "#7201a8"
             ],
             [
              0.3333333333333333,
              "#9c179e"
             ],
             [
              0.4444444444444444,
              "#bd3786"
             ],
             [
              0.5555555555555556,
              "#d8576b"
             ],
             [
              0.6666666666666666,
              "#ed7953"
             ],
             [
              0.7777777777777778,
              "#fb9f3a"
             ],
             [
              0.8888888888888888,
              "#fdca26"
             ],
             [
              1,
              "#f0f921"
             ]
            ],
            "type": "contour"
           }
          ],
          "contourcarpet": [
           {
            "colorbar": {
             "outlinewidth": 0,
             "ticks": ""
            },
            "type": "contourcarpet"
           }
          ],
          "heatmap": [
           {
            "colorbar": {
             "outlinewidth": 0,
             "ticks": ""
            },
            "colorscale": [
             [
              0,
              "#0d0887"
             ],
             [
              0.1111111111111111,
              "#46039f"
             ],
             [
              0.2222222222222222,
              "#7201a8"
             ],
             [
              0.3333333333333333,
              "#9c179e"
             ],
             [
              0.4444444444444444,
              "#bd3786"
             ],
             [
              0.5555555555555556,
              "#d8576b"
             ],
             [
              0.6666666666666666,
              "#ed7953"
             ],
             [
              0.7777777777777778,
              "#fb9f3a"
             ],
             [
              0.8888888888888888,
              "#fdca26"
             ],
             [
              1,
              "#f0f921"
             ]
            ],
            "type": "heatmap"
           }
          ],
          "heatmapgl": [
           {
            "colorbar": {
             "outlinewidth": 0,
             "ticks": ""
            },
            "colorscale": [
             [
              0,
              "#0d0887"
             ],
             [
              0.1111111111111111,
              "#46039f"
             ],
             [
              0.2222222222222222,
              "#7201a8"
             ],
             [
              0.3333333333333333,
              "#9c179e"
             ],
             [
              0.4444444444444444,
              "#bd3786"
             ],
             [
              0.5555555555555556,
              "#d8576b"
             ],
             [
              0.6666666666666666,
              "#ed7953"
             ],
             [
              0.7777777777777778,
              "#fb9f3a"
             ],
             [
              0.8888888888888888,
              "#fdca26"
             ],
             [
              1,
              "#f0f921"
             ]
            ],
            "type": "heatmapgl"
           }
          ],
          "histogram": [
           {
            "marker": {
             "colorbar": {
              "outlinewidth": 0,
              "ticks": ""
             }
            },
            "type": "histogram"
           }
          ],
          "histogram2d": [
           {
            "colorbar": {
             "outlinewidth": 0,
             "ticks": ""
            },
            "colorscale": [
             [
              0,
              "#0d0887"
             ],
             [
              0.1111111111111111,
              "#46039f"
             ],
             [
              0.2222222222222222,
              "#7201a8"
             ],
             [
              0.3333333333333333,
              "#9c179e"
             ],
             [
              0.4444444444444444,
              "#bd3786"
             ],
             [
              0.5555555555555556,
              "#d8576b"
             ],
             [
              0.6666666666666666,
              "#ed7953"
             ],
             [
              0.7777777777777778,
              "#fb9f3a"
             ],
             [
              0.8888888888888888,
              "#fdca26"
             ],
             [
              1,
              "#f0f921"
             ]
            ],
            "type": "histogram2d"
           }
          ],
          "histogram2dcontour": [
           {
            "colorbar": {
             "outlinewidth": 0,
             "ticks": ""
            },
            "colorscale": [
             [
              0,
              "#0d0887"
             ],
             [
              0.1111111111111111,
              "#46039f"
             ],
             [
              0.2222222222222222,
              "#7201a8"
             ],
             [
              0.3333333333333333,
              "#9c179e"
             ],
             [
              0.4444444444444444,
              "#bd3786"
             ],
             [
              0.5555555555555556,
              "#d8576b"
             ],
             [
              0.6666666666666666,
              "#ed7953"
             ],
             [
              0.7777777777777778,
              "#fb9f3a"
             ],
             [
              0.8888888888888888,
              "#fdca26"
             ],
             [
              1,
              "#f0f921"
             ]
            ],
            "type": "histogram2dcontour"
           }
          ],
          "mesh3d": [
           {
            "colorbar": {
             "outlinewidth": 0,
             "ticks": ""
            },
            "type": "mesh3d"
           }
          ],
          "parcoords": [
           {
            "line": {
             "colorbar": {
              "outlinewidth": 0,
              "ticks": ""
             }
            },
            "type": "parcoords"
           }
          ],
          "pie": [
           {
            "automargin": true,
            "type": "pie"
           }
          ],
          "scatter": [
           {
            "marker": {
             "colorbar": {
              "outlinewidth": 0,
              "ticks": ""
             }
            },
            "type": "scatter"
           }
          ],
          "scatter3d": [
           {
            "line": {
             "colorbar": {
              "outlinewidth": 0,
              "ticks": ""
             }
            },
            "marker": {
             "colorbar": {
              "outlinewidth": 0,
              "ticks": ""
             }
            },
            "type": "scatter3d"
           }
          ],
          "scattercarpet": [
           {
            "marker": {
             "colorbar": {
              "outlinewidth": 0,
              "ticks": ""
             }
            },
            "type": "scattercarpet"
           }
          ],
          "scattergeo": [
           {
            "marker": {
             "colorbar": {
              "outlinewidth": 0,
              "ticks": ""
             }
            },
            "type": "scattergeo"
           }
          ],
          "scattergl": [
           {
            "marker": {
             "colorbar": {
              "outlinewidth": 0,
              "ticks": ""
             }
            },
            "type": "scattergl"
           }
          ],
          "scattermapbox": [
           {
            "marker": {
             "colorbar": {
              "outlinewidth": 0,
              "ticks": ""
             }
            },
            "type": "scattermapbox"
           }
          ],
          "scatterpolar": [
           {
            "marker": {
             "colorbar": {
              "outlinewidth": 0,
              "ticks": ""
             }
            },
            "type": "scatterpolar"
           }
          ],
          "scatterpolargl": [
           {
            "marker": {
             "colorbar": {
              "outlinewidth": 0,
              "ticks": ""
             }
            },
            "type": "scatterpolargl"
           }
          ],
          "scatterternary": [
           {
            "marker": {
             "colorbar": {
              "outlinewidth": 0,
              "ticks": ""
             }
            },
            "type": "scatterternary"
           }
          ],
          "surface": [
           {
            "colorbar": {
             "outlinewidth": 0,
             "ticks": ""
            },
            "colorscale": [
             [
              0,
              "#0d0887"
             ],
             [
              0.1111111111111111,
              "#46039f"
             ],
             [
              0.2222222222222222,
              "#7201a8"
             ],
             [
              0.3333333333333333,
              "#9c179e"
             ],
             [
              0.4444444444444444,
              "#bd3786"
             ],
             [
              0.5555555555555556,
              "#d8576b"
             ],
             [
              0.6666666666666666,
              "#ed7953"
             ],
             [
              0.7777777777777778,
              "#fb9f3a"
             ],
             [
              0.8888888888888888,
              "#fdca26"
             ],
             [
              1,
              "#f0f921"
             ]
            ],
            "type": "surface"
           }
          ],
          "table": [
           {
            "cells": {
             "fill": {
              "color": "#EBF0F8"
             },
             "line": {
              "color": "white"
             }
            },
            "header": {
             "fill": {
              "color": "#C8D4E3"
             },
             "line": {
              "color": "white"
             }
            },
            "type": "table"
           }
          ]
         },
         "layout": {
          "annotationdefaults": {
           "arrowcolor": "#2a3f5f",
           "arrowhead": 0,
           "arrowwidth": 1
          },
          "coloraxis": {
           "colorbar": {
            "outlinewidth": 0,
            "ticks": ""
           }
          },
          "colorscale": {
           "diverging": [
            [
             0,
             "#8e0152"
            ],
            [
             0.1,
             "#c51b7d"
            ],
            [
             0.2,
             "#de77ae"
            ],
            [
             0.3,
             "#f1b6da"
            ],
            [
             0.4,
             "#fde0ef"
            ],
            [
             0.5,
             "#f7f7f7"
            ],
            [
             0.6,
             "#e6f5d0"
            ],
            [
             0.7,
             "#b8e186"
            ],
            [
             0.8,
             "#7fbc41"
            ],
            [
             0.9,
             "#4d9221"
            ],
            [
             1,
             "#276419"
            ]
           ],
           "sequential": [
            [
             0,
             "#0d0887"
            ],
            [
             0.1111111111111111,
             "#46039f"
            ],
            [
             0.2222222222222222,
             "#7201a8"
            ],
            [
             0.3333333333333333,
             "#9c179e"
            ],
            [
             0.4444444444444444,
             "#bd3786"
            ],
            [
             0.5555555555555556,
             "#d8576b"
            ],
            [
             0.6666666666666666,
             "#ed7953"
            ],
            [
             0.7777777777777778,
             "#fb9f3a"
            ],
            [
             0.8888888888888888,
             "#fdca26"
            ],
            [
             1,
             "#f0f921"
            ]
           ],
           "sequentialminus": [
            [
             0,
             "#0d0887"
            ],
            [
             0.1111111111111111,
             "#46039f"
            ],
            [
             0.2222222222222222,
             "#7201a8"
            ],
            [
             0.3333333333333333,
             "#9c179e"
            ],
            [
             0.4444444444444444,
             "#bd3786"
            ],
            [
             0.5555555555555556,
             "#d8576b"
            ],
            [
             0.6666666666666666,
             "#ed7953"
            ],
            [
             0.7777777777777778,
             "#fb9f3a"
            ],
            [
             0.8888888888888888,
             "#fdca26"
            ],
            [
             1,
             "#f0f921"
            ]
           ]
          },
          "colorway": [
           "#636efa",
           "#EF553B",
           "#00cc96",
           "#ab63fa",
           "#FFA15A",
           "#19d3f3",
           "#FF6692",
           "#B6E880",
           "#FF97FF",
           "#FECB52"
          ],
          "font": {
           "color": "#2a3f5f"
          },
          "geo": {
           "bgcolor": "white",
           "lakecolor": "white",
           "landcolor": "#E5ECF6",
           "showlakes": true,
           "showland": true,
           "subunitcolor": "white"
          },
          "hoverlabel": {
           "align": "left"
          },
          "hovermode": "closest",
          "mapbox": {
           "style": "light"
          },
          "paper_bgcolor": "white",
          "plot_bgcolor": "#E5ECF6",
          "polar": {
           "angularaxis": {
            "gridcolor": "white",
            "linecolor": "white",
            "ticks": ""
           },
           "bgcolor": "#E5ECF6",
           "radialaxis": {
            "gridcolor": "white",
            "linecolor": "white",
            "ticks": ""
           }
          },
          "scene": {
           "xaxis": {
            "backgroundcolor": "#E5ECF6",
            "gridcolor": "white",
            "gridwidth": 2,
            "linecolor": "white",
            "showbackground": true,
            "ticks": "",
            "zerolinecolor": "white"
           },
           "yaxis": {
            "backgroundcolor": "#E5ECF6",
            "gridcolor": "white",
            "gridwidth": 2,
            "linecolor": "white",
            "showbackground": true,
            "ticks": "",
            "zerolinecolor": "white"
           },
           "zaxis": {
            "backgroundcolor": "#E5ECF6",
            "gridcolor": "white",
            "gridwidth": 2,
            "linecolor": "white",
            "showbackground": true,
            "ticks": "",
            "zerolinecolor": "white"
           }
          },
          "shapedefaults": {
           "line": {
            "color": "#2a3f5f"
           }
          },
          "ternary": {
           "aaxis": {
            "gridcolor": "white",
            "linecolor": "white",
            "ticks": ""
           },
           "baxis": {
            "gridcolor": "white",
            "linecolor": "white",
            "ticks": ""
           },
           "bgcolor": "#E5ECF6",
           "caxis": {
            "gridcolor": "white",
            "linecolor": "white",
            "ticks": ""
           }
          },
          "title": {
           "x": 0.05
          },
          "xaxis": {
           "automargin": true,
           "gridcolor": "white",
           "linecolor": "white",
           "ticks": "",
           "title": {
            "standoff": 15
           },
           "zerolinecolor": "white",
           "zerolinewidth": 2
          },
          "yaxis": {
           "automargin": true,
           "gridcolor": "white",
           "linecolor": "white",
           "ticks": "",
           "title": {
            "standoff": 15
           },
           "zerolinecolor": "white",
           "zerolinewidth": 2
          }
         }
        },
        "title": {
         "text": "Number of Climbs By State"
        }
       }
      },
      "text/html": [
       "<div>                            <div id=\"93e60a93-822e-4dfd-8911-41f2029b83ad\" class=\"plotly-graph-div\" style=\"height:525px; width:100%;\"></div>            <script type=\"text/javascript\">                require([\"plotly\"], function(Plotly) {                    window.PLOTLYENV=window.PLOTLYENV || {};                                    if (document.getElementById(\"93e60a93-822e-4dfd-8911-41f2029b83ad\")) {                    Plotly.newPlot(                        \"93e60a93-822e-4dfd-8911-41f2029b83ad\",                        [{\"colorbar\": {\"title\": {\"text\": \"Number of Climbs\"}}, \"colorscale\": [[0.0, \"#000004\"], [0.1111111111111111, \"#1b0c41\"], [0.2222222222222222, \"#4a0c6b\"], [0.3333333333333333, \"#781c6d\"], [0.4444444444444444, \"#a52c60\"], [0.5555555555555556, \"#cf4446\"], [0.6666666666666666, \"#ed6925\"], [0.7777777777777778, \"#fb9b06\"], [0.8888888888888888, \"#f7d13d\"], [1.0, \"#fcffa4\"]], \"locationmode\": \"USA-states\", \"locations\": [\"AL\", \"AK\", \"AZ\", \"AR\", \"KS\", \"CA\", \"CO\", \"CT\", \"DE\", \"FL\", \"GA\", \"HI\", \"ID\", \"IL\", \"IN\", \"IA\", \"KY\", \"LA\", \"ME\", \"MD\", \"MA\", \"MI\", \"MN\", \"MS\", \"MO\", \"MT\", \"NE\", \"NV\", \"NH\", \"NJ\", \"NM\", \"NY\", \"NC\", \"ND\", \"OH\", \"OK\", \"OR\", \"PA\", \"RI\", \"SC\", \"SD\", \"TN\", \"TX\", \"UT\", \"VT\", \"VA\", \"WA\", \"WV\", \"WI\", \"WY\"], \"marker\": {\"line\": {\"color\": \"rgb(255,255,255)\", \"width\": 2}}, \"text\": [\"Crags: 32<br>Boulder: 958<br>Sport: 335<br>Toprope: 103<br>Trad: 254<br>Alpine: 0<br>Ice: 0\", \"Crags: 10<br>Boulder: 338<br>Sport: 713<br>Toprope: 216<br>Trad: 862<br>Alpine: 585<br>Ice: 244\", \"Crags: 3<br>Boulder: 2416<br>Sport: 4229<br>Toprope: 447<br>Trad: 3755<br>Alpine: 4<br>Ice: 0\", \"Crags: 4<br>Boulder: 508<br>Sport: 1093<br>Toprope: 60<br>Trad: 447<br>Alpine: 0<br>Ice: 0\", \"Crags: 23<br>Boulder: 177<br>Sport: 1<br>Toprope: 8<br>Trad: 5<br>Alpine: 0<br>Ice: 0\", \"Crags: 19<br>Boulder: 11426<br>Sport: 9143<br>Toprope: 3425<br>Trad: 11791<br>Alpine: 1308<br>Ice: 109\", \"Crags: 82<br>Boulder: 8545<br>Sport: 10298<br>Toprope: 2076<br>Trad: 10060<br>Alpine: 1489<br>Ice: 770\", \"Crags: 7<br>Boulder: 1239<br>Sport: 84<br>Toprope: 533<br>Trad: 604<br>Alpine: 0<br>Ice: 3\", \"Crags: 4<br>Boulder: 24<br>Sport: 0<br>Toprope: 15<br>Trad: 2<br>Alpine: 0<br>Ice: 0\", \"Crags: 15<br>Boulder: 26<br>Sport: 0<br>Toprope: 1<br>Trad: 0<br>Alpine: 0<br>Ice: 0\", \"Crags: 38<br>Boulder: 753<br>Sport: 64<br>Toprope: 121<br>Trad: 207<br>Alpine: 0<br>Ice: 4\", \"Crags: 6<br>Boulder: 191<br>Sport: 65<br>Toprope: 38<br>Trad: 18<br>Alpine: 0<br>Ice: 0\", \"Crags: 5<br>Boulder: 836<br>Sport: 1963<br>Toprope: 390<br>Trad: 990<br>Alpine: 209<br>Ice: 20\", \"Crags: 28<br>Boulder: 493<br>Sport: 567<br>Toprope: 185<br>Trad: 286<br>Alpine: 0<br>Ice: 17\", \"Crags: 8<br>Boulder: 100<br>Sport: 4<br>Toprope: 3<br>Trad: 0<br>Alpine: 0<br>Ice: 0\", \"Crags: 15<br>Boulder: 122<br>Sport: 109<br>Toprope: 52<br>Trad: 28<br>Alpine: 0<br>Ice: 1\", \"Crags: 11<br>Boulder: 118<br>Sport: 1705<br>Toprope: 40<br>Trad: 683<br>Alpine: 0<br>Ice: 1\", \"Crags: 1<br>Boulder: 2<br>Sport: 0<br>Toprope: 0<br>Trad: 0<br>Alpine: 0<br>Ice: 0\", \"Crags: 16<br>Boulder: 400<br>Sport: 218<br>Toprope: 165<br>Trad: 441<br>Alpine: 23<br>Ice: 40\", \"Crags: 40<br>Boulder: 724<br>Sport: 37<br>Toprope: 587<br>Trad: 508<br>Alpine: 0<br>Ice: 0\", \"Crags: 6<br>Boulder: 3846<br>Sport: 78<br>Toprope: 614<br>Trad: 311<br>Alpine: 3<br>Ice: 9\", \"Crags: 2<br>Boulder: 501<br>Sport: 93<br>Toprope: 268<br>Trad: 151<br>Alpine: 0<br>Ice: 96\", \"Crags: 43<br>Boulder: 843<br>Sport: 368<br>Toprope: 592<br>Trad: 383<br>Alpine: 0<br>Ice: 63\", \"Crags: 3<br>Boulder: 48<br>Sport: 0<br>Toprope: 25<br>Trad: 5<br>Alpine: 0<br>Ice: 0\", \"Crags: 52<br>Boulder: 460<br>Sport: 505<br>Toprope: 127<br>Trad: 143<br>Alpine: 0<br>Ice: 0\", \"Crags: 3<br>Boulder: 645<br>Sport: 1114<br>Toprope: 276<br>Trad: 757<br>Alpine: 279<br>Ice: 122\", \"Crags: 2<br>Boulder: 8<br>Sport: 0<br>Toprope: 1<br>Trad: 0<br>Alpine: 0<br>Ice: 0\", \"Crags: 3<br>Boulder: 800<br>Sport: 1741<br>Toprope: 202<br>Trad: 1735<br>Alpine: 68<br>Ice: 13\", \"Crags: 25<br>Boulder: 2312<br>Sport: 992<br>Toprope: 278<br>Trad: 2072<br>Alpine: 261<br>Ice: 333\", \"Crags: 5<br>Boulder: 340<br>Sport: 1<br>Toprope: 216<br>Trad: 185<br>Alpine: 0<br>Ice: 3\", \"Crags: 16<br>Boulder: 1019<br>Sport: 2376<br>Toprope: 524<br>Trad: 1769<br>Alpine: 336<br>Ice: 21\", \"Crags: 54<br>Boulder: 1280<br>Sport: 337<br>Toprope: 1141<br>Trad: 2292<br>Alpine: 33<br>Ice: 344\", \"Crags: 4<br>Boulder: 909<br>Sport: 564<br>Toprope: 288<br>Trad: 1595<br>Alpine: 10<br>Ice: 37\", \"Crags: 10<br>Boulder: 27<br>Sport: 7<br>Toprope: 13<br>Trad: 13<br>Alpine: 0<br>Ice: 0\", \"Crags: 6<br>Boulder: 848<br>Sport: 218<br>Toprope: 230<br>Trad: 105<br>Alpine: 0<br>Ice: 2\", \"Crags: 10<br>Boulder: 517<br>Sport: 160<br>Toprope: 248<br>Trad: 447<br>Alpine: 0<br>Ice: 0\", \"Crags: 8<br>Boulder: 517<br>Sport: 1845<br>Toprope: 454<br>Trad: 1129<br>Alpine: 74<br>Ice: 25\", \"Crags: 6<br>Boulder: 1559<br>Sport: 666<br>Toprope: 454<br>Trad: 434<br>Alpine: 19<br>Ice: 37\", \"Crags: 20<br>Boulder: 1307<br>Sport: 8<br>Toprope: 27<br>Trad: 4<br>Alpine: 0<br>Ice: 1\", \"Crags: 7<br>Boulder: 33<br>Sport: 33<br>Toprope: 16<br>Trad: 71<br>Alpine: 0<br>Ice: 0\", \"Crags: 8<br>Boulder: 831<br>Sport: 1363<br>Toprope: 254<br>Trad: 898<br>Alpine: 0<br>Ice: 20\", \"Crags: 56<br>Boulder: 663<br>Sport: 1078<br>Toprope: 60<br>Trad: 645<br>Alpine: 0<br>Ice: 1\", \"Crags: 51<br>Boulder: 1770<br>Sport: 1042<br>Toprope: 297<br>Trad: 274<br>Alpine: 5<br>Ice: 0\", \"Crags: 7<br>Boulder: 3435<br>Sport: 5329<br>Toprope: 708<br>Trad: 5676<br>Alpine: 636<br>Ice: 197\", \"Crags: 4<br>Boulder: 1035<br>Sport: 235<br>Toprope: 90<br>Trad: 341<br>Alpine: 37<br>Ice: 76\", \"Crags: 29<br>Boulder: 1078<br>Sport: 1152<br>Toprope: 197<br>Trad: 1042<br>Alpine: 0<br>Ice: 0\", \"Crags: 10<br>Boulder: 2027<br>Sport: 3260<br>Toprope: 563<br>Trad: 2620<br>Alpine: 410<br>Ice: 81\", \"Crags: 29<br>Boulder: 1078<br>Sport: 1152<br>Toprope: 197<br>Trad: 1042<br>Alpine: 0<br>Ice: 0\", \"Crags: 58<br>Boulder: 2580<br>Sport: 181<br>Toprope: 1202<br>Trad: 1109<br>Alpine: 0<br>Ice: 46\", \"Crags: 32<br>Boulder: 731<br>Sport: 3016<br>Toprope: 206<br>Trad: 1781<br>Alpine: 735<br>Ice: 118\"], \"type\": \"choropleth\", \"z\": [1563, 2061, 10262, 2027, 185, 33874, 28864, 2075, 39, 27, 1046, 290, 3881, 1397, 105, 283, 2509, 2, 1161, 1526, 4563, 952, 1872, 77, 1121, 2639, 8, 4335, 5688, 678, 5231, 4708, 3013, 51, 1341, 1210, 3580, 2872, 1332, 137, 3120, 2398, 3191, 14652, 1684, 3333, 7938, 3333, 4215, 5479]}],                        {\"geo\": {\"lakecolor\": \"rgb(85,173,240)\", \"scope\": \"usa\", \"showlakes\": true}, \"template\": {\"data\": {\"bar\": [{\"error_x\": {\"color\": \"#2a3f5f\"}, \"error_y\": {\"color\": \"#2a3f5f\"}, \"marker\": {\"line\": {\"color\": \"#E5ECF6\", \"width\": 0.5}}, \"type\": \"bar\"}], \"barpolar\": [{\"marker\": {\"line\": {\"color\": \"#E5ECF6\", \"width\": 0.5}}, \"type\": \"barpolar\"}], \"carpet\": [{\"aaxis\": {\"endlinecolor\": \"#2a3f5f\", \"gridcolor\": \"white\", \"linecolor\": \"white\", \"minorgridcolor\": \"white\", \"startlinecolor\": \"#2a3f5f\"}, \"baxis\": {\"endlinecolor\": \"#2a3f5f\", \"gridcolor\": \"white\", \"linecolor\": \"white\", \"minorgridcolor\": \"white\", \"startlinecolor\": \"#2a3f5f\"}, \"type\": \"carpet\"}], \"choropleth\": [{\"colorbar\": {\"outlinewidth\": 0, \"ticks\": \"\"}, \"type\": \"choropleth\"}], \"contour\": [{\"colorbar\": {\"outlinewidth\": 0, \"ticks\": \"\"}, \"colorscale\": [[0.0, \"#0d0887\"], [0.1111111111111111, \"#46039f\"], [0.2222222222222222, \"#7201a8\"], [0.3333333333333333, \"#9c179e\"], [0.4444444444444444, \"#bd3786\"], [0.5555555555555556, \"#d8576b\"], [0.6666666666666666, \"#ed7953\"], [0.7777777777777778, \"#fb9f3a\"], [0.8888888888888888, \"#fdca26\"], [1.0, \"#f0f921\"]], \"type\": \"contour\"}], \"contourcarpet\": [{\"colorbar\": {\"outlinewidth\": 0, \"ticks\": \"\"}, \"type\": \"contourcarpet\"}], \"heatmap\": [{\"colorbar\": {\"outlinewidth\": 0, \"ticks\": \"\"}, \"colorscale\": [[0.0, \"#0d0887\"], [0.1111111111111111, \"#46039f\"], [0.2222222222222222, \"#7201a8\"], [0.3333333333333333, \"#9c179e\"], [0.4444444444444444, \"#bd3786\"], [0.5555555555555556, \"#d8576b\"], [0.6666666666666666, \"#ed7953\"], [0.7777777777777778, \"#fb9f3a\"], [0.8888888888888888, \"#fdca26\"], [1.0, \"#f0f921\"]], \"type\": \"heatmap\"}], \"heatmapgl\": [{\"colorbar\": {\"outlinewidth\": 0, \"ticks\": \"\"}, \"colorscale\": [[0.0, \"#0d0887\"], [0.1111111111111111, \"#46039f\"], [0.2222222222222222, \"#7201a8\"], [0.3333333333333333, \"#9c179e\"], [0.4444444444444444, \"#bd3786\"], [0.5555555555555556, \"#d8576b\"], [0.6666666666666666, \"#ed7953\"], [0.7777777777777778, \"#fb9f3a\"], [0.8888888888888888, \"#fdca26\"], [1.0, \"#f0f921\"]], \"type\": \"heatmapgl\"}], \"histogram\": [{\"marker\": {\"colorbar\": {\"outlinewidth\": 0, \"ticks\": \"\"}}, \"type\": \"histogram\"}], \"histogram2d\": [{\"colorbar\": {\"outlinewidth\": 0, \"ticks\": \"\"}, \"colorscale\": [[0.0, \"#0d0887\"], [0.1111111111111111, \"#46039f\"], [0.2222222222222222, \"#7201a8\"], [0.3333333333333333, \"#9c179e\"], [0.4444444444444444, \"#bd3786\"], [0.5555555555555556, \"#d8576b\"], [0.6666666666666666, \"#ed7953\"], [0.7777777777777778, \"#fb9f3a\"], [0.8888888888888888, \"#fdca26\"], [1.0, \"#f0f921\"]], \"type\": \"histogram2d\"}], \"histogram2dcontour\": [{\"colorbar\": {\"outlinewidth\": 0, \"ticks\": \"\"}, \"colorscale\": [[0.0, \"#0d0887\"], [0.1111111111111111, \"#46039f\"], [0.2222222222222222, \"#7201a8\"], [0.3333333333333333, \"#9c179e\"], [0.4444444444444444, \"#bd3786\"], [0.5555555555555556, \"#d8576b\"], [0.6666666666666666, \"#ed7953\"], [0.7777777777777778, \"#fb9f3a\"], [0.8888888888888888, \"#fdca26\"], [1.0, \"#f0f921\"]], \"type\": \"histogram2dcontour\"}], \"mesh3d\": [{\"colorbar\": {\"outlinewidth\": 0, \"ticks\": \"\"}, \"type\": \"mesh3d\"}], \"parcoords\": [{\"line\": {\"colorbar\": {\"outlinewidth\": 0, \"ticks\": \"\"}}, \"type\": \"parcoords\"}], \"pie\": [{\"automargin\": true, \"type\": \"pie\"}], \"scatter\": [{\"marker\": {\"colorbar\": {\"outlinewidth\": 0, \"ticks\": \"\"}}, \"type\": \"scatter\"}], \"scatter3d\": [{\"line\": {\"colorbar\": {\"outlinewidth\": 0, \"ticks\": \"\"}}, \"marker\": {\"colorbar\": {\"outlinewidth\": 0, \"ticks\": \"\"}}, \"type\": \"scatter3d\"}], \"scattercarpet\": [{\"marker\": {\"colorbar\": {\"outlinewidth\": 0, \"ticks\": \"\"}}, \"type\": \"scattercarpet\"}], \"scattergeo\": [{\"marker\": {\"colorbar\": {\"outlinewidth\": 0, \"ticks\": \"\"}}, \"type\": \"scattergeo\"}], \"scattergl\": [{\"marker\": {\"colorbar\": {\"outlinewidth\": 0, \"ticks\": \"\"}}, \"type\": \"scattergl\"}], \"scattermapbox\": [{\"marker\": {\"colorbar\": {\"outlinewidth\": 0, \"ticks\": \"\"}}, \"type\": \"scattermapbox\"}], \"scatterpolar\": [{\"marker\": {\"colorbar\": {\"outlinewidth\": 0, \"ticks\": \"\"}}, \"type\": \"scatterpolar\"}], \"scatterpolargl\": [{\"marker\": {\"colorbar\": {\"outlinewidth\": 0, \"ticks\": \"\"}}, \"type\": \"scatterpolargl\"}], \"scatterternary\": [{\"marker\": {\"colorbar\": {\"outlinewidth\": 0, \"ticks\": \"\"}}, \"type\": \"scatterternary\"}], \"surface\": [{\"colorbar\": {\"outlinewidth\": 0, \"ticks\": \"\"}, \"colorscale\": [[0.0, \"#0d0887\"], [0.1111111111111111, \"#46039f\"], [0.2222222222222222, \"#7201a8\"], [0.3333333333333333, \"#9c179e\"], [0.4444444444444444, \"#bd3786\"], [0.5555555555555556, \"#d8576b\"], [0.6666666666666666, \"#ed7953\"], [0.7777777777777778, \"#fb9f3a\"], [0.8888888888888888, \"#fdca26\"], [1.0, \"#f0f921\"]], \"type\": \"surface\"}], \"table\": [{\"cells\": {\"fill\": {\"color\": \"#EBF0F8\"}, \"line\": {\"color\": \"white\"}}, \"header\": {\"fill\": {\"color\": \"#C8D4E3\"}, \"line\": {\"color\": \"white\"}}, \"type\": \"table\"}]}, \"layout\": {\"annotationdefaults\": {\"arrowcolor\": \"#2a3f5f\", \"arrowhead\": 0, \"arrowwidth\": 1}, \"coloraxis\": {\"colorbar\": {\"outlinewidth\": 0, \"ticks\": \"\"}}, \"colorscale\": {\"diverging\": [[0, \"#8e0152\"], [0.1, \"#c51b7d\"], [0.2, \"#de77ae\"], [0.3, \"#f1b6da\"], [0.4, \"#fde0ef\"], [0.5, \"#f7f7f7\"], [0.6, \"#e6f5d0\"], [0.7, \"#b8e186\"], [0.8, \"#7fbc41\"], [0.9, \"#4d9221\"], [1, \"#276419\"]], \"sequential\": [[0.0, \"#0d0887\"], [0.1111111111111111, \"#46039f\"], [0.2222222222222222, \"#7201a8\"], [0.3333333333333333, \"#9c179e\"], [0.4444444444444444, \"#bd3786\"], [0.5555555555555556, \"#d8576b\"], [0.6666666666666666, \"#ed7953\"], [0.7777777777777778, \"#fb9f3a\"], [0.8888888888888888, \"#fdca26\"], [1.0, \"#f0f921\"]], \"sequentialminus\": [[0.0, \"#0d0887\"], [0.1111111111111111, \"#46039f\"], [0.2222222222222222, \"#7201a8\"], [0.3333333333333333, \"#9c179e\"], [0.4444444444444444, \"#bd3786\"], [0.5555555555555556, \"#d8576b\"], [0.6666666666666666, \"#ed7953\"], [0.7777777777777778, \"#fb9f3a\"], [0.8888888888888888, \"#fdca26\"], [1.0, \"#f0f921\"]]}, \"colorway\": [\"#636efa\", \"#EF553B\", \"#00cc96\", \"#ab63fa\", \"#FFA15A\", \"#19d3f3\", \"#FF6692\", \"#B6E880\", \"#FF97FF\", \"#FECB52\"], \"font\": {\"color\": \"#2a3f5f\"}, \"geo\": {\"bgcolor\": \"white\", \"lakecolor\": \"white\", \"landcolor\": \"#E5ECF6\", \"showlakes\": true, \"showland\": true, \"subunitcolor\": \"white\"}, \"hoverlabel\": {\"align\": \"left\"}, \"hovermode\": \"closest\", \"mapbox\": {\"style\": \"light\"}, \"paper_bgcolor\": \"white\", \"plot_bgcolor\": \"#E5ECF6\", \"polar\": {\"angularaxis\": {\"gridcolor\": \"white\", \"linecolor\": \"white\", \"ticks\": \"\"}, \"bgcolor\": \"#E5ECF6\", \"radialaxis\": {\"gridcolor\": \"white\", \"linecolor\": \"white\", \"ticks\": \"\"}}, \"scene\": {\"xaxis\": {\"backgroundcolor\": \"#E5ECF6\", \"gridcolor\": \"white\", \"gridwidth\": 2, \"linecolor\": \"white\", \"showbackground\": true, \"ticks\": \"\", \"zerolinecolor\": \"white\"}, \"yaxis\": {\"backgroundcolor\": \"#E5ECF6\", \"gridcolor\": \"white\", \"gridwidth\": 2, \"linecolor\": \"white\", \"showbackground\": true, \"ticks\": \"\", \"zerolinecolor\": \"white\"}, \"zaxis\": {\"backgroundcolor\": \"#E5ECF6\", \"gridcolor\": \"white\", \"gridwidth\": 2, \"linecolor\": \"white\", \"showbackground\": true, \"ticks\": \"\", \"zerolinecolor\": \"white\"}}, \"shapedefaults\": {\"line\": {\"color\": \"#2a3f5f\"}}, \"ternary\": {\"aaxis\": {\"gridcolor\": \"white\", \"linecolor\": \"white\", \"ticks\": \"\"}, \"baxis\": {\"gridcolor\": \"white\", \"linecolor\": \"white\", \"ticks\": \"\"}, \"bgcolor\": \"#E5ECF6\", \"caxis\": {\"gridcolor\": \"white\", \"linecolor\": \"white\", \"ticks\": \"\"}}, \"title\": {\"x\": 0.05}, \"xaxis\": {\"automargin\": true, \"gridcolor\": \"white\", \"linecolor\": \"white\", \"ticks\": \"\", \"title\": {\"standoff\": 15}, \"zerolinecolor\": \"white\", \"zerolinewidth\": 2}, \"yaxis\": {\"automargin\": true, \"gridcolor\": \"white\", \"linecolor\": \"white\", \"ticks\": \"\", \"title\": {\"standoff\": 15}, \"zerolinecolor\": \"white\", \"zerolinewidth\": 2}}}, \"title\": {\"text\": \"Number of Climbs By State\"}},                        {\"responsive\": true}                    ).then(function(){\n",
       "                            \n",
       "var gd = document.getElementById('93e60a93-822e-4dfd-8911-41f2029b83ad');\n",
       "var x = new MutationObserver(function (mutations, observer) {{\n",
       "        var display = window.getComputedStyle(gd).display;\n",
       "        if (!display || display === 'none') {{\n",
       "            console.log([gd, 'removed!']);\n",
       "            Plotly.purge(gd);\n",
       "            observer.disconnect();\n",
       "        }}\n",
       "}});\n",
       "\n",
       "// Listen for the removal of the full notebook cells\n",
       "var notebookContainer = gd.closest('#notebook-container');\n",
       "if (notebookContainer) {{\n",
       "    x.observe(notebookContainer, {childList: true});\n",
       "}}\n",
       "\n",
       "// Listen for the clearing of the current output cell\n",
       "var outputEl = gd.closest('.output');\n",
       "if (outputEl) {{\n",
       "    x.observe(outputEl, {childList: true});\n",
       "}}\n",
       "\n",
       "                        })                };                });            </script>        </div>"
      ]
     },
     "metadata": {},
     "output_type": "display_data"
    }
   ],
   "source": [
    "iplot(choromap)"
   ]
  },
  {
   "cell_type": "code",
   "execution_count": 28,
   "metadata": {},
   "outputs": [],
   "source": [
    "#agg_df.to_csv('agg_df.csv')\n",
    "#agg_df.to_csv('climb_data.csv')\n",
    "#all_df.to_csv('all_df.csv')\n",
    "#climb_df.to_csv('climb_df.csv')"
   ]
  },
  {
   "cell_type": "code",
   "execution_count": 29,
   "metadata": {},
   "outputs": [],
   "source": [
    "pivot_df = climb_df.groupby(by = ['ST','type']).sum()\n",
    "pivot_df['STtype'] = pivot_df.index\n",
    "pivot_df['State'] = pivot_df['STtype'].apply(lambda x: x[0])\n",
    "pivot_df['Type'] = pivot_df['STtype'].apply(lambda x: x[1])\n",
    "pivot_df.drop('STtype', axis = 1, inplace = True)\n",
    "pivot_df.columns = ['Climbs', 'State', 'Type']"
   ]
  },
  {
   "cell_type": "code",
   "execution_count": 30,
   "metadata": {},
   "outputs": [],
   "source": [
    "fig = px.choropleth(pivot_df, \n",
    "                    locations = 'State',\n",
    "                    color=\"Climbs\", \n",
    "                    animation_frame=\"Type\",\n",
    "                    color_continuous_scale=\"Inferno\",\n",
    "                    locationmode='USA-states',\n",
    "                    scope=\"usa\",\n",
    "                    #range_color=(0, 20),\n",
    "                    title='Climbs by State and Type',\n",
    "                    #height=600\n",
    "                   )"
   ]
  },
  {
   "cell_type": "code",
   "execution_count": 31,
   "metadata": {},
   "outputs": [
    {
     "data": {
      "application/vnd.plotly.v1+json": {
       "config": {
        "plotlyServerURL": "https://plot.ly"
       },
       "data": [
        {
         "coloraxis": "coloraxis",
         "geo": "geo",
         "hovertemplate": "Type=Aid<br>State=%{location}<br>Climbs=%{z}<extra></extra>",
         "locationmode": "USA-states",
         "locations": [
          "AK",
          "AL",
          "AR",
          "AZ",
          "CA",
          "CO",
          "CT",
          "DE",
          "FL",
          "GA",
          "HI",
          "IA",
          "ID",
          "IL",
          "IN",
          "KS",
          "KY",
          "LA",
          "MA",
          "MD",
          "ME",
          "MI",
          "MN",
          "MO",
          "MS",
          "MT",
          "NC",
          "ND",
          "NE",
          "NH",
          "NJ",
          "NM",
          "NV",
          "NY",
          "OH",
          "OK",
          "OR",
          "PA",
          "RI",
          "SC",
          "SD",
          "TN",
          "TX",
          "UT",
          "VA",
          "VT",
          "WA",
          "WI",
          "WV",
          "WY"
         ],
         "name": "",
         "type": "choropleth",
         "z": [
          21,
          1,
          1,
          91,
          295,
          231,
          1,
          0,
          0,
          6,
          0,
          0,
          15,
          2,
          0,
          0,
          4,
          0,
          2,
          8,
          3,
          1,
          3,
          0,
          2,
          16,
          26,
          0,
          0,
          48,
          15,
          24,
          23,
          21,
          1,
          19,
          24,
          5,
          0,
          0,
          4,
          22,
          2,
          558,
          4,
          4,
          48,
          0,
          4,
          60
         ]
        }
       ],
       "frames": [
        {
         "data": [
          {
           "coloraxis": "coloraxis",
           "geo": "geo",
           "hovertemplate": "Type=Aid<br>State=%{location}<br>Climbs=%{z}<extra></extra>",
           "locationmode": "USA-states",
           "locations": [
            "AK",
            "AL",
            "AR",
            "AZ",
            "CA",
            "CO",
            "CT",
            "DE",
            "FL",
            "GA",
            "HI",
            "IA",
            "ID",
            "IL",
            "IN",
            "KS",
            "KY",
            "LA",
            "MA",
            "MD",
            "ME",
            "MI",
            "MN",
            "MO",
            "MS",
            "MT",
            "NC",
            "ND",
            "NE",
            "NH",
            "NJ",
            "NM",
            "NV",
            "NY",
            "OH",
            "OK",
            "OR",
            "PA",
            "RI",
            "SC",
            "SD",
            "TN",
            "TX",
            "UT",
            "VA",
            "VT",
            "WA",
            "WI",
            "WV",
            "WY"
           ],
           "name": "",
           "type": "choropleth",
           "z": [
            21,
            1,
            1,
            91,
            295,
            231,
            1,
            0,
            0,
            6,
            0,
            0,
            15,
            2,
            0,
            0,
            4,
            0,
            2,
            8,
            3,
            1,
            3,
            0,
            2,
            16,
            26,
            0,
            0,
            48,
            15,
            24,
            23,
            21,
            1,
            19,
            24,
            5,
            0,
            0,
            4,
            22,
            2,
            558,
            4,
            4,
            48,
            0,
            4,
            60
           ]
          }
         ],
         "name": "Aid"
        },
        {
         "data": [
          {
           "coloraxis": "coloraxis",
           "geo": "geo",
           "hovertemplate": "Type=Alpine<br>State=%{location}<br>Climbs=%{z}<extra></extra>",
           "locationmode": "USA-states",
           "locations": [
            "AK",
            "AL",
            "AR",
            "AZ",
            "CA",
            "CO",
            "CT",
            "DE",
            "FL",
            "GA",
            "HI",
            "IA",
            "ID",
            "IL",
            "IN",
            "KS",
            "KY",
            "LA",
            "MA",
            "MD",
            "ME",
            "MI",
            "MN",
            "MO",
            "MS",
            "MT",
            "NC",
            "ND",
            "NE",
            "NH",
            "NJ",
            "NM",
            "NV",
            "NY",
            "OH",
            "OK",
            "OR",
            "PA",
            "RI",
            "SC",
            "SD",
            "TN",
            "TX",
            "UT",
            "VA",
            "VT",
            "WA",
            "WI",
            "WV",
            "WY"
           ],
           "name": "",
           "type": "choropleth",
           "z": [
            585,
            0,
            0,
            4,
            1308,
            1489,
            0,
            0,
            0,
            0,
            0,
            0,
            209,
            0,
            0,
            0,
            0,
            0,
            3,
            0,
            23,
            0,
            0,
            0,
            0,
            279,
            10,
            0,
            0,
            261,
            0,
            336,
            68,
            33,
            0,
            0,
            74,
            19,
            0,
            0,
            0,
            0,
            5,
            636,
            0,
            37,
            410,
            0,
            0,
            735
           ]
          }
         ],
         "name": "Alpine"
        },
        {
         "data": [
          {
           "coloraxis": "coloraxis",
           "geo": "geo",
           "hovertemplate": "Type=Boulder<br>State=%{location}<br>Climbs=%{z}<extra></extra>",
           "locationmode": "USA-states",
           "locations": [
            "AK",
            "AL",
            "AR",
            "AZ",
            "CA",
            "CO",
            "CT",
            "DE",
            "FL",
            "GA",
            "HI",
            "IA",
            "ID",
            "IL",
            "IN",
            "KS",
            "KY",
            "LA",
            "MA",
            "MD",
            "ME",
            "MI",
            "MN",
            "MO",
            "MS",
            "MT",
            "NC",
            "ND",
            "NE",
            "NH",
            "NJ",
            "NM",
            "NV",
            "NY",
            "OH",
            "OK",
            "OR",
            "PA",
            "RI",
            "SC",
            "SD",
            "TN",
            "TX",
            "UT",
            "VA",
            "VT",
            "WA",
            "WI",
            "WV",
            "WY"
           ],
           "name": "",
           "type": "choropleth",
           "z": [
            338,
            958,
            508,
            2416,
            11426,
            8545,
            1239,
            24,
            26,
            753,
            191,
            122,
            836,
            493,
            100,
            177,
            118,
            2,
            3846,
            724,
            400,
            501,
            843,
            460,
            48,
            645,
            909,
            27,
            8,
            2312,
            340,
            1019,
            800,
            1280,
            848,
            517,
            517,
            1559,
            1307,
            33,
            831,
            663,
            1770,
            3435,
            1078,
            1035,
            2027,
            2580,
            1078,
            731
           ]
          }
         ],
         "name": "Boulder"
        },
        {
         "data": [
          {
           "coloraxis": "coloraxis",
           "geo": "geo",
           "hovertemplate": "Type=Ice<br>State=%{location}<br>Climbs=%{z}<extra></extra>",
           "locationmode": "USA-states",
           "locations": [
            "AK",
            "AL",
            "AR",
            "AZ",
            "CA",
            "CO",
            "CT",
            "DE",
            "FL",
            "GA",
            "HI",
            "IA",
            "ID",
            "IL",
            "IN",
            "KS",
            "KY",
            "LA",
            "MA",
            "MD",
            "ME",
            "MI",
            "MN",
            "MO",
            "MS",
            "MT",
            "NC",
            "ND",
            "NE",
            "NH",
            "NJ",
            "NM",
            "NV",
            "NY",
            "OH",
            "OK",
            "OR",
            "PA",
            "RI",
            "SC",
            "SD",
            "TN",
            "TX",
            "UT",
            "VA",
            "VT",
            "WA",
            "WI",
            "WV",
            "WY"
           ],
           "name": "",
           "type": "choropleth",
           "z": [
            244,
            0,
            0,
            0,
            109,
            770,
            3,
            0,
            0,
            4,
            0,
            1,
            20,
            17,
            0,
            0,
            1,
            0,
            9,
            0,
            40,
            96,
            63,
            0,
            0,
            122,
            37,
            0,
            0,
            333,
            3,
            21,
            13,
            344,
            2,
            0,
            25,
            37,
            1,
            0,
            20,
            1,
            0,
            197,
            0,
            76,
            81,
            46,
            0,
            118
           ]
          }
         ],
         "name": "Ice"
        },
        {
         "data": [
          {
           "coloraxis": "coloraxis",
           "geo": "geo",
           "hovertemplate": "Type=Mixed<br>State=%{location}<br>Climbs=%{z}<extra></extra>",
           "locationmode": "USA-states",
           "locations": [
            "AK",
            "AL",
            "AR",
            "AZ",
            "CA",
            "CO",
            "CT",
            "DE",
            "FL",
            "GA",
            "HI",
            "IA",
            "ID",
            "IL",
            "IN",
            "KS",
            "KY",
            "LA",
            "MA",
            "MD",
            "ME",
            "MI",
            "MN",
            "MO",
            "MS",
            "MT",
            "NC",
            "ND",
            "NE",
            "NH",
            "NJ",
            "NM",
            "NV",
            "NY",
            "OH",
            "OK",
            "OR",
            "PA",
            "RI",
            "SC",
            "SD",
            "TN",
            "TX",
            "UT",
            "VA",
            "VT",
            "WA",
            "WI",
            "WV",
            "WY"
           ],
           "name": "",
           "type": "choropleth",
           "z": [
            60,
            0,
            0,
            0,
            57,
            542,
            1,
            1,
            0,
            1,
            0,
            0,
            8,
            0,
            0,
            0,
            0,
            0,
            3,
            0,
            4,
            9,
            53,
            1,
            0,
            51,
            3,
            0,
            0,
            62,
            1,
            12,
            2,
            98,
            0,
            0,
            11,
            10,
            0,
            0,
            16,
            1,
            0,
            48,
            0,
            9,
            64,
            3,
            0,
            23
           ]
          }
         ],
         "name": "Mixed"
        },
        {
         "data": [
          {
           "coloraxis": "coloraxis",
           "geo": "geo",
           "hovertemplate": "Type=Sport<br>State=%{location}<br>Climbs=%{z}<extra></extra>",
           "locationmode": "USA-states",
           "locations": [
            "AK",
            "AL",
            "AR",
            "AZ",
            "CA",
            "CO",
            "CT",
            "DE",
            "FL",
            "GA",
            "HI",
            "IA",
            "ID",
            "IL",
            "IN",
            "KS",
            "KY",
            "LA",
            "MA",
            "MD",
            "ME",
            "MI",
            "MN",
            "MO",
            "MS",
            "MT",
            "NC",
            "ND",
            "NE",
            "NH",
            "NJ",
            "NM",
            "NV",
            "NY",
            "OH",
            "OK",
            "OR",
            "PA",
            "RI",
            "SC",
            "SD",
            "TN",
            "TX",
            "UT",
            "VA",
            "VT",
            "WA",
            "WI",
            "WV",
            "WY"
           ],
           "name": "",
           "type": "choropleth",
           "z": [
            713,
            335,
            1093,
            4229,
            9143,
            10298,
            84,
            0,
            0,
            64,
            65,
            109,
            1963,
            567,
            4,
            1,
            1705,
            0,
            78,
            37,
            218,
            93,
            368,
            505,
            0,
            1114,
            564,
            7,
            0,
            992,
            1,
            2376,
            1741,
            337,
            218,
            160,
            1845,
            666,
            8,
            33,
            1363,
            1078,
            1042,
            5329,
            1152,
            235,
            3260,
            181,
            1152,
            3016
           ]
          }
         ],
         "name": "Sport"
        },
        {
         "data": [
          {
           "coloraxis": "coloraxis",
           "geo": "geo",
           "hovertemplate": "Type=Toprope<br>State=%{location}<br>Climbs=%{z}<extra></extra>",
           "locationmode": "USA-states",
           "locations": [
            "AK",
            "AL",
            "AR",
            "AZ",
            "CA",
            "CO",
            "CT",
            "DE",
            "FL",
            "GA",
            "HI",
            "IA",
            "ID",
            "IL",
            "IN",
            "KS",
            "KY",
            "LA",
            "MA",
            "MD",
            "ME",
            "MI",
            "MN",
            "MO",
            "MS",
            "MT",
            "NC",
            "ND",
            "NE",
            "NH",
            "NJ",
            "NM",
            "NV",
            "NY",
            "OH",
            "OK",
            "OR",
            "PA",
            "RI",
            "SC",
            "SD",
            "TN",
            "TX",
            "UT",
            "VA",
            "VT",
            "WA",
            "WI",
            "WV",
            "WY"
           ],
           "name": "",
           "type": "choropleth",
           "z": [
            216,
            103,
            60,
            447,
            3425,
            2076,
            533,
            15,
            1,
            121,
            38,
            52,
            390,
            185,
            3,
            8,
            40,
            0,
            614,
            587,
            165,
            268,
            592,
            127,
            25,
            276,
            288,
            13,
            1,
            278,
            216,
            524,
            202,
            1141,
            230,
            248,
            454,
            454,
            27,
            16,
            254,
            60,
            297,
            708,
            197,
            90,
            563,
            1202,
            197,
            206
           ]
          }
         ],
         "name": "Toprope"
        },
        {
         "data": [
          {
           "coloraxis": "coloraxis",
           "geo": "geo",
           "hovertemplate": "Type=Trad<br>State=%{location}<br>Climbs=%{z}<extra></extra>",
           "locationmode": "USA-states",
           "locations": [
            "AK",
            "AL",
            "AR",
            "AZ",
            "CA",
            "CO",
            "CT",
            "DE",
            "FL",
            "GA",
            "HI",
            "IA",
            "ID",
            "IL",
            "IN",
            "KS",
            "KY",
            "LA",
            "MA",
            "MD",
            "ME",
            "MI",
            "MN",
            "MO",
            "MS",
            "MT",
            "NC",
            "ND",
            "NE",
            "NH",
            "NJ",
            "NM",
            "NV",
            "NY",
            "OH",
            "OK",
            "OR",
            "PA",
            "RI",
            "SC",
            "SD",
            "TN",
            "TX",
            "UT",
            "VA",
            "VT",
            "WA",
            "WI",
            "WV",
            "WY"
           ],
           "name": "",
           "type": "choropleth",
           "z": [
            862,
            254,
            447,
            3755,
            11791,
            10060,
            604,
            2,
            0,
            207,
            18,
            28,
            990,
            286,
            0,
            5,
            683,
            0,
            311,
            508,
            441,
            151,
            383,
            143,
            5,
            757,
            1595,
            13,
            0,
            2072,
            185,
            1769,
            1735,
            2292,
            105,
            447,
            1129,
            434,
            4,
            71,
            898,
            645,
            274,
            5676,
            1042,
            341,
            2620,
            1109,
            1042,
            1781
           ]
          }
         ],
         "name": "Trad"
        }
       ],
       "layout": {
        "coloraxis": {
         "colorbar": {
          "title": {
           "text": "Climbs"
          }
         },
         "colorscale": [
          [
           0,
           "#000004"
          ],
          [
           0.1111111111111111,
           "#1b0c41"
          ],
          [
           0.2222222222222222,
           "#4a0c6b"
          ],
          [
           0.3333333333333333,
           "#781c6d"
          ],
          [
           0.4444444444444444,
           "#a52c60"
          ],
          [
           0.5555555555555556,
           "#cf4446"
          ],
          [
           0.6666666666666666,
           "#ed6925"
          ],
          [
           0.7777777777777778,
           "#fb9b06"
          ],
          [
           0.8888888888888888,
           "#f7d13d"
          ],
          [
           1,
           "#fcffa4"
          ]
         ]
        },
        "geo": {
         "center": {},
         "domain": {
          "x": [
           0,
           1
          ],
          "y": [
           0,
           1
          ]
         },
         "scope": "usa"
        },
        "legend": {
         "tracegroupgap": 0
        },
        "sliders": [
         {
          "active": 0,
          "currentvalue": {
           "prefix": "Type="
          },
          "len": 0.9,
          "pad": {
           "b": 10,
           "t": 60
          },
          "steps": [
           {
            "args": [
             [
              "Aid"
             ],
             {
              "frame": {
               "duration": 0,
               "redraw": true
              },
              "fromcurrent": true,
              "mode": "immediate",
              "transition": {
               "duration": 0,
               "easing": "linear"
              }
             }
            ],
            "label": "Aid",
            "method": "animate"
           },
           {
            "args": [
             [
              "Alpine"
             ],
             {
              "frame": {
               "duration": 0,
               "redraw": true
              },
              "fromcurrent": true,
              "mode": "immediate",
              "transition": {
               "duration": 0,
               "easing": "linear"
              }
             }
            ],
            "label": "Alpine",
            "method": "animate"
           },
           {
            "args": [
             [
              "Boulder"
             ],
             {
              "frame": {
               "duration": 0,
               "redraw": true
              },
              "fromcurrent": true,
              "mode": "immediate",
              "transition": {
               "duration": 0,
               "easing": "linear"
              }
             }
            ],
            "label": "Boulder",
            "method": "animate"
           },
           {
            "args": [
             [
              "Ice"
             ],
             {
              "frame": {
               "duration": 0,
               "redraw": true
              },
              "fromcurrent": true,
              "mode": "immediate",
              "transition": {
               "duration": 0,
               "easing": "linear"
              }
             }
            ],
            "label": "Ice",
            "method": "animate"
           },
           {
            "args": [
             [
              "Mixed"
             ],
             {
              "frame": {
               "duration": 0,
               "redraw": true
              },
              "fromcurrent": true,
              "mode": "immediate",
              "transition": {
               "duration": 0,
               "easing": "linear"
              }
             }
            ],
            "label": "Mixed",
            "method": "animate"
           },
           {
            "args": [
             [
              "Sport"
             ],
             {
              "frame": {
               "duration": 0,
               "redraw": true
              },
              "fromcurrent": true,
              "mode": "immediate",
              "transition": {
               "duration": 0,
               "easing": "linear"
              }
             }
            ],
            "label": "Sport",
            "method": "animate"
           },
           {
            "args": [
             [
              "Toprope"
             ],
             {
              "frame": {
               "duration": 0,
               "redraw": true
              },
              "fromcurrent": true,
              "mode": "immediate",
              "transition": {
               "duration": 0,
               "easing": "linear"
              }
             }
            ],
            "label": "Toprope",
            "method": "animate"
           },
           {
            "args": [
             [
              "Trad"
             ],
             {
              "frame": {
               "duration": 0,
               "redraw": true
              },
              "fromcurrent": true,
              "mode": "immediate",
              "transition": {
               "duration": 0,
               "easing": "linear"
              }
             }
            ],
            "label": "Trad",
            "method": "animate"
           }
          ],
          "x": 0.1,
          "xanchor": "left",
          "y": 0,
          "yanchor": "top"
         }
        ],
        "template": {
         "data": {
          "bar": [
           {
            "error_x": {
             "color": "#2a3f5f"
            },
            "error_y": {
             "color": "#2a3f5f"
            },
            "marker": {
             "line": {
              "color": "#E5ECF6",
              "width": 0.5
             }
            },
            "type": "bar"
           }
          ],
          "barpolar": [
           {
            "marker": {
             "line": {
              "color": "#E5ECF6",
              "width": 0.5
             }
            },
            "type": "barpolar"
           }
          ],
          "carpet": [
           {
            "aaxis": {
             "endlinecolor": "#2a3f5f",
             "gridcolor": "white",
             "linecolor": "white",
             "minorgridcolor": "white",
             "startlinecolor": "#2a3f5f"
            },
            "baxis": {
             "endlinecolor": "#2a3f5f",
             "gridcolor": "white",
             "linecolor": "white",
             "minorgridcolor": "white",
             "startlinecolor": "#2a3f5f"
            },
            "type": "carpet"
           }
          ],
          "choropleth": [
           {
            "colorbar": {
             "outlinewidth": 0,
             "ticks": ""
            },
            "type": "choropleth"
           }
          ],
          "contour": [
           {
            "colorbar": {
             "outlinewidth": 0,
             "ticks": ""
            },
            "colorscale": [
             [
              0,
              "#0d0887"
             ],
             [
              0.1111111111111111,
              "#46039f"
             ],
             [
              0.2222222222222222,
              "#7201a8"
             ],
             [
              0.3333333333333333,
              "#9c179e"
             ],
             [
              0.4444444444444444,
              "#bd3786"
             ],
             [
              0.5555555555555556,
              "#d8576b"
             ],
             [
              0.6666666666666666,
              "#ed7953"
             ],
             [
              0.7777777777777778,
              "#fb9f3a"
             ],
             [
              0.8888888888888888,
              "#fdca26"
             ],
             [
              1,
              "#f0f921"
             ]
            ],
            "type": "contour"
           }
          ],
          "contourcarpet": [
           {
            "colorbar": {
             "outlinewidth": 0,
             "ticks": ""
            },
            "type": "contourcarpet"
           }
          ],
          "heatmap": [
           {
            "colorbar": {
             "outlinewidth": 0,
             "ticks": ""
            },
            "colorscale": [
             [
              0,
              "#0d0887"
             ],
             [
              0.1111111111111111,
              "#46039f"
             ],
             [
              0.2222222222222222,
              "#7201a8"
             ],
             [
              0.3333333333333333,
              "#9c179e"
             ],
             [
              0.4444444444444444,
              "#bd3786"
             ],
             [
              0.5555555555555556,
              "#d8576b"
             ],
             [
              0.6666666666666666,
              "#ed7953"
             ],
             [
              0.7777777777777778,
              "#fb9f3a"
             ],
             [
              0.8888888888888888,
              "#fdca26"
             ],
             [
              1,
              "#f0f921"
             ]
            ],
            "type": "heatmap"
           }
          ],
          "heatmapgl": [
           {
            "colorbar": {
             "outlinewidth": 0,
             "ticks": ""
            },
            "colorscale": [
             [
              0,
              "#0d0887"
             ],
             [
              0.1111111111111111,
              "#46039f"
             ],
             [
              0.2222222222222222,
              "#7201a8"
             ],
             [
              0.3333333333333333,
              "#9c179e"
             ],
             [
              0.4444444444444444,
              "#bd3786"
             ],
             [
              0.5555555555555556,
              "#d8576b"
             ],
             [
              0.6666666666666666,
              "#ed7953"
             ],
             [
              0.7777777777777778,
              "#fb9f3a"
             ],
             [
              0.8888888888888888,
              "#fdca26"
             ],
             [
              1,
              "#f0f921"
             ]
            ],
            "type": "heatmapgl"
           }
          ],
          "histogram": [
           {
            "marker": {
             "colorbar": {
              "outlinewidth": 0,
              "ticks": ""
             }
            },
            "type": "histogram"
           }
          ],
          "histogram2d": [
           {
            "colorbar": {
             "outlinewidth": 0,
             "ticks": ""
            },
            "colorscale": [
             [
              0,
              "#0d0887"
             ],
             [
              0.1111111111111111,
              "#46039f"
             ],
             [
              0.2222222222222222,
              "#7201a8"
             ],
             [
              0.3333333333333333,
              "#9c179e"
             ],
             [
              0.4444444444444444,
              "#bd3786"
             ],
             [
              0.5555555555555556,
              "#d8576b"
             ],
             [
              0.6666666666666666,
              "#ed7953"
             ],
             [
              0.7777777777777778,
              "#fb9f3a"
             ],
             [
              0.8888888888888888,
              "#fdca26"
             ],
             [
              1,
              "#f0f921"
             ]
            ],
            "type": "histogram2d"
           }
          ],
          "histogram2dcontour": [
           {
            "colorbar": {
             "outlinewidth": 0,
             "ticks": ""
            },
            "colorscale": [
             [
              0,
              "#0d0887"
             ],
             [
              0.1111111111111111,
              "#46039f"
             ],
             [
              0.2222222222222222,
              "#7201a8"
             ],
             [
              0.3333333333333333,
              "#9c179e"
             ],
             [
              0.4444444444444444,
              "#bd3786"
             ],
             [
              0.5555555555555556,
              "#d8576b"
             ],
             [
              0.6666666666666666,
              "#ed7953"
             ],
             [
              0.7777777777777778,
              "#fb9f3a"
             ],
             [
              0.8888888888888888,
              "#fdca26"
             ],
             [
              1,
              "#f0f921"
             ]
            ],
            "type": "histogram2dcontour"
           }
          ],
          "mesh3d": [
           {
            "colorbar": {
             "outlinewidth": 0,
             "ticks": ""
            },
            "type": "mesh3d"
           }
          ],
          "parcoords": [
           {
            "line": {
             "colorbar": {
              "outlinewidth": 0,
              "ticks": ""
             }
            },
            "type": "parcoords"
           }
          ],
          "pie": [
           {
            "automargin": true,
            "type": "pie"
           }
          ],
          "scatter": [
           {
            "marker": {
             "colorbar": {
              "outlinewidth": 0,
              "ticks": ""
             }
            },
            "type": "scatter"
           }
          ],
          "scatter3d": [
           {
            "line": {
             "colorbar": {
              "outlinewidth": 0,
              "ticks": ""
             }
            },
            "marker": {
             "colorbar": {
              "outlinewidth": 0,
              "ticks": ""
             }
            },
            "type": "scatter3d"
           }
          ],
          "scattercarpet": [
           {
            "marker": {
             "colorbar": {
              "outlinewidth": 0,
              "ticks": ""
             }
            },
            "type": "scattercarpet"
           }
          ],
          "scattergeo": [
           {
            "marker": {
             "colorbar": {
              "outlinewidth": 0,
              "ticks": ""
             }
            },
            "type": "scattergeo"
           }
          ],
          "scattergl": [
           {
            "marker": {
             "colorbar": {
              "outlinewidth": 0,
              "ticks": ""
             }
            },
            "type": "scattergl"
           }
          ],
          "scattermapbox": [
           {
            "marker": {
             "colorbar": {
              "outlinewidth": 0,
              "ticks": ""
             }
            },
            "type": "scattermapbox"
           }
          ],
          "scatterpolar": [
           {
            "marker": {
             "colorbar": {
              "outlinewidth": 0,
              "ticks": ""
             }
            },
            "type": "scatterpolar"
           }
          ],
          "scatterpolargl": [
           {
            "marker": {
             "colorbar": {
              "outlinewidth": 0,
              "ticks": ""
             }
            },
            "type": "scatterpolargl"
           }
          ],
          "scatterternary": [
           {
            "marker": {
             "colorbar": {
              "outlinewidth": 0,
              "ticks": ""
             }
            },
            "type": "scatterternary"
           }
          ],
          "surface": [
           {
            "colorbar": {
             "outlinewidth": 0,
             "ticks": ""
            },
            "colorscale": [
             [
              0,
              "#0d0887"
             ],
             [
              0.1111111111111111,
              "#46039f"
             ],
             [
              0.2222222222222222,
              "#7201a8"
             ],
             [
              0.3333333333333333,
              "#9c179e"
             ],
             [
              0.4444444444444444,
              "#bd3786"
             ],
             [
              0.5555555555555556,
              "#d8576b"
             ],
             [
              0.6666666666666666,
              "#ed7953"
             ],
             [
              0.7777777777777778,
              "#fb9f3a"
             ],
             [
              0.8888888888888888,
              "#fdca26"
             ],
             [
              1,
              "#f0f921"
             ]
            ],
            "type": "surface"
           }
          ],
          "table": [
           {
            "cells": {
             "fill": {
              "color": "#EBF0F8"
             },
             "line": {
              "color": "white"
             }
            },
            "header": {
             "fill": {
              "color": "#C8D4E3"
             },
             "line": {
              "color": "white"
             }
            },
            "type": "table"
           }
          ]
         },
         "layout": {
          "annotationdefaults": {
           "arrowcolor": "#2a3f5f",
           "arrowhead": 0,
           "arrowwidth": 1
          },
          "coloraxis": {
           "colorbar": {
            "outlinewidth": 0,
            "ticks": ""
           }
          },
          "colorscale": {
           "diverging": [
            [
             0,
             "#8e0152"
            ],
            [
             0.1,
             "#c51b7d"
            ],
            [
             0.2,
             "#de77ae"
            ],
            [
             0.3,
             "#f1b6da"
            ],
            [
             0.4,
             "#fde0ef"
            ],
            [
             0.5,
             "#f7f7f7"
            ],
            [
             0.6,
             "#e6f5d0"
            ],
            [
             0.7,
             "#b8e186"
            ],
            [
             0.8,
             "#7fbc41"
            ],
            [
             0.9,
             "#4d9221"
            ],
            [
             1,
             "#276419"
            ]
           ],
           "sequential": [
            [
             0,
             "#0d0887"
            ],
            [
             0.1111111111111111,
             "#46039f"
            ],
            [
             0.2222222222222222,
             "#7201a8"
            ],
            [
             0.3333333333333333,
             "#9c179e"
            ],
            [
             0.4444444444444444,
             "#bd3786"
            ],
            [
             0.5555555555555556,
             "#d8576b"
            ],
            [
             0.6666666666666666,
             "#ed7953"
            ],
            [
             0.7777777777777778,
             "#fb9f3a"
            ],
            [
             0.8888888888888888,
             "#fdca26"
            ],
            [
             1,
             "#f0f921"
            ]
           ],
           "sequentialminus": [
            [
             0,
             "#0d0887"
            ],
            [
             0.1111111111111111,
             "#46039f"
            ],
            [
             0.2222222222222222,
             "#7201a8"
            ],
            [
             0.3333333333333333,
             "#9c179e"
            ],
            [
             0.4444444444444444,
             "#bd3786"
            ],
            [
             0.5555555555555556,
             "#d8576b"
            ],
            [
             0.6666666666666666,
             "#ed7953"
            ],
            [
             0.7777777777777778,
             "#fb9f3a"
            ],
            [
             0.8888888888888888,
             "#fdca26"
            ],
            [
             1,
             "#f0f921"
            ]
           ]
          },
          "colorway": [
           "#636efa",
           "#EF553B",
           "#00cc96",
           "#ab63fa",
           "#FFA15A",
           "#19d3f3",
           "#FF6692",
           "#B6E880",
           "#FF97FF",
           "#FECB52"
          ],
          "font": {
           "color": "#2a3f5f"
          },
          "geo": {
           "bgcolor": "white",
           "lakecolor": "white",
           "landcolor": "#E5ECF6",
           "showlakes": true,
           "showland": true,
           "subunitcolor": "white"
          },
          "hoverlabel": {
           "align": "left"
          },
          "hovermode": "closest",
          "mapbox": {
           "style": "light"
          },
          "paper_bgcolor": "white",
          "plot_bgcolor": "#E5ECF6",
          "polar": {
           "angularaxis": {
            "gridcolor": "white",
            "linecolor": "white",
            "ticks": ""
           },
           "bgcolor": "#E5ECF6",
           "radialaxis": {
            "gridcolor": "white",
            "linecolor": "white",
            "ticks": ""
           }
          },
          "scene": {
           "xaxis": {
            "backgroundcolor": "#E5ECF6",
            "gridcolor": "white",
            "gridwidth": 2,
            "linecolor": "white",
            "showbackground": true,
            "ticks": "",
            "zerolinecolor": "white"
           },
           "yaxis": {
            "backgroundcolor": "#E5ECF6",
            "gridcolor": "white",
            "gridwidth": 2,
            "linecolor": "white",
            "showbackground": true,
            "ticks": "",
            "zerolinecolor": "white"
           },
           "zaxis": {
            "backgroundcolor": "#E5ECF6",
            "gridcolor": "white",
            "gridwidth": 2,
            "linecolor": "white",
            "showbackground": true,
            "ticks": "",
            "zerolinecolor": "white"
           }
          },
          "shapedefaults": {
           "line": {
            "color": "#2a3f5f"
           }
          },
          "ternary": {
           "aaxis": {
            "gridcolor": "white",
            "linecolor": "white",
            "ticks": ""
           },
           "baxis": {
            "gridcolor": "white",
            "linecolor": "white",
            "ticks": ""
           },
           "bgcolor": "#E5ECF6",
           "caxis": {
            "gridcolor": "white",
            "linecolor": "white",
            "ticks": ""
           }
          },
          "title": {
           "x": 0.05
          },
          "xaxis": {
           "automargin": true,
           "gridcolor": "white",
           "linecolor": "white",
           "ticks": "",
           "title": {
            "standoff": 15
           },
           "zerolinecolor": "white",
           "zerolinewidth": 2
          },
          "yaxis": {
           "automargin": true,
           "gridcolor": "white",
           "linecolor": "white",
           "ticks": "",
           "title": {
            "standoff": 15
           },
           "zerolinecolor": "white",
           "zerolinewidth": 2
          }
         }
        },
        "title": {
         "text": "Climbs by State and Type"
        },
        "updatemenus": [
         {
          "buttons": [
           {
            "args": [
             null,
             {
              "frame": {
               "duration": 500,
               "redraw": true
              },
              "fromcurrent": true,
              "mode": "immediate",
              "transition": {
               "duration": 500,
               "easing": "linear"
              }
             }
            ],
            "label": "&#9654;",
            "method": "animate"
           },
           {
            "args": [
             [
              null
             ],
             {
              "frame": {
               "duration": 0,
               "redraw": true
              },
              "fromcurrent": true,
              "mode": "immediate",
              "transition": {
               "duration": 0,
               "easing": "linear"
              }
             }
            ],
            "label": "&#9724;",
            "method": "animate"
           }
          ],
          "direction": "left",
          "pad": {
           "r": 10,
           "t": 70
          },
          "showactive": false,
          "type": "buttons",
          "x": 0.1,
          "xanchor": "right",
          "y": 0,
          "yanchor": "top"
         }
        ]
       }
      },
      "text/html": [
       "<div>                            <div id=\"ea8422bd-20d9-47c3-90ce-98b7bb470d75\" class=\"plotly-graph-div\" style=\"height:525px; width:100%;\"></div>            <script type=\"text/javascript\">                require([\"plotly\"], function(Plotly) {                    window.PLOTLYENV=window.PLOTLYENV || {};                                    if (document.getElementById(\"ea8422bd-20d9-47c3-90ce-98b7bb470d75\")) {                    Plotly.newPlot(                        \"ea8422bd-20d9-47c3-90ce-98b7bb470d75\",                        [{\"coloraxis\": \"coloraxis\", \"geo\": \"geo\", \"hovertemplate\": \"Type=Aid<br>State=%{location}<br>Climbs=%{z}<extra></extra>\", \"locationmode\": \"USA-states\", \"locations\": [\"AK\", \"AL\", \"AR\", \"AZ\", \"CA\", \"CO\", \"CT\", \"DE\", \"FL\", \"GA\", \"HI\", \"IA\", \"ID\", \"IL\", \"IN\", \"KS\", \"KY\", \"LA\", \"MA\", \"MD\", \"ME\", \"MI\", \"MN\", \"MO\", \"MS\", \"MT\", \"NC\", \"ND\", \"NE\", \"NH\", \"NJ\", \"NM\", \"NV\", \"NY\", \"OH\", \"OK\", \"OR\", \"PA\", \"RI\", \"SC\", \"SD\", \"TN\", \"TX\", \"UT\", \"VA\", \"VT\", \"WA\", \"WI\", \"WV\", \"WY\"], \"name\": \"\", \"type\": \"choropleth\", \"z\": [21, 1, 1, 91, 295, 231, 1, 0, 0, 6, 0, 0, 15, 2, 0, 0, 4, 0, 2, 8, 3, 1, 3, 0, 2, 16, 26, 0, 0, 48, 15, 24, 23, 21, 1, 19, 24, 5, 0, 0, 4, 22, 2, 558, 4, 4, 48, 0, 4, 60]}],                        {\"coloraxis\": {\"colorbar\": {\"title\": {\"text\": \"Climbs\"}}, \"colorscale\": [[0.0, \"#000004\"], [0.1111111111111111, \"#1b0c41\"], [0.2222222222222222, \"#4a0c6b\"], [0.3333333333333333, \"#781c6d\"], [0.4444444444444444, \"#a52c60\"], [0.5555555555555556, \"#cf4446\"], [0.6666666666666666, \"#ed6925\"], [0.7777777777777778, \"#fb9b06\"], [0.8888888888888888, \"#f7d13d\"], [1.0, \"#fcffa4\"]]}, \"geo\": {\"center\": {}, \"domain\": {\"x\": [0.0, 1.0], \"y\": [0.0, 1.0]}, \"scope\": \"usa\"}, \"legend\": {\"tracegroupgap\": 0}, \"sliders\": [{\"active\": 0, \"currentvalue\": {\"prefix\": \"Type=\"}, \"len\": 0.9, \"pad\": {\"b\": 10, \"t\": 60}, \"steps\": [{\"args\": [[\"Aid\"], {\"frame\": {\"duration\": 0, \"redraw\": true}, \"fromcurrent\": true, \"mode\": \"immediate\", \"transition\": {\"duration\": 0, \"easing\": \"linear\"}}], \"label\": \"Aid\", \"method\": \"animate\"}, {\"args\": [[\"Alpine\"], {\"frame\": {\"duration\": 0, \"redraw\": true}, \"fromcurrent\": true, \"mode\": \"immediate\", \"transition\": {\"duration\": 0, \"easing\": \"linear\"}}], \"label\": \"Alpine\", \"method\": \"animate\"}, {\"args\": [[\"Boulder\"], {\"frame\": {\"duration\": 0, \"redraw\": true}, \"fromcurrent\": true, \"mode\": \"immediate\", \"transition\": {\"duration\": 0, \"easing\": \"linear\"}}], \"label\": \"Boulder\", \"method\": \"animate\"}, {\"args\": [[\"Ice\"], {\"frame\": {\"duration\": 0, \"redraw\": true}, \"fromcurrent\": true, \"mode\": \"immediate\", \"transition\": {\"duration\": 0, \"easing\": \"linear\"}}], \"label\": \"Ice\", \"method\": \"animate\"}, {\"args\": [[\"Mixed\"], {\"frame\": {\"duration\": 0, \"redraw\": true}, \"fromcurrent\": true, \"mode\": \"immediate\", \"transition\": {\"duration\": 0, \"easing\": \"linear\"}}], \"label\": \"Mixed\", \"method\": \"animate\"}, {\"args\": [[\"Sport\"], {\"frame\": {\"duration\": 0, \"redraw\": true}, \"fromcurrent\": true, \"mode\": \"immediate\", \"transition\": {\"duration\": 0, \"easing\": \"linear\"}}], \"label\": \"Sport\", \"method\": \"animate\"}, {\"args\": [[\"Toprope\"], {\"frame\": {\"duration\": 0, \"redraw\": true}, \"fromcurrent\": true, \"mode\": \"immediate\", \"transition\": {\"duration\": 0, \"easing\": \"linear\"}}], \"label\": \"Toprope\", \"method\": \"animate\"}, {\"args\": [[\"Trad\"], {\"frame\": {\"duration\": 0, \"redraw\": true}, \"fromcurrent\": true, \"mode\": \"immediate\", \"transition\": {\"duration\": 0, \"easing\": \"linear\"}}], \"label\": \"Trad\", \"method\": \"animate\"}], \"x\": 0.1, \"xanchor\": \"left\", \"y\": 0, \"yanchor\": \"top\"}], \"template\": {\"data\": {\"bar\": [{\"error_x\": {\"color\": \"#2a3f5f\"}, \"error_y\": {\"color\": \"#2a3f5f\"}, \"marker\": {\"line\": {\"color\": \"#E5ECF6\", \"width\": 0.5}}, \"type\": \"bar\"}], \"barpolar\": [{\"marker\": {\"line\": {\"color\": \"#E5ECF6\", \"width\": 0.5}}, \"type\": \"barpolar\"}], \"carpet\": [{\"aaxis\": {\"endlinecolor\": \"#2a3f5f\", \"gridcolor\": \"white\", \"linecolor\": \"white\", \"minorgridcolor\": \"white\", \"startlinecolor\": \"#2a3f5f\"}, \"baxis\": {\"endlinecolor\": \"#2a3f5f\", \"gridcolor\": \"white\", \"linecolor\": \"white\", \"minorgridcolor\": \"white\", \"startlinecolor\": \"#2a3f5f\"}, \"type\": \"carpet\"}], \"choropleth\": [{\"colorbar\": {\"outlinewidth\": 0, \"ticks\": \"\"}, \"type\": \"choropleth\"}], \"contour\": [{\"colorbar\": {\"outlinewidth\": 0, \"ticks\": \"\"}, \"colorscale\": [[0.0, \"#0d0887\"], [0.1111111111111111, \"#46039f\"], [0.2222222222222222, \"#7201a8\"], [0.3333333333333333, \"#9c179e\"], [0.4444444444444444, \"#bd3786\"], [0.5555555555555556, \"#d8576b\"], [0.6666666666666666, \"#ed7953\"], [0.7777777777777778, \"#fb9f3a\"], [0.8888888888888888, \"#fdca26\"], [1.0, \"#f0f921\"]], \"type\": \"contour\"}], \"contourcarpet\": [{\"colorbar\": {\"outlinewidth\": 0, \"ticks\": \"\"}, \"type\": \"contourcarpet\"}], \"heatmap\": [{\"colorbar\": {\"outlinewidth\": 0, \"ticks\": \"\"}, \"colorscale\": [[0.0, \"#0d0887\"], [0.1111111111111111, \"#46039f\"], [0.2222222222222222, \"#7201a8\"], [0.3333333333333333, \"#9c179e\"], [0.4444444444444444, \"#bd3786\"], [0.5555555555555556, \"#d8576b\"], [0.6666666666666666, \"#ed7953\"], [0.7777777777777778, \"#fb9f3a\"], [0.8888888888888888, \"#fdca26\"], [1.0, \"#f0f921\"]], \"type\": \"heatmap\"}], \"heatmapgl\": [{\"colorbar\": {\"outlinewidth\": 0, \"ticks\": \"\"}, \"colorscale\": [[0.0, \"#0d0887\"], [0.1111111111111111, \"#46039f\"], [0.2222222222222222, \"#7201a8\"], [0.3333333333333333, \"#9c179e\"], [0.4444444444444444, \"#bd3786\"], [0.5555555555555556, \"#d8576b\"], [0.6666666666666666, \"#ed7953\"], [0.7777777777777778, \"#fb9f3a\"], [0.8888888888888888, \"#fdca26\"], [1.0, \"#f0f921\"]], \"type\": \"heatmapgl\"}], \"histogram\": [{\"marker\": {\"colorbar\": {\"outlinewidth\": 0, \"ticks\": \"\"}}, \"type\": \"histogram\"}], \"histogram2d\": [{\"colorbar\": {\"outlinewidth\": 0, \"ticks\": \"\"}, \"colorscale\": [[0.0, \"#0d0887\"], [0.1111111111111111, \"#46039f\"], [0.2222222222222222, \"#7201a8\"], [0.3333333333333333, \"#9c179e\"], [0.4444444444444444, \"#bd3786\"], [0.5555555555555556, \"#d8576b\"], [0.6666666666666666, \"#ed7953\"], [0.7777777777777778, \"#fb9f3a\"], [0.8888888888888888, \"#fdca26\"], [1.0, \"#f0f921\"]], \"type\": \"histogram2d\"}], \"histogram2dcontour\": [{\"colorbar\": {\"outlinewidth\": 0, \"ticks\": \"\"}, \"colorscale\": [[0.0, \"#0d0887\"], [0.1111111111111111, \"#46039f\"], [0.2222222222222222, \"#7201a8\"], [0.3333333333333333, \"#9c179e\"], [0.4444444444444444, \"#bd3786\"], [0.5555555555555556, \"#d8576b\"], [0.6666666666666666, \"#ed7953\"], [0.7777777777777778, \"#fb9f3a\"], [0.8888888888888888, \"#fdca26\"], [1.0, \"#f0f921\"]], \"type\": \"histogram2dcontour\"}], \"mesh3d\": [{\"colorbar\": {\"outlinewidth\": 0, \"ticks\": \"\"}, \"type\": \"mesh3d\"}], \"parcoords\": [{\"line\": {\"colorbar\": {\"outlinewidth\": 0, \"ticks\": \"\"}}, \"type\": \"parcoords\"}], \"pie\": [{\"automargin\": true, \"type\": \"pie\"}], \"scatter\": [{\"marker\": {\"colorbar\": {\"outlinewidth\": 0, \"ticks\": \"\"}}, \"type\": \"scatter\"}], \"scatter3d\": [{\"line\": {\"colorbar\": {\"outlinewidth\": 0, \"ticks\": \"\"}}, \"marker\": {\"colorbar\": {\"outlinewidth\": 0, \"ticks\": \"\"}}, \"type\": \"scatter3d\"}], \"scattercarpet\": [{\"marker\": {\"colorbar\": {\"outlinewidth\": 0, \"ticks\": \"\"}}, \"type\": \"scattercarpet\"}], \"scattergeo\": [{\"marker\": {\"colorbar\": {\"outlinewidth\": 0, \"ticks\": \"\"}}, \"type\": \"scattergeo\"}], \"scattergl\": [{\"marker\": {\"colorbar\": {\"outlinewidth\": 0, \"ticks\": \"\"}}, \"type\": \"scattergl\"}], \"scattermapbox\": [{\"marker\": {\"colorbar\": {\"outlinewidth\": 0, \"ticks\": \"\"}}, \"type\": \"scattermapbox\"}], \"scatterpolar\": [{\"marker\": {\"colorbar\": {\"outlinewidth\": 0, \"ticks\": \"\"}}, \"type\": \"scatterpolar\"}], \"scatterpolargl\": [{\"marker\": {\"colorbar\": {\"outlinewidth\": 0, \"ticks\": \"\"}}, \"type\": \"scatterpolargl\"}], \"scatterternary\": [{\"marker\": {\"colorbar\": {\"outlinewidth\": 0, \"ticks\": \"\"}}, \"type\": \"scatterternary\"}], \"surface\": [{\"colorbar\": {\"outlinewidth\": 0, \"ticks\": \"\"}, \"colorscale\": [[0.0, \"#0d0887\"], [0.1111111111111111, \"#46039f\"], [0.2222222222222222, \"#7201a8\"], [0.3333333333333333, \"#9c179e\"], [0.4444444444444444, \"#bd3786\"], [0.5555555555555556, \"#d8576b\"], [0.6666666666666666, \"#ed7953\"], [0.7777777777777778, \"#fb9f3a\"], [0.8888888888888888, \"#fdca26\"], [1.0, \"#f0f921\"]], \"type\": \"surface\"}], \"table\": [{\"cells\": {\"fill\": {\"color\": \"#EBF0F8\"}, \"line\": {\"color\": \"white\"}}, \"header\": {\"fill\": {\"color\": \"#C8D4E3\"}, \"line\": {\"color\": \"white\"}}, \"type\": \"table\"}]}, \"layout\": {\"annotationdefaults\": {\"arrowcolor\": \"#2a3f5f\", \"arrowhead\": 0, \"arrowwidth\": 1}, \"coloraxis\": {\"colorbar\": {\"outlinewidth\": 0, \"ticks\": \"\"}}, \"colorscale\": {\"diverging\": [[0, \"#8e0152\"], [0.1, \"#c51b7d\"], [0.2, \"#de77ae\"], [0.3, \"#f1b6da\"], [0.4, \"#fde0ef\"], [0.5, \"#f7f7f7\"], [0.6, \"#e6f5d0\"], [0.7, \"#b8e186\"], [0.8, \"#7fbc41\"], [0.9, \"#4d9221\"], [1, \"#276419\"]], \"sequential\": [[0.0, \"#0d0887\"], [0.1111111111111111, \"#46039f\"], [0.2222222222222222, \"#7201a8\"], [0.3333333333333333, \"#9c179e\"], [0.4444444444444444, \"#bd3786\"], [0.5555555555555556, \"#d8576b\"], [0.6666666666666666, \"#ed7953\"], [0.7777777777777778, \"#fb9f3a\"], [0.8888888888888888, \"#fdca26\"], [1.0, \"#f0f921\"]], \"sequentialminus\": [[0.0, \"#0d0887\"], [0.1111111111111111, \"#46039f\"], [0.2222222222222222, \"#7201a8\"], [0.3333333333333333, \"#9c179e\"], [0.4444444444444444, \"#bd3786\"], [0.5555555555555556, \"#d8576b\"], [0.6666666666666666, \"#ed7953\"], [0.7777777777777778, \"#fb9f3a\"], [0.8888888888888888, \"#fdca26\"], [1.0, \"#f0f921\"]]}, \"colorway\": [\"#636efa\", \"#EF553B\", \"#00cc96\", \"#ab63fa\", \"#FFA15A\", \"#19d3f3\", \"#FF6692\", \"#B6E880\", \"#FF97FF\", \"#FECB52\"], \"font\": {\"color\": \"#2a3f5f\"}, \"geo\": {\"bgcolor\": \"white\", \"lakecolor\": \"white\", \"landcolor\": \"#E5ECF6\", \"showlakes\": true, \"showland\": true, \"subunitcolor\": \"white\"}, \"hoverlabel\": {\"align\": \"left\"}, \"hovermode\": \"closest\", \"mapbox\": {\"style\": \"light\"}, \"paper_bgcolor\": \"white\", \"plot_bgcolor\": \"#E5ECF6\", \"polar\": {\"angularaxis\": {\"gridcolor\": \"white\", \"linecolor\": \"white\", \"ticks\": \"\"}, \"bgcolor\": \"#E5ECF6\", \"radialaxis\": {\"gridcolor\": \"white\", \"linecolor\": \"white\", \"ticks\": \"\"}}, \"scene\": {\"xaxis\": {\"backgroundcolor\": \"#E5ECF6\", \"gridcolor\": \"white\", \"gridwidth\": 2, \"linecolor\": \"white\", \"showbackground\": true, \"ticks\": \"\", \"zerolinecolor\": \"white\"}, \"yaxis\": {\"backgroundcolor\": \"#E5ECF6\", \"gridcolor\": \"white\", \"gridwidth\": 2, \"linecolor\": \"white\", \"showbackground\": true, \"ticks\": \"\", \"zerolinecolor\": \"white\"}, \"zaxis\": {\"backgroundcolor\": \"#E5ECF6\", \"gridcolor\": \"white\", \"gridwidth\": 2, \"linecolor\": \"white\", \"showbackground\": true, \"ticks\": \"\", \"zerolinecolor\": \"white\"}}, \"shapedefaults\": {\"line\": {\"color\": \"#2a3f5f\"}}, \"ternary\": {\"aaxis\": {\"gridcolor\": \"white\", \"linecolor\": \"white\", \"ticks\": \"\"}, \"baxis\": {\"gridcolor\": \"white\", \"linecolor\": \"white\", \"ticks\": \"\"}, \"bgcolor\": \"#E5ECF6\", \"caxis\": {\"gridcolor\": \"white\", \"linecolor\": \"white\", \"ticks\": \"\"}}, \"title\": {\"x\": 0.05}, \"xaxis\": {\"automargin\": true, \"gridcolor\": \"white\", \"linecolor\": \"white\", \"ticks\": \"\", \"title\": {\"standoff\": 15}, \"zerolinecolor\": \"white\", \"zerolinewidth\": 2}, \"yaxis\": {\"automargin\": true, \"gridcolor\": \"white\", \"linecolor\": \"white\", \"ticks\": \"\", \"title\": {\"standoff\": 15}, \"zerolinecolor\": \"white\", \"zerolinewidth\": 2}}}, \"title\": {\"text\": \"Climbs by State and Type\"}, \"updatemenus\": [{\"buttons\": [{\"args\": [null, {\"frame\": {\"duration\": 500, \"redraw\": true}, \"fromcurrent\": true, \"mode\": \"immediate\", \"transition\": {\"duration\": 500, \"easing\": \"linear\"}}], \"label\": \"&#9654;\", \"method\": \"animate\"}, {\"args\": [[null], {\"frame\": {\"duration\": 0, \"redraw\": true}, \"fromcurrent\": true, \"mode\": \"immediate\", \"transition\": {\"duration\": 0, \"easing\": \"linear\"}}], \"label\": \"&#9724;\", \"method\": \"animate\"}], \"direction\": \"left\", \"pad\": {\"r\": 10, \"t\": 70}, \"showactive\": false, \"type\": \"buttons\", \"x\": 0.1, \"xanchor\": \"right\", \"y\": 0, \"yanchor\": \"top\"}]},                        {\"responsive\": true}                    ).then(function(){\n",
       "                            Plotly.addFrames('ea8422bd-20d9-47c3-90ce-98b7bb470d75', [{\"data\": [{\"coloraxis\": \"coloraxis\", \"geo\": \"geo\", \"hovertemplate\": \"Type=Aid<br>State=%{location}<br>Climbs=%{z}<extra></extra>\", \"locationmode\": \"USA-states\", \"locations\": [\"AK\", \"AL\", \"AR\", \"AZ\", \"CA\", \"CO\", \"CT\", \"DE\", \"FL\", \"GA\", \"HI\", \"IA\", \"ID\", \"IL\", \"IN\", \"KS\", \"KY\", \"LA\", \"MA\", \"MD\", \"ME\", \"MI\", \"MN\", \"MO\", \"MS\", \"MT\", \"NC\", \"ND\", \"NE\", \"NH\", \"NJ\", \"NM\", \"NV\", \"NY\", \"OH\", \"OK\", \"OR\", \"PA\", \"RI\", \"SC\", \"SD\", \"TN\", \"TX\", \"UT\", \"VA\", \"VT\", \"WA\", \"WI\", \"WV\", \"WY\"], \"name\": \"\", \"z\": [21, 1, 1, 91, 295, 231, 1, 0, 0, 6, 0, 0, 15, 2, 0, 0, 4, 0, 2, 8, 3, 1, 3, 0, 2, 16, 26, 0, 0, 48, 15, 24, 23, 21, 1, 19, 24, 5, 0, 0, 4, 22, 2, 558, 4, 4, 48, 0, 4, 60], \"type\": \"choropleth\"}], \"name\": \"Aid\"}, {\"data\": [{\"coloraxis\": \"coloraxis\", \"geo\": \"geo\", \"hovertemplate\": \"Type=Alpine<br>State=%{location}<br>Climbs=%{z}<extra></extra>\", \"locationmode\": \"USA-states\", \"locations\": [\"AK\", \"AL\", \"AR\", \"AZ\", \"CA\", \"CO\", \"CT\", \"DE\", \"FL\", \"GA\", \"HI\", \"IA\", \"ID\", \"IL\", \"IN\", \"KS\", \"KY\", \"LA\", \"MA\", \"MD\", \"ME\", \"MI\", \"MN\", \"MO\", \"MS\", \"MT\", \"NC\", \"ND\", \"NE\", \"NH\", \"NJ\", \"NM\", \"NV\", \"NY\", \"OH\", \"OK\", \"OR\", \"PA\", \"RI\", \"SC\", \"SD\", \"TN\", \"TX\", \"UT\", \"VA\", \"VT\", \"WA\", \"WI\", \"WV\", \"WY\"], \"name\": \"\", \"z\": [585, 0, 0, 4, 1308, 1489, 0, 0, 0, 0, 0, 0, 209, 0, 0, 0, 0, 0, 3, 0, 23, 0, 0, 0, 0, 279, 10, 0, 0, 261, 0, 336, 68, 33, 0, 0, 74, 19, 0, 0, 0, 0, 5, 636, 0, 37, 410, 0, 0, 735], \"type\": \"choropleth\"}], \"name\": \"Alpine\"}, {\"data\": [{\"coloraxis\": \"coloraxis\", \"geo\": \"geo\", \"hovertemplate\": \"Type=Boulder<br>State=%{location}<br>Climbs=%{z}<extra></extra>\", \"locationmode\": \"USA-states\", \"locations\": [\"AK\", \"AL\", \"AR\", \"AZ\", \"CA\", \"CO\", \"CT\", \"DE\", \"FL\", \"GA\", \"HI\", \"IA\", \"ID\", \"IL\", \"IN\", \"KS\", \"KY\", \"LA\", \"MA\", \"MD\", \"ME\", \"MI\", \"MN\", \"MO\", \"MS\", \"MT\", \"NC\", \"ND\", \"NE\", \"NH\", \"NJ\", \"NM\", \"NV\", \"NY\", \"OH\", \"OK\", \"OR\", \"PA\", \"RI\", \"SC\", \"SD\", \"TN\", \"TX\", \"UT\", \"VA\", \"VT\", \"WA\", \"WI\", \"WV\", \"WY\"], \"name\": \"\", \"z\": [338, 958, 508, 2416, 11426, 8545, 1239, 24, 26, 753, 191, 122, 836, 493, 100, 177, 118, 2, 3846, 724, 400, 501, 843, 460, 48, 645, 909, 27, 8, 2312, 340, 1019, 800, 1280, 848, 517, 517, 1559, 1307, 33, 831, 663, 1770, 3435, 1078, 1035, 2027, 2580, 1078, 731], \"type\": \"choropleth\"}], \"name\": \"Boulder\"}, {\"data\": [{\"coloraxis\": \"coloraxis\", \"geo\": \"geo\", \"hovertemplate\": \"Type=Ice<br>State=%{location}<br>Climbs=%{z}<extra></extra>\", \"locationmode\": \"USA-states\", \"locations\": [\"AK\", \"AL\", \"AR\", \"AZ\", \"CA\", \"CO\", \"CT\", \"DE\", \"FL\", \"GA\", \"HI\", \"IA\", \"ID\", \"IL\", \"IN\", \"KS\", \"KY\", \"LA\", \"MA\", \"MD\", \"ME\", \"MI\", \"MN\", \"MO\", \"MS\", \"MT\", \"NC\", \"ND\", \"NE\", \"NH\", \"NJ\", \"NM\", \"NV\", \"NY\", \"OH\", \"OK\", \"OR\", \"PA\", \"RI\", \"SC\", \"SD\", \"TN\", \"TX\", \"UT\", \"VA\", \"VT\", \"WA\", \"WI\", \"WV\", \"WY\"], \"name\": \"\", \"z\": [244, 0, 0, 0, 109, 770, 3, 0, 0, 4, 0, 1, 20, 17, 0, 0, 1, 0, 9, 0, 40, 96, 63, 0, 0, 122, 37, 0, 0, 333, 3, 21, 13, 344, 2, 0, 25, 37, 1, 0, 20, 1, 0, 197, 0, 76, 81, 46, 0, 118], \"type\": \"choropleth\"}], \"name\": \"Ice\"}, {\"data\": [{\"coloraxis\": \"coloraxis\", \"geo\": \"geo\", \"hovertemplate\": \"Type=Mixed<br>State=%{location}<br>Climbs=%{z}<extra></extra>\", \"locationmode\": \"USA-states\", \"locations\": [\"AK\", \"AL\", \"AR\", \"AZ\", \"CA\", \"CO\", \"CT\", \"DE\", \"FL\", \"GA\", \"HI\", \"IA\", \"ID\", \"IL\", \"IN\", \"KS\", \"KY\", \"LA\", \"MA\", \"MD\", \"ME\", \"MI\", \"MN\", \"MO\", \"MS\", \"MT\", \"NC\", \"ND\", \"NE\", \"NH\", \"NJ\", \"NM\", \"NV\", \"NY\", \"OH\", \"OK\", \"OR\", \"PA\", \"RI\", \"SC\", \"SD\", \"TN\", \"TX\", \"UT\", \"VA\", \"VT\", \"WA\", \"WI\", \"WV\", \"WY\"], \"name\": \"\", \"z\": [60, 0, 0, 0, 57, 542, 1, 1, 0, 1, 0, 0, 8, 0, 0, 0, 0, 0, 3, 0, 4, 9, 53, 1, 0, 51, 3, 0, 0, 62, 1, 12, 2, 98, 0, 0, 11, 10, 0, 0, 16, 1, 0, 48, 0, 9, 64, 3, 0, 23], \"type\": \"choropleth\"}], \"name\": \"Mixed\"}, {\"data\": [{\"coloraxis\": \"coloraxis\", \"geo\": \"geo\", \"hovertemplate\": \"Type=Sport<br>State=%{location}<br>Climbs=%{z}<extra></extra>\", \"locationmode\": \"USA-states\", \"locations\": [\"AK\", \"AL\", \"AR\", \"AZ\", \"CA\", \"CO\", \"CT\", \"DE\", \"FL\", \"GA\", \"HI\", \"IA\", \"ID\", \"IL\", \"IN\", \"KS\", \"KY\", \"LA\", \"MA\", \"MD\", \"ME\", \"MI\", \"MN\", \"MO\", \"MS\", \"MT\", \"NC\", \"ND\", \"NE\", \"NH\", \"NJ\", \"NM\", \"NV\", \"NY\", \"OH\", \"OK\", \"OR\", \"PA\", \"RI\", \"SC\", \"SD\", \"TN\", \"TX\", \"UT\", \"VA\", \"VT\", \"WA\", \"WI\", \"WV\", \"WY\"], \"name\": \"\", \"z\": [713, 335, 1093, 4229, 9143, 10298, 84, 0, 0, 64, 65, 109, 1963, 567, 4, 1, 1705, 0, 78, 37, 218, 93, 368, 505, 0, 1114, 564, 7, 0, 992, 1, 2376, 1741, 337, 218, 160, 1845, 666, 8, 33, 1363, 1078, 1042, 5329, 1152, 235, 3260, 181, 1152, 3016], \"type\": \"choropleth\"}], \"name\": \"Sport\"}, {\"data\": [{\"coloraxis\": \"coloraxis\", \"geo\": \"geo\", \"hovertemplate\": \"Type=Toprope<br>State=%{location}<br>Climbs=%{z}<extra></extra>\", \"locationmode\": \"USA-states\", \"locations\": [\"AK\", \"AL\", \"AR\", \"AZ\", \"CA\", \"CO\", \"CT\", \"DE\", \"FL\", \"GA\", \"HI\", \"IA\", \"ID\", \"IL\", \"IN\", \"KS\", \"KY\", \"LA\", \"MA\", \"MD\", \"ME\", \"MI\", \"MN\", \"MO\", \"MS\", \"MT\", \"NC\", \"ND\", \"NE\", \"NH\", \"NJ\", \"NM\", \"NV\", \"NY\", \"OH\", \"OK\", \"OR\", \"PA\", \"RI\", \"SC\", \"SD\", \"TN\", \"TX\", \"UT\", \"VA\", \"VT\", \"WA\", \"WI\", \"WV\", \"WY\"], \"name\": \"\", \"z\": [216, 103, 60, 447, 3425, 2076, 533, 15, 1, 121, 38, 52, 390, 185, 3, 8, 40, 0, 614, 587, 165, 268, 592, 127, 25, 276, 288, 13, 1, 278, 216, 524, 202, 1141, 230, 248, 454, 454, 27, 16, 254, 60, 297, 708, 197, 90, 563, 1202, 197, 206], \"type\": \"choropleth\"}], \"name\": \"Toprope\"}, {\"data\": [{\"coloraxis\": \"coloraxis\", \"geo\": \"geo\", \"hovertemplate\": \"Type=Trad<br>State=%{location}<br>Climbs=%{z}<extra></extra>\", \"locationmode\": \"USA-states\", \"locations\": [\"AK\", \"AL\", \"AR\", \"AZ\", \"CA\", \"CO\", \"CT\", \"DE\", \"FL\", \"GA\", \"HI\", \"IA\", \"ID\", \"IL\", \"IN\", \"KS\", \"KY\", \"LA\", \"MA\", \"MD\", \"ME\", \"MI\", \"MN\", \"MO\", \"MS\", \"MT\", \"NC\", \"ND\", \"NE\", \"NH\", \"NJ\", \"NM\", \"NV\", \"NY\", \"OH\", \"OK\", \"OR\", \"PA\", \"RI\", \"SC\", \"SD\", \"TN\", \"TX\", \"UT\", \"VA\", \"VT\", \"WA\", \"WI\", \"WV\", \"WY\"], \"name\": \"\", \"z\": [862, 254, 447, 3755, 11791, 10060, 604, 2, 0, 207, 18, 28, 990, 286, 0, 5, 683, 0, 311, 508, 441, 151, 383, 143, 5, 757, 1595, 13, 0, 2072, 185, 1769, 1735, 2292, 105, 447, 1129, 434, 4, 71, 898, 645, 274, 5676, 1042, 341, 2620, 1109, 1042, 1781], \"type\": \"choropleth\"}], \"name\": \"Trad\"}]);\n",
       "                        }).then(function(){\n",
       "                            \n",
       "var gd = document.getElementById('ea8422bd-20d9-47c3-90ce-98b7bb470d75');\n",
       "var x = new MutationObserver(function (mutations, observer) {{\n",
       "        var display = window.getComputedStyle(gd).display;\n",
       "        if (!display || display === 'none') {{\n",
       "            console.log([gd, 'removed!']);\n",
       "            Plotly.purge(gd);\n",
       "            observer.disconnect();\n",
       "        }}\n",
       "}});\n",
       "\n",
       "// Listen for the removal of the full notebook cells\n",
       "var notebookContainer = gd.closest('#notebook-container');\n",
       "if (notebookContainer) {{\n",
       "    x.observe(notebookContainer, {childList: true});\n",
       "}}\n",
       "\n",
       "// Listen for the clearing of the current output cell\n",
       "var outputEl = gd.closest('.output');\n",
       "if (outputEl) {{\n",
       "    x.observe(outputEl, {childList: true});\n",
       "}}\n",
       "\n",
       "                        })                };                });            </script>        </div>"
      ]
     },
     "metadata": {},
     "output_type": "display_data"
    }
   ],
   "source": [
    "fig.show()"
   ]
  },
  {
   "cell_type": "code",
   "execution_count": null,
   "metadata": {},
   "outputs": [],
   "source": []
  }
 ],
 "metadata": {
  "kernelspec": {
   "display_name": "Python 3",
   "language": "python",
   "name": "python3"
  },
  "language_info": {
   "codemirror_mode": {
    "name": "ipython",
    "version": 3
   },
   "file_extension": ".py",
   "mimetype": "text/x-python",
   "name": "python",
   "nbconvert_exporter": "python",
   "pygments_lexer": "ipython3",
   "version": "3.6.9"
  }
 },
 "nbformat": 4,
 "nbformat_minor": 2
}
