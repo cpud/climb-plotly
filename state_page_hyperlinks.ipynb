{
 "cells": [
  {
   "cell_type": "code",
   "execution_count": 66,
   "metadata": {},
   "outputs": [
    {
     "name": "stdout",
     "output_type": "stream",
     "text": [
      "48\n"
     ]
    }
   ],
   "source": [
    "#Trying to get hyperlinks for all states so we can run the scraping script on all states.\n",
    "\n",
    "#Imports and get the html data from MountainProject. \n",
    "import pandas as pd\n",
    "import requests\n",
    "from bs4 import BeautifulSoup\n",
    "\n",
    "url = 'https://www.mountainproject.com/route-guide'\n",
    "page = requests.get(url)\n",
    "\n",
    "soup = BeautifulSoup(page.content, 'html.parser')\n",
    "\n",
    "\n",
    "#Put all hyperlinks on the page into a list.\n",
    "data = []\n",
    "for link in soup.find_all('a', class_= 'text-truncate float-xs-left'):\n",
    "    data.append(link.get('href'))\n",
    "    \n",
    "#List of US States that we'll use to remove unwanted hyperlinks.\n",
    "#Mississippi and Nebrasaka don't have pages, which makes sense.\n",
    "states = [\"Alabama\",\"Alaska\",\"Arizona\",\"Arkansas\",\"California\",\"Colorado\",\n",
    "  \"Connecticut\",\"Delaware\",\"Florida\",\"Georgia\",\"Hawaii\",\"Idaho\",\"Illinois\",\n",
    "  \"Indiana\",\"Iowa\",\"Kansas\",\"Kentucky\",\"Louisiana\",\"Maine\",\"Maryland\",\n",
    "  \"Massachusetts\",\"Michigan\",\"Minnesota\",\"Mississippi\",\"Missouri\",\"Montana\",\n",
    "  \"Nebraska\",\"Nevada\",\"New-Hampshire\",\"New-Jersey\",\"New-Mexico\",\"New-York\",\n",
    "  \"North-Carolina\",\"North-Dakota\",\"Ohio\",\"Oklahoma\",\"Oregon\",\"Pennsylvania\",\n",
    "  \"Rhode-Island\",\"South-Carolina\",\"South-Dakota\",\"Tennessee\",\"Texas\",\"Utah\",\n",
    "  \"Vermont\",\"Virginia\",\"Washington\",\"West-Virginia\",\"Wisconsin\",\"Wyoming\"]\n",
    "\n",
    "#Make the states lowercase to match hyperlinks. \n",
    "states = [x.lower() for x in states]\n",
    "\n",
    "#Loop through each hyperlink and see if it contains a state as a subsrting.\n",
    "#If it does, add the link to a list containing links for each state page. \n",
    "US = []\n",
    "for datum in data:\n",
    "    for state in states:\n",
    "        if state in datum:\n",
    "            US.append(datum)\n",
    "        \n",
    "#Remove duplicate links, Vermont Ice+Mixed, and Tennessee Wall (they are duplicates!)\n",
    "#Check length. Should be 48. \n",
    "links = set(US)\n",
    "links.remove('https://www.mountainproject.com/area/105851828/the-tennessee-wall')\n",
    "links.remove('https://www.mountainproject.com/area/107280521/vermont-ice-and-mixed')\n",
    "print(len(links))"
   ]
  }
 ],
 "metadata": {
  "kernelspec": {
   "display_name": "Python 3",
   "language": "python",
   "name": "python3"
  },
  "language_info": {
   "codemirror_mode": {
    "name": "ipython",
    "version": 3
   },
   "file_extension": ".py",
   "mimetype": "text/x-python",
   "name": "python",
   "nbconvert_exporter": "python",
   "pygments_lexer": "ipython3",
   "version": "3.7.3"
  }
 },
 "nbformat": 4,
 "nbformat_minor": 2
}
