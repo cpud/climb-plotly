{
 "cells": [
  {
   "cell_type": "markdown",
   "metadata": {},
   "source": [
    "# Add weather data to get \"number of climbable days\"\n",
    "## - temp above x below y, precipitation days\n",
    "# Compare affordability/quality of life\n",
    "## - unemployment? job growth?"
   ]
  },
  {
   "cell_type": "code",
   "execution_count": 63,
   "metadata": {},
   "outputs": [],
   "source": [
    "import pandas as pd\n",
    "import numpy as np\n",
    "import string\n",
    "import json\n",
    "#from pandas.io.json import json_normalize\n",
    "from pandas import json_normalize\n",
    "import requests\n",
    "\n",
    "# Imports for chart\n",
    "import plotly.graph_objs as go \n",
    "from plotly.offline import download_plotlyjs, plot, iplot"
   ]
  },
  {
   "cell_type": "code",
   "execution_count": 2,
   "metadata": {},
   "outputs": [],
   "source": [
    "all_df = pd.read_csv('all_df.csv')\n",
    "climb_df = pd.read_csv('climb_df.csv')\n",
    "agg_df = pd.read_csv('agg_df.csv')"
   ]
  },
  {
   "cell_type": "code",
   "execution_count": 3,
   "metadata": {},
   "outputs": [
    {
     "data": {
      "text/html": [
       "<div>\n",
       "<style scoped>\n",
       "    .dataframe tbody tr th:only-of-type {\n",
       "        vertical-align: middle;\n",
       "    }\n",
       "\n",
       "    .dataframe tbody tr th {\n",
       "        vertical-align: top;\n",
       "    }\n",
       "\n",
       "    .dataframe thead th {\n",
       "        text-align: right;\n",
       "    }\n",
       "</style>\n",
       "<table border=\"1\" class=\"dataframe\">\n",
       "  <thead>\n",
       "    <tr style=\"text-align: right;\">\n",
       "      <th></th>\n",
       "      <th>Unnamed: 0</th>\n",
       "      <th>Crags</th>\n",
       "      <th>Climbs</th>\n",
       "      <th>ST</th>\n",
       "    </tr>\n",
       "  </thead>\n",
       "  <tbody>\n",
       "    <tr>\n",
       "      <th>0</th>\n",
       "      <td>0</td>\n",
       "      <td>BankHead Forest/ Thompson Creek Trail</td>\n",
       "      <td>2</td>\n",
       "      <td>AL</td>\n",
       "    </tr>\n",
       "    <tr>\n",
       "      <th>1</th>\n",
       "      <td>1</td>\n",
       "      <td>Bankhead Forest/Ship Rock</td>\n",
       "      <td>10</td>\n",
       "      <td>AL</td>\n",
       "    </tr>\n",
       "    <tr>\n",
       "      <th>2</th>\n",
       "      <td>2</td>\n",
       "      <td>bankhead forest/sipsey picnic area</td>\n",
       "      <td>1</td>\n",
       "      <td>AL</td>\n",
       "    </tr>\n",
       "    <tr>\n",
       "      <th>3</th>\n",
       "      <td>3</td>\n",
       "      <td>Cherokee Bluffs</td>\n",
       "      <td>32</td>\n",
       "      <td>AL</td>\n",
       "    </tr>\n",
       "    <tr>\n",
       "      <th>4</th>\n",
       "      <td>4</td>\n",
       "      <td>Chewacla State Park</td>\n",
       "      <td>18</td>\n",
       "      <td>AL</td>\n",
       "    </tr>\n",
       "  </tbody>\n",
       "</table>\n",
       "</div>"
      ],
      "text/plain": [
       "   Unnamed: 0                                  Crags  Climbs  ST\n",
       "0           0  BankHead Forest/ Thompson Creek Trail       2  AL\n",
       "1           1              Bankhead Forest/Ship Rock      10  AL\n",
       "2           2     bankhead forest/sipsey picnic area       1  AL\n",
       "3           3                        Cherokee Bluffs      32  AL\n",
       "4           4                    Chewacla State Park      18  AL"
      ]
     },
     "execution_count": 3,
     "metadata": {},
     "output_type": "execute_result"
    }
   ],
   "source": [
    "all_df.head()"
   ]
  },
  {
   "cell_type": "code",
   "execution_count": 4,
   "metadata": {},
   "outputs": [
    {
     "data": {
      "text/html": [
       "<div>\n",
       "<style scoped>\n",
       "    .dataframe tbody tr th:only-of-type {\n",
       "        vertical-align: middle;\n",
       "    }\n",
       "\n",
       "    .dataframe tbody tr th {\n",
       "        vertical-align: top;\n",
       "    }\n",
       "\n",
       "    .dataframe thead th {\n",
       "        text-align: right;\n",
       "    }\n",
       "</style>\n",
       "<table border=\"1\" class=\"dataframe\">\n",
       "  <thead>\n",
       "    <tr style=\"text-align: right;\">\n",
       "      <th></th>\n",
       "      <th>ST</th>\n",
       "      <th>num</th>\n",
       "      <th>type</th>\n",
       "    </tr>\n",
       "  </thead>\n",
       "  <tbody>\n",
       "    <tr>\n",
       "      <th>0</th>\n",
       "      <td>AL</td>\n",
       "      <td>1</td>\n",
       "      <td>Trad</td>\n",
       "    </tr>\n",
       "    <tr>\n",
       "      <th>1</th>\n",
       "      <td>AL</td>\n",
       "      <td>7</td>\n",
       "      <td>Trad</td>\n",
       "    </tr>\n",
       "    <tr>\n",
       "      <th>2</th>\n",
       "      <td>AL</td>\n",
       "      <td>0</td>\n",
       "      <td>Trad</td>\n",
       "    </tr>\n",
       "    <tr>\n",
       "      <th>3</th>\n",
       "      <td>AL</td>\n",
       "      <td>10</td>\n",
       "      <td>Trad</td>\n",
       "    </tr>\n",
       "    <tr>\n",
       "      <th>4</th>\n",
       "      <td>AL</td>\n",
       "      <td>0</td>\n",
       "      <td>Trad</td>\n",
       "    </tr>\n",
       "  </tbody>\n",
       "</table>\n",
       "</div>"
      ],
      "text/plain": [
       "   ST  num  type\n",
       "0  AL    1  Trad\n",
       "1  AL    7  Trad\n",
       "2  AL    0  Trad\n",
       "3  AL   10  Trad\n",
       "4  AL    0  Trad"
      ]
     },
     "execution_count": 4,
     "metadata": {},
     "output_type": "execute_result"
    }
   ],
   "source": [
    "climb_df.head()"
   ]
  },
  {
   "cell_type": "code",
   "execution_count": 5,
   "metadata": {},
   "outputs": [
    {
     "data": {
      "text/html": [
       "<div>\n",
       "<style scoped>\n",
       "    .dataframe tbody tr th:only-of-type {\n",
       "        vertical-align: middle;\n",
       "    }\n",
       "\n",
       "    .dataframe tbody tr th {\n",
       "        vertical-align: top;\n",
       "    }\n",
       "\n",
       "    .dataframe thead th {\n",
       "        text-align: right;\n",
       "    }\n",
       "</style>\n",
       "<table border=\"1\" class=\"dataframe\">\n",
       "  <thead>\n",
       "    <tr style=\"text-align: right;\">\n",
       "      <th></th>\n",
       "      <th>ST</th>\n",
       "      <th>Climbs</th>\n",
       "      <th>Crags</th>\n",
       "      <th>Aid</th>\n",
       "      <th>Alpine</th>\n",
       "      <th>Boulder</th>\n",
       "      <th>Ice</th>\n",
       "      <th>Mixed</th>\n",
       "      <th>Sport</th>\n",
       "      <th>Toprope</th>\n",
       "      <th>Trad</th>\n",
       "      <th>text</th>\n",
       "    </tr>\n",
       "  </thead>\n",
       "  <tbody>\n",
       "    <tr>\n",
       "      <th>0</th>\n",
       "      <td>AL</td>\n",
       "      <td>1563</td>\n",
       "      <td>32</td>\n",
       "      <td>1</td>\n",
       "      <td>0</td>\n",
       "      <td>959</td>\n",
       "      <td>0</td>\n",
       "      <td>0</td>\n",
       "      <td>334</td>\n",
       "      <td>103</td>\n",
       "      <td>254</td>\n",
       "      <td>Crags: 32&lt;br&gt;Boulder: 959&lt;br&gt;Sport: 334&lt;br&gt;Top...</td>\n",
       "    </tr>\n",
       "    <tr>\n",
       "      <th>1</th>\n",
       "      <td>AK</td>\n",
       "      <td>2055</td>\n",
       "      <td>10</td>\n",
       "      <td>21</td>\n",
       "      <td>585</td>\n",
       "      <td>332</td>\n",
       "      <td>244</td>\n",
       "      <td>60</td>\n",
       "      <td>713</td>\n",
       "      <td>216</td>\n",
       "      <td>862</td>\n",
       "      <td>Crags: 10&lt;br&gt;Boulder: 332&lt;br&gt;Sport: 713&lt;br&gt;Top...</td>\n",
       "    </tr>\n",
       "    <tr>\n",
       "      <th>2</th>\n",
       "      <td>AZ</td>\n",
       "      <td>10244</td>\n",
       "      <td>3</td>\n",
       "      <td>91</td>\n",
       "      <td>4</td>\n",
       "      <td>2410</td>\n",
       "      <td>0</td>\n",
       "      <td>0</td>\n",
       "      <td>4225</td>\n",
       "      <td>445</td>\n",
       "      <td>3749</td>\n",
       "      <td>Crags: 3&lt;br&gt;Boulder: 2410&lt;br&gt;Sport: 4225&lt;br&gt;To...</td>\n",
       "    </tr>\n",
       "    <tr>\n",
       "      <th>3</th>\n",
       "      <td>AR</td>\n",
       "      <td>2023</td>\n",
       "      <td>4</td>\n",
       "      <td>1</td>\n",
       "      <td>0</td>\n",
       "      <td>508</td>\n",
       "      <td>0</td>\n",
       "      <td>0</td>\n",
       "      <td>1090</td>\n",
       "      <td>60</td>\n",
       "      <td>446</td>\n",
       "      <td>Crags: 4&lt;br&gt;Boulder: 508&lt;br&gt;Sport: 1090&lt;br&gt;Top...</td>\n",
       "    </tr>\n",
       "    <tr>\n",
       "      <th>4</th>\n",
       "      <td>KS</td>\n",
       "      <td>185</td>\n",
       "      <td>23</td>\n",
       "      <td>0</td>\n",
       "      <td>0</td>\n",
       "      <td>177</td>\n",
       "      <td>0</td>\n",
       "      <td>0</td>\n",
       "      <td>1</td>\n",
       "      <td>8</td>\n",
       "      <td>5</td>\n",
       "      <td>Crags: 23&lt;br&gt;Boulder: 177&lt;br&gt;Sport: 1&lt;br&gt;Topro...</td>\n",
       "    </tr>\n",
       "  </tbody>\n",
       "</table>\n",
       "</div>"
      ],
      "text/plain": [
       "   ST  Climbs  Crags  Aid  Alpine  Boulder  Ice  Mixed  Sport  Toprope  Trad  \\\n",
       "0  AL    1563     32    1       0      959    0      0    334      103   254   \n",
       "1  AK    2055     10   21     585      332  244     60    713      216   862   \n",
       "2  AZ   10244      3   91       4     2410    0      0   4225      445  3749   \n",
       "3  AR    2023      4    1       0      508    0      0   1090       60   446   \n",
       "4  KS     185     23    0       0      177    0      0      1        8     5   \n",
       "\n",
       "                                                text  \n",
       "0  Crags: 32<br>Boulder: 959<br>Sport: 334<br>Top...  \n",
       "1  Crags: 10<br>Boulder: 332<br>Sport: 713<br>Top...  \n",
       "2  Crags: 3<br>Boulder: 2410<br>Sport: 4225<br>To...  \n",
       "3  Crags: 4<br>Boulder: 508<br>Sport: 1090<br>Top...  \n",
       "4  Crags: 23<br>Boulder: 177<br>Sport: 1<br>Topro...  "
      ]
     },
     "execution_count": 5,
     "metadata": {},
     "output_type": "execute_result"
    }
   ],
   "source": [
    "agg_df.head()"
   ]
  },
  {
   "cell_type": "code",
   "execution_count": 21,
   "metadata": {},
   "outputs": [
    {
     "data": {
      "text/html": [
       "<div>\n",
       "<style scoped>\n",
       "    .dataframe tbody tr th:only-of-type {\n",
       "        vertical-align: middle;\n",
       "    }\n",
       "\n",
       "    .dataframe tbody tr th {\n",
       "        vertical-align: top;\n",
       "    }\n",
       "\n",
       "    .dataframe thead th {\n",
       "        text-align: right;\n",
       "    }\n",
       "</style>\n",
       "<table border=\"1\" class=\"dataframe\">\n",
       "  <thead>\n",
       "    <tr style=\"text-align: right;\">\n",
       "      <th></th>\n",
       "      <th>ST</th>\n",
       "      <th>Climbs</th>\n",
       "      <th>Crags</th>\n",
       "      <th>Aid</th>\n",
       "      <th>Alpine</th>\n",
       "      <th>Boulder</th>\n",
       "      <th>Ice</th>\n",
       "      <th>Mixed</th>\n",
       "      <th>Sport</th>\n",
       "      <th>Toprope</th>\n",
       "      <th>Trad</th>\n",
       "      <th>text</th>\n",
       "    </tr>\n",
       "  </thead>\n",
       "  <tbody>\n",
       "    <tr>\n",
       "      <th>20</th>\n",
       "      <td>MA</td>\n",
       "      <td>4551</td>\n",
       "      <td>6</td>\n",
       "      <td>2</td>\n",
       "      <td>3</td>\n",
       "      <td>3834</td>\n",
       "      <td>9</td>\n",
       "      <td>3</td>\n",
       "      <td>79</td>\n",
       "      <td>613</td>\n",
       "      <td>310</td>\n",
       "      <td>Crags: 6&lt;br&gt;Boulder: 3834&lt;br&gt;Sport: 79&lt;br&gt;Topr...</td>\n",
       "    </tr>\n",
       "    <tr>\n",
       "      <th>43</th>\n",
       "      <td>UT</td>\n",
       "      <td>14602</td>\n",
       "      <td>7</td>\n",
       "      <td>557</td>\n",
       "      <td>632</td>\n",
       "      <td>3412</td>\n",
       "      <td>197</td>\n",
       "      <td>44</td>\n",
       "      <td>5311</td>\n",
       "      <td>708</td>\n",
       "      <td>5668</td>\n",
       "      <td>Crags: 7&lt;br&gt;Boulder: 3412&lt;br&gt;Sport: 5311&lt;br&gt;To...</td>\n",
       "    </tr>\n",
       "    <tr>\n",
       "      <th>48</th>\n",
       "      <td>WI</td>\n",
       "      <td>4204</td>\n",
       "      <td>58</td>\n",
       "      <td>0</td>\n",
       "      <td>0</td>\n",
       "      <td>2570</td>\n",
       "      <td>46</td>\n",
       "      <td>3</td>\n",
       "      <td>180</td>\n",
       "      <td>1202</td>\n",
       "      <td>1109</td>\n",
       "      <td>Crags: 58&lt;br&gt;Boulder: 2570&lt;br&gt;Sport: 180&lt;br&gt;To...</td>\n",
       "    </tr>\n",
       "    <tr>\n",
       "      <th>2</th>\n",
       "      <td>AZ</td>\n",
       "      <td>10244</td>\n",
       "      <td>3</td>\n",
       "      <td>91</td>\n",
       "      <td>4</td>\n",
       "      <td>2410</td>\n",
       "      <td>0</td>\n",
       "      <td>0</td>\n",
       "      <td>4225</td>\n",
       "      <td>445</td>\n",
       "      <td>3749</td>\n",
       "      <td>Crags: 3&lt;br&gt;Boulder: 2410&lt;br&gt;Sport: 4225&lt;br&gt;To...</td>\n",
       "    </tr>\n",
       "    <tr>\n",
       "      <th>28</th>\n",
       "      <td>NH</td>\n",
       "      <td>5681</td>\n",
       "      <td>26</td>\n",
       "      <td>48</td>\n",
       "      <td>261</td>\n",
       "      <td>2307</td>\n",
       "      <td>333</td>\n",
       "      <td>62</td>\n",
       "      <td>993</td>\n",
       "      <td>278</td>\n",
       "      <td>2069</td>\n",
       "      <td>Crags: 26&lt;br&gt;Boulder: 2307&lt;br&gt;Sport: 993&lt;br&gt;To...</td>\n",
       "    </tr>\n",
       "    <tr>\n",
       "      <th>46</th>\n",
       "      <td>WA</td>\n",
       "      <td>7897</td>\n",
       "      <td>10</td>\n",
       "      <td>48</td>\n",
       "      <td>410</td>\n",
       "      <td>1991</td>\n",
       "      <td>81</td>\n",
       "      <td>64</td>\n",
       "      <td>3260</td>\n",
       "      <td>557</td>\n",
       "      <td>2618</td>\n",
       "      <td>Crags: 10&lt;br&gt;Boulder: 1991&lt;br&gt;Sport: 3260&lt;br&gt;T...</td>\n",
       "    </tr>\n",
       "    <tr>\n",
       "      <th>42</th>\n",
       "      <td>TX</td>\n",
       "      <td>3181</td>\n",
       "      <td>51</td>\n",
       "      <td>2</td>\n",
       "      <td>5</td>\n",
       "      <td>1763</td>\n",
       "      <td>0</td>\n",
       "      <td>0</td>\n",
       "      <td>1042</td>\n",
       "      <td>294</td>\n",
       "      <td>274</td>\n",
       "      <td>Crags: 51&lt;br&gt;Boulder: 1763&lt;br&gt;Sport: 1042&lt;br&gt;T...</td>\n",
       "    </tr>\n",
       "    <tr>\n",
       "      <th>37</th>\n",
       "      <td>PA</td>\n",
       "      <td>2872</td>\n",
       "      <td>6</td>\n",
       "      <td>5</td>\n",
       "      <td>19</td>\n",
       "      <td>1559</td>\n",
       "      <td>37</td>\n",
       "      <td>10</td>\n",
       "      <td>666</td>\n",
       "      <td>454</td>\n",
       "      <td>434</td>\n",
       "      <td>Crags: 6&lt;br&gt;Boulder: 1559&lt;br&gt;Sport: 666&lt;br&gt;Top...</td>\n",
       "    </tr>\n",
       "    <tr>\n",
       "      <th>38</th>\n",
       "      <td>RI</td>\n",
       "      <td>1332</td>\n",
       "      <td>20</td>\n",
       "      <td>0</td>\n",
       "      <td>0</td>\n",
       "      <td>1307</td>\n",
       "      <td>1</td>\n",
       "      <td>0</td>\n",
       "      <td>8</td>\n",
       "      <td>27</td>\n",
       "      <td>4</td>\n",
       "      <td>Crags: 20&lt;br&gt;Boulder: 1307&lt;br&gt;Sport: 8&lt;br&gt;Topr...</td>\n",
       "    </tr>\n",
       "    <tr>\n",
       "      <th>31</th>\n",
       "      <td>NY</td>\n",
       "      <td>4698</td>\n",
       "      <td>54</td>\n",
       "      <td>21</td>\n",
       "      <td>33</td>\n",
       "      <td>1276</td>\n",
       "      <td>344</td>\n",
       "      <td>98</td>\n",
       "      <td>337</td>\n",
       "      <td>1139</td>\n",
       "      <td>2283</td>\n",
       "      <td>Crags: 54&lt;br&gt;Boulder: 1276&lt;br&gt;Sport: 337&lt;br&gt;To...</td>\n",
       "    </tr>\n",
       "  </tbody>\n",
       "</table>\n",
       "</div>"
      ],
      "text/plain": [
       "    ST  Climbs  Crags  Aid  Alpine  Boulder  Ice  Mixed  Sport  Toprope  Trad  \\\n",
       "20  MA    4551      6    2       3     3834    9      3     79      613   310   \n",
       "43  UT   14602      7  557     632     3412  197     44   5311      708  5668   \n",
       "48  WI    4204     58    0       0     2570   46      3    180     1202  1109   \n",
       "2   AZ   10244      3   91       4     2410    0      0   4225      445  3749   \n",
       "28  NH    5681     26   48     261     2307  333     62    993      278  2069   \n",
       "46  WA    7897     10   48     410     1991   81     64   3260      557  2618   \n",
       "42  TX    3181     51    2       5     1763    0      0   1042      294   274   \n",
       "37  PA    2872      6    5      19     1559   37     10    666      454   434   \n",
       "38  RI    1332     20    0       0     1307    1      0      8       27     4   \n",
       "31  NY    4698     54   21      33     1276  344     98    337     1139  2283   \n",
       "\n",
       "                                                 text  \n",
       "20  Crags: 6<br>Boulder: 3834<br>Sport: 79<br>Topr...  \n",
       "43  Crags: 7<br>Boulder: 3412<br>Sport: 5311<br>To...  \n",
       "48  Crags: 58<br>Boulder: 2570<br>Sport: 180<br>To...  \n",
       "2   Crags: 3<br>Boulder: 2410<br>Sport: 4225<br>To...  \n",
       "28  Crags: 26<br>Boulder: 2307<br>Sport: 993<br>To...  \n",
       "46  Crags: 10<br>Boulder: 1991<br>Sport: 3260<br>T...  \n",
       "42  Crags: 51<br>Boulder: 1763<br>Sport: 1042<br>T...  \n",
       "37  Crags: 6<br>Boulder: 1559<br>Sport: 666<br>Top...  \n",
       "38  Crags: 20<br>Boulder: 1307<br>Sport: 8<br>Topr...  \n",
       "31  Crags: 54<br>Boulder: 1276<br>Sport: 337<br>To...  "
      ]
     },
     "execution_count": 21,
     "metadata": {},
     "output_type": "execute_result"
    }
   ],
   "source": [
    "# Exclude CA, CO \"\"\n",
    "boulder_df = agg_df.sort_values(by = ['Boulder'], ascending = False)[2:]\n",
    "boulder_df.head(10)"
   ]
  },
  {
   "cell_type": "code",
   "execution_count": 22,
   "metadata": {},
   "outputs": [
    {
     "name": "stdout",
     "output_type": "stream",
     "text": [
      "<class 'pandas.core.frame.DataFrame'>\n",
      "Int64Index: 48 entries, 20 to 17\n",
      "Data columns (total 12 columns):\n",
      " #   Column   Non-Null Count  Dtype \n",
      "---  ------   --------------  ----- \n",
      " 0   ST       48 non-null     object\n",
      " 1   Climbs   48 non-null     int64 \n",
      " 2   Crags    48 non-null     int64 \n",
      " 3   Aid      48 non-null     int64 \n",
      " 4   Alpine   48 non-null     int64 \n",
      " 5   Boulder  48 non-null     int64 \n",
      " 6   Ice      48 non-null     int64 \n",
      " 7   Mixed    48 non-null     int64 \n",
      " 8   Sport    48 non-null     int64 \n",
      " 9   Toprope  48 non-null     int64 \n",
      " 10  Trad     48 non-null     int64 \n",
      " 11  text     48 non-null     object\n",
      "dtypes: int64(10), object(2)\n",
      "memory usage: 4.9+ KB\n"
     ]
    }
   ],
   "source": []
  },
  {
   "cell_type": "markdown",
   "metadata": {},
   "source": [
    "### Looks like Massachusetts has a ton of boulders. Utah, Arizona, and Texas aren't surprising, but Wisconsin, and MA certainly are. "
   ]
  },
  {
   "cell_type": "code",
   "execution_count": 26,
   "metadata": {},
   "outputs": [],
   "source": [
    "data = dict(type='choropleth',\n",
    "            colorscale = 'inferno',\n",
    "            locations = boulder_df['ST'],\n",
    "            z = boulder_df['Boulder'],\n",
    "            locationmode = 'USA-states',\n",
    "            text = boulder_df['text'],\n",
    "            marker = dict(line = dict(color = 'rgb(255,255,255)',width = 2)),\n",
    "            colorbar = {'title':\"Number of Boulders\"}\n",
    "            ) \n",
    "\n",
    "layout = dict(title = 'Boulders By State (except CA, CO)',\n",
    "              geo = dict(scope='usa',\n",
    "                         showlakes = True,\n",
    "                         lakecolor = 'rgb(85,173,240)')\n",
    "             )"
   ]
  },
  {
   "cell_type": "code",
   "execution_count": 27,
   "metadata": {},
   "outputs": [],
   "source": [
    "choromap = go.Figure(data = [data],layout = layout)"
   ]
  },
  {
   "cell_type": "code",
   "execution_count": 28,
   "metadata": {},
   "outputs": [
    {
     "data": {
      "application/vnd.plotly.v1+json": {
       "config": {
        "linkText": "Export to plot.ly",
        "plotlyServerURL": "https://plot.ly",
        "showLink": false
       },
       "data": [
        {
         "colorbar": {
          "title": {
           "text": "Number of Boulders"
          }
         },
         "colorscale": [
          [
           0,
           "#000004"
          ],
          [
           0.1111111111111111,
           "#1b0c41"
          ],
          [
           0.2222222222222222,
           "#4a0c6b"
          ],
          [
           0.3333333333333333,
           "#781c6d"
          ],
          [
           0.4444444444444444,
           "#a52c60"
          ],
          [
           0.5555555555555556,
           "#cf4446"
          ],
          [
           0.6666666666666666,
           "#ed6925"
          ],
          [
           0.7777777777777778,
           "#fb9b06"
          ],
          [
           0.8888888888888888,
           "#f7d13d"
          ],
          [
           1,
           "#fcffa4"
          ]
         ],
         "locationmode": "USA-states",
         "locations": [
          "MA",
          "UT",
          "WI",
          "AZ",
          "NH",
          "WA",
          "TX",
          "PA",
          "RI",
          "NY",
          "CT",
          "VA",
          "WV",
          "NM",
          "VT",
          "AL",
          "NC",
          "OH",
          "MN",
          "ID",
          "SD",
          "NV",
          "GA",
          "WY",
          "MD",
          "TN",
          "MT",
          "OR",
          "AR",
          "OK",
          "IL",
          "MI",
          "MO",
          "ME",
          "NJ",
          "AK",
          "HI",
          "KS",
          "IA",
          "KY",
          "IN",
          "MS",
          "SC",
          "ND",
          "FL",
          "DE",
          "NE",
          "LA"
         ],
         "marker": {
          "line": {
           "color": "rgb(255,255,255)",
           "width": 2
          }
         },
         "text": [
          "Crags: 6<br>Boulder: 3834<br>Sport: 79<br>Toprope: 613<br>Trad: 310<br>Alpine: 3<br>Ice: 9",
          "Crags: 7<br>Boulder: 3412<br>Sport: 5311<br>Toprope: 708<br>Trad: 5668<br>Alpine: 632<br>Ice: 197",
          "Crags: 58<br>Boulder: 2570<br>Sport: 180<br>Toprope: 1202<br>Trad: 1109<br>Alpine: 0<br>Ice: 46",
          "Crags: 3<br>Boulder: 2410<br>Sport: 4225<br>Toprope: 445<br>Trad: 3749<br>Alpine: 4<br>Ice: 0",
          "Crags: 26<br>Boulder: 2307<br>Sport: 993<br>Toprope: 278<br>Trad: 2069<br>Alpine: 261<br>Ice: 333",
          "Crags: 10<br>Boulder: 1991<br>Sport: 3260<br>Toprope: 557<br>Trad: 2618<br>Alpine: 410<br>Ice: 81",
          "Crags: 51<br>Boulder: 1763<br>Sport: 1042<br>Toprope: 294<br>Trad: 274<br>Alpine: 5<br>Ice: 0",
          "Crags: 6<br>Boulder: 1559<br>Sport: 666<br>Toprope: 454<br>Trad: 434<br>Alpine: 19<br>Ice: 37",
          "Crags: 20<br>Boulder: 1307<br>Sport: 8<br>Toprope: 27<br>Trad: 4<br>Alpine: 0<br>Ice: 1",
          "Crags: 54<br>Boulder: 1276<br>Sport: 337<br>Toprope: 1139<br>Trad: 2283<br>Alpine: 33<br>Ice: 344",
          "Crags: 7<br>Boulder: 1229<br>Sport: 84<br>Toprope: 531<br>Trad: 602<br>Alpine: 0<br>Ice: 3",
          "Crags: 29<br>Boulder: 1062<br>Sport: 1148<br>Toprope: 197<br>Trad: 1038<br>Alpine: 0<br>Ice: 0",
          "Crags: 29<br>Boulder: 1062<br>Sport: 1148<br>Toprope: 197<br>Trad: 1038<br>Alpine: 0<br>Ice: 0",
          "Crags: 16<br>Boulder: 1015<br>Sport: 2377<br>Toprope: 524<br>Trad: 1765<br>Alpine: 334<br>Ice: 21",
          "Crags: 4<br>Boulder: 980<br>Sport: 228<br>Toprope: 91<br>Trad: 338<br>Alpine: 30<br>Ice: 76",
          "Crags: 32<br>Boulder: 959<br>Sport: 334<br>Toprope: 103<br>Trad: 254<br>Alpine: 0<br>Ice: 0",
          "Crags: 4<br>Boulder: 909<br>Sport: 564<br>Toprope: 288<br>Trad: 1595<br>Alpine: 10<br>Ice: 37",
          "Crags: 6<br>Boulder: 846<br>Sport: 218<br>Toprope: 230<br>Trad: 105<br>Alpine: 0<br>Ice: 2",
          "Crags: 42<br>Boulder: 843<br>Sport: 368<br>Toprope: 592<br>Trad: 384<br>Alpine: 0<br>Ice: 63",
          "Crags: 5<br>Boulder: 831<br>Sport: 1964<br>Toprope: 390<br>Trad: 990<br>Alpine: 209<br>Ice: 20",
          "Crags: 8<br>Boulder: 820<br>Sport: 1362<br>Toprope: 254<br>Trad: 898<br>Alpine: 0<br>Ice: 20",
          "Crags: 3<br>Boulder: 799<br>Sport: 1744<br>Toprope: 201<br>Trad: 1731<br>Alpine: 68<br>Ice: 13",
          "Crags: 37<br>Boulder: 743<br>Sport: 64<br>Toprope: 121<br>Trad: 207<br>Alpine: 0<br>Ice: 4",
          "Crags: 32<br>Boulder: 730<br>Sport: 3017<br>Toprope: 206<br>Trad: 1777<br>Alpine: 734<br>Ice: 118",
          "Crags: 40<br>Boulder: 720<br>Sport: 37<br>Toprope: 587<br>Trad: 508<br>Alpine: 0<br>Ice: 0",
          "Crags: 56<br>Boulder: 663<br>Sport: 1075<br>Toprope: 59<br>Trad: 644<br>Alpine: 0<br>Ice: 1",
          "Crags: 3<br>Boulder: 638<br>Sport: 1112<br>Toprope: 275<br>Trad: 757<br>Alpine: 279<br>Ice: 122",
          "Crags: 8<br>Boulder: 513<br>Sport: 1844<br>Toprope: 454<br>Trad: 1127<br>Alpine: 74<br>Ice: 25",
          "Crags: 4<br>Boulder: 508<br>Sport: 1090<br>Toprope: 60<br>Trad: 446<br>Alpine: 0<br>Ice: 0",
          "Crags: 10<br>Boulder: 504<br>Sport: 160<br>Toprope: 249<br>Trad: 446<br>Alpine: 0<br>Ice: 0",
          "Crags: 27<br>Boulder: 493<br>Sport: 567<br>Toprope: 185<br>Trad: 286<br>Alpine: 0<br>Ice: 17",
          "Crags: 2<br>Boulder: 472<br>Sport: 93<br>Toprope: 268<br>Trad: 151<br>Alpine: 0<br>Ice: 96",
          "Crags: 52<br>Boulder: 457<br>Sport: 505<br>Toprope: 125<br>Trad: 143<br>Alpine: 0<br>Ice: 0",
          "Crags: 16<br>Boulder: 399<br>Sport: 218<br>Toprope: 165<br>Trad: 441<br>Alpine: 23<br>Ice: 40",
          "Crags: 5<br>Boulder: 340<br>Sport: 1<br>Toprope: 216<br>Trad: 185<br>Alpine: 0<br>Ice: 3",
          "Crags: 10<br>Boulder: 332<br>Sport: 713<br>Toprope: 216<br>Trad: 862<br>Alpine: 585<br>Ice: 244",
          "Crags: 6<br>Boulder: 191<br>Sport: 65<br>Toprope: 38<br>Trad: 18<br>Alpine: 0<br>Ice: 0",
          "Crags: 23<br>Boulder: 177<br>Sport: 1<br>Toprope: 8<br>Trad: 5<br>Alpine: 0<br>Ice: 0",
          "Crags: 15<br>Boulder: 122<br>Sport: 109<br>Toprope: 52<br>Trad: 28<br>Alpine: 0<br>Ice: 1",
          "Crags: 11<br>Boulder: 118<br>Sport: 1689<br>Toprope: 40<br>Trad: 680<br>Alpine: 0<br>Ice: 1",
          "Crags: 8<br>Boulder: 100<br>Sport: 4<br>Toprope: 3<br>Trad: 0<br>Alpine: 0<br>Ice: 0",
          "Crags: 3<br>Boulder: 48<br>Sport: 0<br>Toprope: 25<br>Trad: 5<br>Alpine: 0<br>Ice: 0",
          "Crags: 7<br>Boulder: 33<br>Sport: 34<br>Toprope: 16<br>Trad: 71<br>Alpine: 0<br>Ice: 0",
          "Crags: 10<br>Boulder: 27<br>Sport: 7<br>Toprope: 13<br>Trad: 13<br>Alpine: 0<br>Ice: 0",
          "Crags: 14<br>Boulder: 26<br>Sport: 0<br>Toprope: 1<br>Trad: 0<br>Alpine: 0<br>Ice: 0",
          "Crags: 4<br>Boulder: 23<br>Sport: 0<br>Toprope: 15<br>Trad: 2<br>Alpine: 0<br>Ice: 0",
          "Crags: 2<br>Boulder: 8<br>Sport: 0<br>Toprope: 1<br>Trad: 0<br>Alpine: 0<br>Ice: 0",
          "Crags: 1<br>Boulder: 2<br>Sport: 0<br>Toprope: 0<br>Trad: 0<br>Alpine: 0<br>Ice: 0"
         ],
         "type": "choropleth",
         "z": [
          3834,
          3412,
          2570,
          2410,
          2307,
          1991,
          1763,
          1559,
          1307,
          1276,
          1229,
          1062,
          1062,
          1015,
          980,
          959,
          909,
          846,
          843,
          831,
          820,
          799,
          743,
          730,
          720,
          663,
          638,
          513,
          508,
          504,
          493,
          472,
          457,
          399,
          340,
          332,
          191,
          177,
          122,
          118,
          100,
          48,
          33,
          27,
          26,
          23,
          8,
          2
         ]
        }
       ],
       "layout": {
        "geo": {
         "lakecolor": "rgb(85,173,240)",
         "scope": "usa",
         "showlakes": true
        },
        "template": {
         "data": {
          "bar": [
           {
            "error_x": {
             "color": "#2a3f5f"
            },
            "error_y": {
             "color": "#2a3f5f"
            },
            "marker": {
             "line": {
              "color": "#E5ECF6",
              "width": 0.5
             }
            },
            "type": "bar"
           }
          ],
          "barpolar": [
           {
            "marker": {
             "line": {
              "color": "#E5ECF6",
              "width": 0.5
             }
            },
            "type": "barpolar"
           }
          ],
          "carpet": [
           {
            "aaxis": {
             "endlinecolor": "#2a3f5f",
             "gridcolor": "white",
             "linecolor": "white",
             "minorgridcolor": "white",
             "startlinecolor": "#2a3f5f"
            },
            "baxis": {
             "endlinecolor": "#2a3f5f",
             "gridcolor": "white",
             "linecolor": "white",
             "minorgridcolor": "white",
             "startlinecolor": "#2a3f5f"
            },
            "type": "carpet"
           }
          ],
          "choropleth": [
           {
            "colorbar": {
             "outlinewidth": 0,
             "ticks": ""
            },
            "type": "choropleth"
           }
          ],
          "contour": [
           {
            "colorbar": {
             "outlinewidth": 0,
             "ticks": ""
            },
            "colorscale": [
             [
              0,
              "#0d0887"
             ],
             [
              0.1111111111111111,
              "#46039f"
             ],
             [
              0.2222222222222222,
              "#7201a8"
             ],
             [
              0.3333333333333333,
              "#9c179e"
             ],
             [
              0.4444444444444444,
              "#bd3786"
             ],
             [
              0.5555555555555556,
              "#d8576b"
             ],
             [
              0.6666666666666666,
              "#ed7953"
             ],
             [
              0.7777777777777778,
              "#fb9f3a"
             ],
             [
              0.8888888888888888,
              "#fdca26"
             ],
             [
              1,
              "#f0f921"
             ]
            ],
            "type": "contour"
           }
          ],
          "contourcarpet": [
           {
            "colorbar": {
             "outlinewidth": 0,
             "ticks": ""
            },
            "type": "contourcarpet"
           }
          ],
          "heatmap": [
           {
            "colorbar": {
             "outlinewidth": 0,
             "ticks": ""
            },
            "colorscale": [
             [
              0,
              "#0d0887"
             ],
             [
              0.1111111111111111,
              "#46039f"
             ],
             [
              0.2222222222222222,
              "#7201a8"
             ],
             [
              0.3333333333333333,
              "#9c179e"
             ],
             [
              0.4444444444444444,
              "#bd3786"
             ],
             [
              0.5555555555555556,
              "#d8576b"
             ],
             [
              0.6666666666666666,
              "#ed7953"
             ],
             [
              0.7777777777777778,
              "#fb9f3a"
             ],
             [
              0.8888888888888888,
              "#fdca26"
             ],
             [
              1,
              "#f0f921"
             ]
            ],
            "type": "heatmap"
           }
          ],
          "heatmapgl": [
           {
            "colorbar": {
             "outlinewidth": 0,
             "ticks": ""
            },
            "colorscale": [
             [
              0,
              "#0d0887"
             ],
             [
              0.1111111111111111,
              "#46039f"
             ],
             [
              0.2222222222222222,
              "#7201a8"
             ],
             [
              0.3333333333333333,
              "#9c179e"
             ],
             [
              0.4444444444444444,
              "#bd3786"
             ],
             [
              0.5555555555555556,
              "#d8576b"
             ],
             [
              0.6666666666666666,
              "#ed7953"
             ],
             [
              0.7777777777777778,
              "#fb9f3a"
             ],
             [
              0.8888888888888888,
              "#fdca26"
             ],
             [
              1,
              "#f0f921"
             ]
            ],
            "type": "heatmapgl"
           }
          ],
          "histogram": [
           {
            "marker": {
             "colorbar": {
              "outlinewidth": 0,
              "ticks": ""
             }
            },
            "type": "histogram"
           }
          ],
          "histogram2d": [
           {
            "colorbar": {
             "outlinewidth": 0,
             "ticks": ""
            },
            "colorscale": [
             [
              0,
              "#0d0887"
             ],
             [
              0.1111111111111111,
              "#46039f"
             ],
             [
              0.2222222222222222,
              "#7201a8"
             ],
             [
              0.3333333333333333,
              "#9c179e"
             ],
             [
              0.4444444444444444,
              "#bd3786"
             ],
             [
              0.5555555555555556,
              "#d8576b"
             ],
             [
              0.6666666666666666,
              "#ed7953"
             ],
             [
              0.7777777777777778,
              "#fb9f3a"
             ],
             [
              0.8888888888888888,
              "#fdca26"
             ],
             [
              1,
              "#f0f921"
             ]
            ],
            "type": "histogram2d"
           }
          ],
          "histogram2dcontour": [
           {
            "colorbar": {
             "outlinewidth": 0,
             "ticks": ""
            },
            "colorscale": [
             [
              0,
              "#0d0887"
             ],
             [
              0.1111111111111111,
              "#46039f"
             ],
             [
              0.2222222222222222,
              "#7201a8"
             ],
             [
              0.3333333333333333,
              "#9c179e"
             ],
             [
              0.4444444444444444,
              "#bd3786"
             ],
             [
              0.5555555555555556,
              "#d8576b"
             ],
             [
              0.6666666666666666,
              "#ed7953"
             ],
             [
              0.7777777777777778,
              "#fb9f3a"
             ],
             [
              0.8888888888888888,
              "#fdca26"
             ],
             [
              1,
              "#f0f921"
             ]
            ],
            "type": "histogram2dcontour"
           }
          ],
          "mesh3d": [
           {
            "colorbar": {
             "outlinewidth": 0,
             "ticks": ""
            },
            "type": "mesh3d"
           }
          ],
          "parcoords": [
           {
            "line": {
             "colorbar": {
              "outlinewidth": 0,
              "ticks": ""
             }
            },
            "type": "parcoords"
           }
          ],
          "pie": [
           {
            "automargin": true,
            "type": "pie"
           }
          ],
          "scatter": [
           {
            "marker": {
             "colorbar": {
              "outlinewidth": 0,
              "ticks": ""
             }
            },
            "type": "scatter"
           }
          ],
          "scatter3d": [
           {
            "line": {
             "colorbar": {
              "outlinewidth": 0,
              "ticks": ""
             }
            },
            "marker": {
             "colorbar": {
              "outlinewidth": 0,
              "ticks": ""
             }
            },
            "type": "scatter3d"
           }
          ],
          "scattercarpet": [
           {
            "marker": {
             "colorbar": {
              "outlinewidth": 0,
              "ticks": ""
             }
            },
            "type": "scattercarpet"
           }
          ],
          "scattergeo": [
           {
            "marker": {
             "colorbar": {
              "outlinewidth": 0,
              "ticks": ""
             }
            },
            "type": "scattergeo"
           }
          ],
          "scattergl": [
           {
            "marker": {
             "colorbar": {
              "outlinewidth": 0,
              "ticks": ""
             }
            },
            "type": "scattergl"
           }
          ],
          "scattermapbox": [
           {
            "marker": {
             "colorbar": {
              "outlinewidth": 0,
              "ticks": ""
             }
            },
            "type": "scattermapbox"
           }
          ],
          "scatterpolar": [
           {
            "marker": {
             "colorbar": {
              "outlinewidth": 0,
              "ticks": ""
             }
            },
            "type": "scatterpolar"
           }
          ],
          "scatterpolargl": [
           {
            "marker": {
             "colorbar": {
              "outlinewidth": 0,
              "ticks": ""
             }
            },
            "type": "scatterpolargl"
           }
          ],
          "scatterternary": [
           {
            "marker": {
             "colorbar": {
              "outlinewidth": 0,
              "ticks": ""
             }
            },
            "type": "scatterternary"
           }
          ],
          "surface": [
           {
            "colorbar": {
             "outlinewidth": 0,
             "ticks": ""
            },
            "colorscale": [
             [
              0,
              "#0d0887"
             ],
             [
              0.1111111111111111,
              "#46039f"
             ],
             [
              0.2222222222222222,
              "#7201a8"
             ],
             [
              0.3333333333333333,
              "#9c179e"
             ],
             [
              0.4444444444444444,
              "#bd3786"
             ],
             [
              0.5555555555555556,
              "#d8576b"
             ],
             [
              0.6666666666666666,
              "#ed7953"
             ],
             [
              0.7777777777777778,
              "#fb9f3a"
             ],
             [
              0.8888888888888888,
              "#fdca26"
             ],
             [
              1,
              "#f0f921"
             ]
            ],
            "type": "surface"
           }
          ],
          "table": [
           {
            "cells": {
             "fill": {
              "color": "#EBF0F8"
             },
             "line": {
              "color": "white"
             }
            },
            "header": {
             "fill": {
              "color": "#C8D4E3"
             },
             "line": {
              "color": "white"
             }
            },
            "type": "table"
           }
          ]
         },
         "layout": {
          "annotationdefaults": {
           "arrowcolor": "#2a3f5f",
           "arrowhead": 0,
           "arrowwidth": 1
          },
          "coloraxis": {
           "colorbar": {
            "outlinewidth": 0,
            "ticks": ""
           }
          },
          "colorscale": {
           "diverging": [
            [
             0,
             "#8e0152"
            ],
            [
             0.1,
             "#c51b7d"
            ],
            [
             0.2,
             "#de77ae"
            ],
            [
             0.3,
             "#f1b6da"
            ],
            [
             0.4,
             "#fde0ef"
            ],
            [
             0.5,
             "#f7f7f7"
            ],
            [
             0.6,
             "#e6f5d0"
            ],
            [
             0.7,
             "#b8e186"
            ],
            [
             0.8,
             "#7fbc41"
            ],
            [
             0.9,
             "#4d9221"
            ],
            [
             1,
             "#276419"
            ]
           ],
           "sequential": [
            [
             0,
             "#0d0887"
            ],
            [
             0.1111111111111111,
             "#46039f"
            ],
            [
             0.2222222222222222,
             "#7201a8"
            ],
            [
             0.3333333333333333,
             "#9c179e"
            ],
            [
             0.4444444444444444,
             "#bd3786"
            ],
            [
             0.5555555555555556,
             "#d8576b"
            ],
            [
             0.6666666666666666,
             "#ed7953"
            ],
            [
             0.7777777777777778,
             "#fb9f3a"
            ],
            [
             0.8888888888888888,
             "#fdca26"
            ],
            [
             1,
             "#f0f921"
            ]
           ],
           "sequentialminus": [
            [
             0,
             "#0d0887"
            ],
            [
             0.1111111111111111,
             "#46039f"
            ],
            [
             0.2222222222222222,
             "#7201a8"
            ],
            [
             0.3333333333333333,
             "#9c179e"
            ],
            [
             0.4444444444444444,
             "#bd3786"
            ],
            [
             0.5555555555555556,
             "#d8576b"
            ],
            [
             0.6666666666666666,
             "#ed7953"
            ],
            [
             0.7777777777777778,
             "#fb9f3a"
            ],
            [
             0.8888888888888888,
             "#fdca26"
            ],
            [
             1,
             "#f0f921"
            ]
           ]
          },
          "colorway": [
           "#636efa",
           "#EF553B",
           "#00cc96",
           "#ab63fa",
           "#FFA15A",
           "#19d3f3",
           "#FF6692",
           "#B6E880",
           "#FF97FF",
           "#FECB52"
          ],
          "font": {
           "color": "#2a3f5f"
          },
          "geo": {
           "bgcolor": "white",
           "lakecolor": "white",
           "landcolor": "#E5ECF6",
           "showlakes": true,
           "showland": true,
           "subunitcolor": "white"
          },
          "hoverlabel": {
           "align": "left"
          },
          "hovermode": "closest",
          "mapbox": {
           "style": "light"
          },
          "paper_bgcolor": "white",
          "plot_bgcolor": "#E5ECF6",
          "polar": {
           "angularaxis": {
            "gridcolor": "white",
            "linecolor": "white",
            "ticks": ""
           },
           "bgcolor": "#E5ECF6",
           "radialaxis": {
            "gridcolor": "white",
            "linecolor": "white",
            "ticks": ""
           }
          },
          "scene": {
           "xaxis": {
            "backgroundcolor": "#E5ECF6",
            "gridcolor": "white",
            "gridwidth": 2,
            "linecolor": "white",
            "showbackground": true,
            "ticks": "",
            "zerolinecolor": "white"
           },
           "yaxis": {
            "backgroundcolor": "#E5ECF6",
            "gridcolor": "white",
            "gridwidth": 2,
            "linecolor": "white",
            "showbackground": true,
            "ticks": "",
            "zerolinecolor": "white"
           },
           "zaxis": {
            "backgroundcolor": "#E5ECF6",
            "gridcolor": "white",
            "gridwidth": 2,
            "linecolor": "white",
            "showbackground": true,
            "ticks": "",
            "zerolinecolor": "white"
           }
          },
          "shapedefaults": {
           "line": {
            "color": "#2a3f5f"
           }
          },
          "ternary": {
           "aaxis": {
            "gridcolor": "white",
            "linecolor": "white",
            "ticks": ""
           },
           "baxis": {
            "gridcolor": "white",
            "linecolor": "white",
            "ticks": ""
           },
           "bgcolor": "#E5ECF6",
           "caxis": {
            "gridcolor": "white",
            "linecolor": "white",
            "ticks": ""
           }
          },
          "title": {
           "x": 0.05
          },
          "xaxis": {
           "automargin": true,
           "gridcolor": "white",
           "linecolor": "white",
           "ticks": "",
           "title": {
            "standoff": 15
           },
           "zerolinecolor": "white",
           "zerolinewidth": 2
          },
          "yaxis": {
           "automargin": true,
           "gridcolor": "white",
           "linecolor": "white",
           "ticks": "",
           "title": {
            "standoff": 15
           },
           "zerolinecolor": "white",
           "zerolinewidth": 2
          }
         }
        },
        "title": {
         "text": "Boulders By State (except CA, CO)"
        }
       }
      },
      "text/html": [
       "<div>                            <div id=\"eb13ab08-1c70-4e5f-a1ba-23da97da9904\" class=\"plotly-graph-div\" style=\"height:525px; width:100%;\"></div>            <script type=\"text/javascript\">                require([\"plotly\"], function(Plotly) {                    window.PLOTLYENV=window.PLOTLYENV || {};                                    if (document.getElementById(\"eb13ab08-1c70-4e5f-a1ba-23da97da9904\")) {                    Plotly.newPlot(                        \"eb13ab08-1c70-4e5f-a1ba-23da97da9904\",                        [{\"colorbar\": {\"title\": {\"text\": \"Number of Boulders\"}}, \"colorscale\": [[0.0, \"#000004\"], [0.1111111111111111, \"#1b0c41\"], [0.2222222222222222, \"#4a0c6b\"], [0.3333333333333333, \"#781c6d\"], [0.4444444444444444, \"#a52c60\"], [0.5555555555555556, \"#cf4446\"], [0.6666666666666666, \"#ed6925\"], [0.7777777777777778, \"#fb9b06\"], [0.8888888888888888, \"#f7d13d\"], [1.0, \"#fcffa4\"]], \"locationmode\": \"USA-states\", \"locations\": [\"MA\", \"UT\", \"WI\", \"AZ\", \"NH\", \"WA\", \"TX\", \"PA\", \"RI\", \"NY\", \"CT\", \"VA\", \"WV\", \"NM\", \"VT\", \"AL\", \"NC\", \"OH\", \"MN\", \"ID\", \"SD\", \"NV\", \"GA\", \"WY\", \"MD\", \"TN\", \"MT\", \"OR\", \"AR\", \"OK\", \"IL\", \"MI\", \"MO\", \"ME\", \"NJ\", \"AK\", \"HI\", \"KS\", \"IA\", \"KY\", \"IN\", \"MS\", \"SC\", \"ND\", \"FL\", \"DE\", \"NE\", \"LA\"], \"marker\": {\"line\": {\"color\": \"rgb(255,255,255)\", \"width\": 2}}, \"text\": [\"Crags: 6<br>Boulder: 3834<br>Sport: 79<br>Toprope: 613<br>Trad: 310<br>Alpine: 3<br>Ice: 9\", \"Crags: 7<br>Boulder: 3412<br>Sport: 5311<br>Toprope: 708<br>Trad: 5668<br>Alpine: 632<br>Ice: 197\", \"Crags: 58<br>Boulder: 2570<br>Sport: 180<br>Toprope: 1202<br>Trad: 1109<br>Alpine: 0<br>Ice: 46\", \"Crags: 3<br>Boulder: 2410<br>Sport: 4225<br>Toprope: 445<br>Trad: 3749<br>Alpine: 4<br>Ice: 0\", \"Crags: 26<br>Boulder: 2307<br>Sport: 993<br>Toprope: 278<br>Trad: 2069<br>Alpine: 261<br>Ice: 333\", \"Crags: 10<br>Boulder: 1991<br>Sport: 3260<br>Toprope: 557<br>Trad: 2618<br>Alpine: 410<br>Ice: 81\", \"Crags: 51<br>Boulder: 1763<br>Sport: 1042<br>Toprope: 294<br>Trad: 274<br>Alpine: 5<br>Ice: 0\", \"Crags: 6<br>Boulder: 1559<br>Sport: 666<br>Toprope: 454<br>Trad: 434<br>Alpine: 19<br>Ice: 37\", \"Crags: 20<br>Boulder: 1307<br>Sport: 8<br>Toprope: 27<br>Trad: 4<br>Alpine: 0<br>Ice: 1\", \"Crags: 54<br>Boulder: 1276<br>Sport: 337<br>Toprope: 1139<br>Trad: 2283<br>Alpine: 33<br>Ice: 344\", \"Crags: 7<br>Boulder: 1229<br>Sport: 84<br>Toprope: 531<br>Trad: 602<br>Alpine: 0<br>Ice: 3\", \"Crags: 29<br>Boulder: 1062<br>Sport: 1148<br>Toprope: 197<br>Trad: 1038<br>Alpine: 0<br>Ice: 0\", \"Crags: 29<br>Boulder: 1062<br>Sport: 1148<br>Toprope: 197<br>Trad: 1038<br>Alpine: 0<br>Ice: 0\", \"Crags: 16<br>Boulder: 1015<br>Sport: 2377<br>Toprope: 524<br>Trad: 1765<br>Alpine: 334<br>Ice: 21\", \"Crags: 4<br>Boulder: 980<br>Sport: 228<br>Toprope: 91<br>Trad: 338<br>Alpine: 30<br>Ice: 76\", \"Crags: 32<br>Boulder: 959<br>Sport: 334<br>Toprope: 103<br>Trad: 254<br>Alpine: 0<br>Ice: 0\", \"Crags: 4<br>Boulder: 909<br>Sport: 564<br>Toprope: 288<br>Trad: 1595<br>Alpine: 10<br>Ice: 37\", \"Crags: 6<br>Boulder: 846<br>Sport: 218<br>Toprope: 230<br>Trad: 105<br>Alpine: 0<br>Ice: 2\", \"Crags: 42<br>Boulder: 843<br>Sport: 368<br>Toprope: 592<br>Trad: 384<br>Alpine: 0<br>Ice: 63\", \"Crags: 5<br>Boulder: 831<br>Sport: 1964<br>Toprope: 390<br>Trad: 990<br>Alpine: 209<br>Ice: 20\", \"Crags: 8<br>Boulder: 820<br>Sport: 1362<br>Toprope: 254<br>Trad: 898<br>Alpine: 0<br>Ice: 20\", \"Crags: 3<br>Boulder: 799<br>Sport: 1744<br>Toprope: 201<br>Trad: 1731<br>Alpine: 68<br>Ice: 13\", \"Crags: 37<br>Boulder: 743<br>Sport: 64<br>Toprope: 121<br>Trad: 207<br>Alpine: 0<br>Ice: 4\", \"Crags: 32<br>Boulder: 730<br>Sport: 3017<br>Toprope: 206<br>Trad: 1777<br>Alpine: 734<br>Ice: 118\", \"Crags: 40<br>Boulder: 720<br>Sport: 37<br>Toprope: 587<br>Trad: 508<br>Alpine: 0<br>Ice: 0\", \"Crags: 56<br>Boulder: 663<br>Sport: 1075<br>Toprope: 59<br>Trad: 644<br>Alpine: 0<br>Ice: 1\", \"Crags: 3<br>Boulder: 638<br>Sport: 1112<br>Toprope: 275<br>Trad: 757<br>Alpine: 279<br>Ice: 122\", \"Crags: 8<br>Boulder: 513<br>Sport: 1844<br>Toprope: 454<br>Trad: 1127<br>Alpine: 74<br>Ice: 25\", \"Crags: 4<br>Boulder: 508<br>Sport: 1090<br>Toprope: 60<br>Trad: 446<br>Alpine: 0<br>Ice: 0\", \"Crags: 10<br>Boulder: 504<br>Sport: 160<br>Toprope: 249<br>Trad: 446<br>Alpine: 0<br>Ice: 0\", \"Crags: 27<br>Boulder: 493<br>Sport: 567<br>Toprope: 185<br>Trad: 286<br>Alpine: 0<br>Ice: 17\", \"Crags: 2<br>Boulder: 472<br>Sport: 93<br>Toprope: 268<br>Trad: 151<br>Alpine: 0<br>Ice: 96\", \"Crags: 52<br>Boulder: 457<br>Sport: 505<br>Toprope: 125<br>Trad: 143<br>Alpine: 0<br>Ice: 0\", \"Crags: 16<br>Boulder: 399<br>Sport: 218<br>Toprope: 165<br>Trad: 441<br>Alpine: 23<br>Ice: 40\", \"Crags: 5<br>Boulder: 340<br>Sport: 1<br>Toprope: 216<br>Trad: 185<br>Alpine: 0<br>Ice: 3\", \"Crags: 10<br>Boulder: 332<br>Sport: 713<br>Toprope: 216<br>Trad: 862<br>Alpine: 585<br>Ice: 244\", \"Crags: 6<br>Boulder: 191<br>Sport: 65<br>Toprope: 38<br>Trad: 18<br>Alpine: 0<br>Ice: 0\", \"Crags: 23<br>Boulder: 177<br>Sport: 1<br>Toprope: 8<br>Trad: 5<br>Alpine: 0<br>Ice: 0\", \"Crags: 15<br>Boulder: 122<br>Sport: 109<br>Toprope: 52<br>Trad: 28<br>Alpine: 0<br>Ice: 1\", \"Crags: 11<br>Boulder: 118<br>Sport: 1689<br>Toprope: 40<br>Trad: 680<br>Alpine: 0<br>Ice: 1\", \"Crags: 8<br>Boulder: 100<br>Sport: 4<br>Toprope: 3<br>Trad: 0<br>Alpine: 0<br>Ice: 0\", \"Crags: 3<br>Boulder: 48<br>Sport: 0<br>Toprope: 25<br>Trad: 5<br>Alpine: 0<br>Ice: 0\", \"Crags: 7<br>Boulder: 33<br>Sport: 34<br>Toprope: 16<br>Trad: 71<br>Alpine: 0<br>Ice: 0\", \"Crags: 10<br>Boulder: 27<br>Sport: 7<br>Toprope: 13<br>Trad: 13<br>Alpine: 0<br>Ice: 0\", \"Crags: 14<br>Boulder: 26<br>Sport: 0<br>Toprope: 1<br>Trad: 0<br>Alpine: 0<br>Ice: 0\", \"Crags: 4<br>Boulder: 23<br>Sport: 0<br>Toprope: 15<br>Trad: 2<br>Alpine: 0<br>Ice: 0\", \"Crags: 2<br>Boulder: 8<br>Sport: 0<br>Toprope: 1<br>Trad: 0<br>Alpine: 0<br>Ice: 0\", \"Crags: 1<br>Boulder: 2<br>Sport: 0<br>Toprope: 0<br>Trad: 0<br>Alpine: 0<br>Ice: 0\"], \"type\": \"choropleth\", \"z\": [3834, 3412, 2570, 2410, 2307, 1991, 1763, 1559, 1307, 1276, 1229, 1062, 1062, 1015, 980, 959, 909, 846, 843, 831, 820, 799, 743, 730, 720, 663, 638, 513, 508, 504, 493, 472, 457, 399, 340, 332, 191, 177, 122, 118, 100, 48, 33, 27, 26, 23, 8, 2]}],                        {\"geo\": {\"lakecolor\": \"rgb(85,173,240)\", \"scope\": \"usa\", \"showlakes\": true}, \"template\": {\"data\": {\"bar\": [{\"error_x\": {\"color\": \"#2a3f5f\"}, \"error_y\": {\"color\": \"#2a3f5f\"}, \"marker\": {\"line\": {\"color\": \"#E5ECF6\", \"width\": 0.5}}, \"type\": \"bar\"}], \"barpolar\": [{\"marker\": {\"line\": {\"color\": \"#E5ECF6\", \"width\": 0.5}}, \"type\": \"barpolar\"}], \"carpet\": [{\"aaxis\": {\"endlinecolor\": \"#2a3f5f\", \"gridcolor\": \"white\", \"linecolor\": \"white\", \"minorgridcolor\": \"white\", \"startlinecolor\": \"#2a3f5f\"}, \"baxis\": {\"endlinecolor\": \"#2a3f5f\", \"gridcolor\": \"white\", \"linecolor\": \"white\", \"minorgridcolor\": \"white\", \"startlinecolor\": \"#2a3f5f\"}, \"type\": \"carpet\"}], \"choropleth\": [{\"colorbar\": {\"outlinewidth\": 0, \"ticks\": \"\"}, \"type\": \"choropleth\"}], \"contour\": [{\"colorbar\": {\"outlinewidth\": 0, \"ticks\": \"\"}, \"colorscale\": [[0.0, \"#0d0887\"], [0.1111111111111111, \"#46039f\"], [0.2222222222222222, \"#7201a8\"], [0.3333333333333333, \"#9c179e\"], [0.4444444444444444, \"#bd3786\"], [0.5555555555555556, \"#d8576b\"], [0.6666666666666666, \"#ed7953\"], [0.7777777777777778, \"#fb9f3a\"], [0.8888888888888888, \"#fdca26\"], [1.0, \"#f0f921\"]], \"type\": \"contour\"}], \"contourcarpet\": [{\"colorbar\": {\"outlinewidth\": 0, \"ticks\": \"\"}, \"type\": \"contourcarpet\"}], \"heatmap\": [{\"colorbar\": {\"outlinewidth\": 0, \"ticks\": \"\"}, \"colorscale\": [[0.0, \"#0d0887\"], [0.1111111111111111, \"#46039f\"], [0.2222222222222222, \"#7201a8\"], [0.3333333333333333, \"#9c179e\"], [0.4444444444444444, \"#bd3786\"], [0.5555555555555556, \"#d8576b\"], [0.6666666666666666, \"#ed7953\"], [0.7777777777777778, \"#fb9f3a\"], [0.8888888888888888, \"#fdca26\"], [1.0, \"#f0f921\"]], \"type\": \"heatmap\"}], \"heatmapgl\": [{\"colorbar\": {\"outlinewidth\": 0, \"ticks\": \"\"}, \"colorscale\": [[0.0, \"#0d0887\"], [0.1111111111111111, \"#46039f\"], [0.2222222222222222, \"#7201a8\"], [0.3333333333333333, \"#9c179e\"], [0.4444444444444444, \"#bd3786\"], [0.5555555555555556, \"#d8576b\"], [0.6666666666666666, \"#ed7953\"], [0.7777777777777778, \"#fb9f3a\"], [0.8888888888888888, \"#fdca26\"], [1.0, \"#f0f921\"]], \"type\": \"heatmapgl\"}], \"histogram\": [{\"marker\": {\"colorbar\": {\"outlinewidth\": 0, \"ticks\": \"\"}}, \"type\": \"histogram\"}], \"histogram2d\": [{\"colorbar\": {\"outlinewidth\": 0, \"ticks\": \"\"}, \"colorscale\": [[0.0, \"#0d0887\"], [0.1111111111111111, \"#46039f\"], [0.2222222222222222, \"#7201a8\"], [0.3333333333333333, \"#9c179e\"], [0.4444444444444444, \"#bd3786\"], [0.5555555555555556, \"#d8576b\"], [0.6666666666666666, \"#ed7953\"], [0.7777777777777778, \"#fb9f3a\"], [0.8888888888888888, \"#fdca26\"], [1.0, \"#f0f921\"]], \"type\": \"histogram2d\"}], \"histogram2dcontour\": [{\"colorbar\": {\"outlinewidth\": 0, \"ticks\": \"\"}, \"colorscale\": [[0.0, \"#0d0887\"], [0.1111111111111111, \"#46039f\"], [0.2222222222222222, \"#7201a8\"], [0.3333333333333333, \"#9c179e\"], [0.4444444444444444, \"#bd3786\"], [0.5555555555555556, \"#d8576b\"], [0.6666666666666666, \"#ed7953\"], [0.7777777777777778, \"#fb9f3a\"], [0.8888888888888888, \"#fdca26\"], [1.0, \"#f0f921\"]], \"type\": \"histogram2dcontour\"}], \"mesh3d\": [{\"colorbar\": {\"outlinewidth\": 0, \"ticks\": \"\"}, \"type\": \"mesh3d\"}], \"parcoords\": [{\"line\": {\"colorbar\": {\"outlinewidth\": 0, \"ticks\": \"\"}}, \"type\": \"parcoords\"}], \"pie\": [{\"automargin\": true, \"type\": \"pie\"}], \"scatter\": [{\"marker\": {\"colorbar\": {\"outlinewidth\": 0, \"ticks\": \"\"}}, \"type\": \"scatter\"}], \"scatter3d\": [{\"line\": {\"colorbar\": {\"outlinewidth\": 0, \"ticks\": \"\"}}, \"marker\": {\"colorbar\": {\"outlinewidth\": 0, \"ticks\": \"\"}}, \"type\": \"scatter3d\"}], \"scattercarpet\": [{\"marker\": {\"colorbar\": {\"outlinewidth\": 0, \"ticks\": \"\"}}, \"type\": \"scattercarpet\"}], \"scattergeo\": [{\"marker\": {\"colorbar\": {\"outlinewidth\": 0, \"ticks\": \"\"}}, \"type\": \"scattergeo\"}], \"scattergl\": [{\"marker\": {\"colorbar\": {\"outlinewidth\": 0, \"ticks\": \"\"}}, \"type\": \"scattergl\"}], \"scattermapbox\": [{\"marker\": {\"colorbar\": {\"outlinewidth\": 0, \"ticks\": \"\"}}, \"type\": \"scattermapbox\"}], \"scatterpolar\": [{\"marker\": {\"colorbar\": {\"outlinewidth\": 0, \"ticks\": \"\"}}, \"type\": \"scatterpolar\"}], \"scatterpolargl\": [{\"marker\": {\"colorbar\": {\"outlinewidth\": 0, \"ticks\": \"\"}}, \"type\": \"scatterpolargl\"}], \"scatterternary\": [{\"marker\": {\"colorbar\": {\"outlinewidth\": 0, \"ticks\": \"\"}}, \"type\": \"scatterternary\"}], \"surface\": [{\"colorbar\": {\"outlinewidth\": 0, \"ticks\": \"\"}, \"colorscale\": [[0.0, \"#0d0887\"], [0.1111111111111111, \"#46039f\"], [0.2222222222222222, \"#7201a8\"], [0.3333333333333333, \"#9c179e\"], [0.4444444444444444, \"#bd3786\"], [0.5555555555555556, \"#d8576b\"], [0.6666666666666666, \"#ed7953\"], [0.7777777777777778, \"#fb9f3a\"], [0.8888888888888888, \"#fdca26\"], [1.0, \"#f0f921\"]], \"type\": \"surface\"}], \"table\": [{\"cells\": {\"fill\": {\"color\": \"#EBF0F8\"}, \"line\": {\"color\": \"white\"}}, \"header\": {\"fill\": {\"color\": \"#C8D4E3\"}, \"line\": {\"color\": \"white\"}}, \"type\": \"table\"}]}, \"layout\": {\"annotationdefaults\": {\"arrowcolor\": \"#2a3f5f\", \"arrowhead\": 0, \"arrowwidth\": 1}, \"coloraxis\": {\"colorbar\": {\"outlinewidth\": 0, \"ticks\": \"\"}}, \"colorscale\": {\"diverging\": [[0, \"#8e0152\"], [0.1, \"#c51b7d\"], [0.2, \"#de77ae\"], [0.3, \"#f1b6da\"], [0.4, \"#fde0ef\"], [0.5, \"#f7f7f7\"], [0.6, \"#e6f5d0\"], [0.7, \"#b8e186\"], [0.8, \"#7fbc41\"], [0.9, \"#4d9221\"], [1, \"#276419\"]], \"sequential\": [[0.0, \"#0d0887\"], [0.1111111111111111, \"#46039f\"], [0.2222222222222222, \"#7201a8\"], [0.3333333333333333, \"#9c179e\"], [0.4444444444444444, \"#bd3786\"], [0.5555555555555556, \"#d8576b\"], [0.6666666666666666, \"#ed7953\"], [0.7777777777777778, \"#fb9f3a\"], [0.8888888888888888, \"#fdca26\"], [1.0, \"#f0f921\"]], \"sequentialminus\": [[0.0, \"#0d0887\"], [0.1111111111111111, \"#46039f\"], [0.2222222222222222, \"#7201a8\"], [0.3333333333333333, \"#9c179e\"], [0.4444444444444444, \"#bd3786\"], [0.5555555555555556, \"#d8576b\"], [0.6666666666666666, \"#ed7953\"], [0.7777777777777778, \"#fb9f3a\"], [0.8888888888888888, \"#fdca26\"], [1.0, \"#f0f921\"]]}, \"colorway\": [\"#636efa\", \"#EF553B\", \"#00cc96\", \"#ab63fa\", \"#FFA15A\", \"#19d3f3\", \"#FF6692\", \"#B6E880\", \"#FF97FF\", \"#FECB52\"], \"font\": {\"color\": \"#2a3f5f\"}, \"geo\": {\"bgcolor\": \"white\", \"lakecolor\": \"white\", \"landcolor\": \"#E5ECF6\", \"showlakes\": true, \"showland\": true, \"subunitcolor\": \"white\"}, \"hoverlabel\": {\"align\": \"left\"}, \"hovermode\": \"closest\", \"mapbox\": {\"style\": \"light\"}, \"paper_bgcolor\": \"white\", \"plot_bgcolor\": \"#E5ECF6\", \"polar\": {\"angularaxis\": {\"gridcolor\": \"white\", \"linecolor\": \"white\", \"ticks\": \"\"}, \"bgcolor\": \"#E5ECF6\", \"radialaxis\": {\"gridcolor\": \"white\", \"linecolor\": \"white\", \"ticks\": \"\"}}, \"scene\": {\"xaxis\": {\"backgroundcolor\": \"#E5ECF6\", \"gridcolor\": \"white\", \"gridwidth\": 2, \"linecolor\": \"white\", \"showbackground\": true, \"ticks\": \"\", \"zerolinecolor\": \"white\"}, \"yaxis\": {\"backgroundcolor\": \"#E5ECF6\", \"gridcolor\": \"white\", \"gridwidth\": 2, \"linecolor\": \"white\", \"showbackground\": true, \"ticks\": \"\", \"zerolinecolor\": \"white\"}, \"zaxis\": {\"backgroundcolor\": \"#E5ECF6\", \"gridcolor\": \"white\", \"gridwidth\": 2, \"linecolor\": \"white\", \"showbackground\": true, \"ticks\": \"\", \"zerolinecolor\": \"white\"}}, \"shapedefaults\": {\"line\": {\"color\": \"#2a3f5f\"}}, \"ternary\": {\"aaxis\": {\"gridcolor\": \"white\", \"linecolor\": \"white\", \"ticks\": \"\"}, \"baxis\": {\"gridcolor\": \"white\", \"linecolor\": \"white\", \"ticks\": \"\"}, \"bgcolor\": \"#E5ECF6\", \"caxis\": {\"gridcolor\": \"white\", \"linecolor\": \"white\", \"ticks\": \"\"}}, \"title\": {\"x\": 0.05}, \"xaxis\": {\"automargin\": true, \"gridcolor\": \"white\", \"linecolor\": \"white\", \"ticks\": \"\", \"title\": {\"standoff\": 15}, \"zerolinecolor\": \"white\", \"zerolinewidth\": 2}, \"yaxis\": {\"automargin\": true, \"gridcolor\": \"white\", \"linecolor\": \"white\", \"ticks\": \"\", \"title\": {\"standoff\": 15}, \"zerolinecolor\": \"white\", \"zerolinewidth\": 2}}}, \"title\": {\"text\": \"Boulders By State (except CA, CO)\"}},                        {\"responsive\": true}                    ).then(function(){\n",
       "                            \n",
       "var gd = document.getElementById('eb13ab08-1c70-4e5f-a1ba-23da97da9904');\n",
       "var x = new MutationObserver(function (mutations, observer) {{\n",
       "        var display = window.getComputedStyle(gd).display;\n",
       "        if (!display || display === 'none') {{\n",
       "            console.log([gd, 'removed!']);\n",
       "            Plotly.purge(gd);\n",
       "            observer.disconnect();\n",
       "        }}\n",
       "}});\n",
       "\n",
       "// Listen for the removal of the full notebook cells\n",
       "var notebookContainer = gd.closest('#notebook-container');\n",
       "if (notebookContainer) {{\n",
       "    x.observe(notebookContainer, {childList: true});\n",
       "}}\n",
       "\n",
       "// Listen for the clearing of the current output cell\n",
       "var outputEl = gd.closest('.output');\n",
       "if (outputEl) {{\n",
       "    x.observe(outputEl, {childList: true});\n",
       "}}\n",
       "\n",
       "                        })                };                });            </script>        </div>"
      ]
     },
     "metadata": {},
     "output_type": "display_data"
    }
   ],
   "source": [
    "iplot(choromap)"
   ]
  },
  {
   "cell_type": "code",
   "execution_count": 7,
   "metadata": {},
   "outputs": [
    {
     "data": {
      "text/html": [
       "<div>\n",
       "<style scoped>\n",
       "    .dataframe tbody tr th:only-of-type {\n",
       "        vertical-align: middle;\n",
       "    }\n",
       "\n",
       "    .dataframe tbody tr th {\n",
       "        vertical-align: top;\n",
       "    }\n",
       "\n",
       "    .dataframe thead th {\n",
       "        text-align: right;\n",
       "    }\n",
       "</style>\n",
       "<table border=\"1\" class=\"dataframe\">\n",
       "  <thead>\n",
       "    <tr style=\"text-align: right;\">\n",
       "      <th></th>\n",
       "      <th>Unnamed: 0</th>\n",
       "      <th>Crags</th>\n",
       "      <th>Climbs</th>\n",
       "      <th>ST</th>\n",
       "    </tr>\n",
       "  </thead>\n",
       "  <tbody>\n",
       "    <tr>\n",
       "      <th>364</th>\n",
       "      <td>0</td>\n",
       "      <td>Central, MA</td>\n",
       "      <td>143</td>\n",
       "      <td>MA</td>\n",
       "    </tr>\n",
       "    <tr>\n",
       "      <th>365</th>\n",
       "      <td>1</td>\n",
       "      <td>Eastern, MA</td>\n",
       "      <td>1352</td>\n",
       "      <td>MA</td>\n",
       "    </tr>\n",
       "    <tr>\n",
       "      <th>366</th>\n",
       "      <td>2</td>\n",
       "      <td>Greater Boston</td>\n",
       "      <td>65</td>\n",
       "      <td>MA</td>\n",
       "    </tr>\n",
       "    <tr>\n",
       "      <th>367</th>\n",
       "      <td>3</td>\n",
       "      <td>North Shore</td>\n",
       "      <td>2635</td>\n",
       "      <td>MA</td>\n",
       "    </tr>\n",
       "    <tr>\n",
       "      <th>368</th>\n",
       "      <td>4</td>\n",
       "      <td>South Shore, Cape, and Islands</td>\n",
       "      <td>98</td>\n",
       "      <td>MA</td>\n",
       "    </tr>\n",
       "    <tr>\n",
       "      <th>369</th>\n",
       "      <td>5</td>\n",
       "      <td>Western MA</td>\n",
       "      <td>258</td>\n",
       "      <td>MA</td>\n",
       "    </tr>\n",
       "  </tbody>\n",
       "</table>\n",
       "</div>"
      ],
      "text/plain": [
       "     Unnamed: 0                           Crags  Climbs  ST\n",
       "364           0                     Central, MA     143  MA\n",
       "365           1                     Eastern, MA    1352  MA\n",
       "366           2                  Greater Boston      65  MA\n",
       "367           3                     North Shore    2635  MA\n",
       "368           4  South Shore, Cape, and Islands      98  MA\n",
       "369           5                      Western MA     258  MA"
      ]
     },
     "execution_count": 7,
     "metadata": {},
     "output_type": "execute_result"
    }
   ],
   "source": [
    "all_df[all_df['ST'] == 'MA']"
   ]
  },
  {
   "cell_type": "markdown",
   "metadata": {},
   "source": [
    "### The site has changed the layout for several states, breaking them up into sections that group many crags together by which part of the state they're in.  This renders the 'crag count' in the gathered data fairly useless. The URLs to get to the list of specific crags in each area is not iterable, so we'll have to manually check this state. "
   ]
  },
  {
   "cell_type": "markdown",
   "metadata": {},
   "source": [
    "### North Shore has the most climbs, and they are mostly boulders. The main destination here is Lynn Woods, here: https://www.mountainproject.com/area/105908096/lynn-woods . This location has 1246 documented boulders, which is a TON of problems.  I had no idea that New England had such a massive and well-documented boulder area. If you're a boulderer like me, this puts a very positive spin on MA, especially considering that Lynn Wods is only a 30 minute drive from Boston. \n",
    "\n"
   ]
  },
  {
   "cell_type": "code",
   "execution_count": 72,
   "metadata": {},
   "outputs": [],
   "source": [
    "lat = '42.489'\n",
    "lon = '-70.992'\n",
    "key = '200729984-06ddf5a57f5e0426e5e57deece8b3563'\n",
    "maxDistance = '10'\n",
    "maxResults = '500'\n",
    "minDiff = 'V0'\n",
    "maxDiff = 'V10'\n",
    "url = 'https://www.mountainproject.com/data/get-routes-for-lat-lon?lat=' + lat + '&lon=' + lon + '&maxDistance=' + maxDistance + '&key=' + key + '&maxResults=' + maxResults\n",
    "response = requests.get(url)"
   ]
  },
  {
   "cell_type": "code",
   "execution_count": 73,
   "metadata": {},
   "outputs": [],
   "source": [
    "routes_json = response.json()\n",
    "with open('lynnWoods.json', 'w') as f:\n",
    "    json.dump(routes_json, f)"
   ]
  },
  {
   "cell_type": "code",
   "execution_count": 74,
   "metadata": {},
   "outputs": [],
   "source": [
    "#routes_df = pd.DataFrame.from_dict(routes_json['routes'])\n",
    "#routes_df.head()"
   ]
  },
  {
   "cell_type": "code",
   "execution_count": 75,
   "metadata": {},
   "outputs": [],
   "source": [
    "#pd.read_json('mydata.json')"
   ]
  },
  {
   "cell_type": "code",
   "execution_count": 76,
   "metadata": {},
   "outputs": [
    {
     "data": {
      "text/html": [
       "<div>\n",
       "<style scoped>\n",
       "    .dataframe tbody tr th:only-of-type {\n",
       "        vertical-align: middle;\n",
       "    }\n",
       "\n",
       "    .dataframe tbody tr th {\n",
       "        vertical-align: top;\n",
       "    }\n",
       "\n",
       "    .dataframe thead th {\n",
       "        text-align: right;\n",
       "    }\n",
       "</style>\n",
       "<table border=\"1\" class=\"dataframe\">\n",
       "  <thead>\n",
       "    <tr style=\"text-align: right;\">\n",
       "      <th></th>\n",
       "      <th>id</th>\n",
       "      <th>name</th>\n",
       "      <th>type</th>\n",
       "      <th>rating</th>\n",
       "      <th>stars</th>\n",
       "      <th>starVotes</th>\n",
       "      <th>pitches</th>\n",
       "      <th>location</th>\n",
       "      <th>url</th>\n",
       "      <th>imgSqSmall</th>\n",
       "      <th>imgSmall</th>\n",
       "      <th>imgSmallMed</th>\n",
       "      <th>imgMedium</th>\n",
       "      <th>longitude</th>\n",
       "      <th>latitude</th>\n",
       "    </tr>\n",
       "  </thead>\n",
       "  <tbody>\n",
       "    <tr>\n",
       "      <th>0</th>\n",
       "      <td>106906051</td>\n",
       "      <td>Stone Warrior</td>\n",
       "      <td>Boulder</td>\n",
       "      <td>V5</td>\n",
       "      <td>4.3</td>\n",
       "      <td>35</td>\n",
       "      <td></td>\n",
       "      <td>[Massachusetts, North Shore, Lynn Woods, Stone...</td>\n",
       "      <td>https://www.mountainproject.com/route/10690605...</td>\n",
       "      <td>https://cdn2.apstatic.com/photos/climb/1189936...</td>\n",
       "      <td>https://cdn2.apstatic.com/photos/climb/1189936...</td>\n",
       "      <td>https://cdn2.apstatic.com/photos/climb/1189936...</td>\n",
       "      <td>https://cdn2.apstatic.com/photos/climb/1189936...</td>\n",
       "      <td>-70.9863</td>\n",
       "      <td>42.4908</td>\n",
       "    </tr>\n",
       "    <tr>\n",
       "      <th>1</th>\n",
       "      <td>114793072</td>\n",
       "      <td>Subway</td>\n",
       "      <td>Boulder</td>\n",
       "      <td>V3</td>\n",
       "      <td>4.5</td>\n",
       "      <td>29</td>\n",
       "      <td></td>\n",
       "      <td>[Massachusetts, North Shore, Lynn Woods, Stone...</td>\n",
       "      <td>https://www.mountainproject.com/route/11479307...</td>\n",
       "      <td>https://cdn2.apstatic.com/photos/climb/1182350...</td>\n",
       "      <td>https://cdn2.apstatic.com/photos/climb/1182350...</td>\n",
       "      <td>https://cdn2.apstatic.com/photos/climb/1182350...</td>\n",
       "      <td>https://cdn2.apstatic.com/photos/climb/1182350...</td>\n",
       "      <td>-70.9863</td>\n",
       "      <td>42.4908</td>\n",
       "    </tr>\n",
       "    <tr>\n",
       "      <th>2</th>\n",
       "      <td>106951986</td>\n",
       "      <td>Bear Grease</td>\n",
       "      <td>Boulder</td>\n",
       "      <td>V1</td>\n",
       "      <td>4.7</td>\n",
       "      <td>26</td>\n",
       "      <td></td>\n",
       "      <td>[Massachusetts, North Shore, Lynn Woods, Stone...</td>\n",
       "      <td>https://www.mountainproject.com/route/10695198...</td>\n",
       "      <td>https://cdn2.apstatic.com/photos/climb/1135920...</td>\n",
       "      <td>https://cdn2.apstatic.com/photos/climb/1135920...</td>\n",
       "      <td>https://cdn2.apstatic.com/photos/climb/1135920...</td>\n",
       "      <td>https://cdn2.apstatic.com/photos/climb/1135920...</td>\n",
       "      <td>-70.9827</td>\n",
       "      <td>42.4850</td>\n",
       "    </tr>\n",
       "    <tr>\n",
       "      <th>3</th>\n",
       "      <td>106952022</td>\n",
       "      <td>Holly the Happy Healer</td>\n",
       "      <td>Boulder</td>\n",
       "      <td>V3</td>\n",
       "      <td>4.3</td>\n",
       "      <td>34</td>\n",
       "      <td></td>\n",
       "      <td>[Massachusetts, North Shore, Lynn Woods, Stone...</td>\n",
       "      <td>https://www.mountainproject.com/route/10695202...</td>\n",
       "      <td>https://cdn2.apstatic.com/photos/climb/1111143...</td>\n",
       "      <td>https://cdn2.apstatic.com/photos/climb/1111143...</td>\n",
       "      <td>https://cdn2.apstatic.com/photos/climb/1111143...</td>\n",
       "      <td>https://cdn2.apstatic.com/photos/climb/1111143...</td>\n",
       "      <td>-70.9830</td>\n",
       "      <td>42.4905</td>\n",
       "    </tr>\n",
       "    <tr>\n",
       "      <th>4</th>\n",
       "      <td>106906062</td>\n",
       "      <td>Green Haze</td>\n",
       "      <td>Boulder</td>\n",
       "      <td>V7+</td>\n",
       "      <td>4.9</td>\n",
       "      <td>14</td>\n",
       "      <td></td>\n",
       "      <td>[Massachusetts, North Shore, Lynn Woods, Stone...</td>\n",
       "      <td>https://www.mountainproject.com/route/10690606...</td>\n",
       "      <td>https://cdn2.apstatic.com/photos/climb/1144273...</td>\n",
       "      <td>https://cdn2.apstatic.com/photos/climb/1144273...</td>\n",
       "      <td>https://cdn2.apstatic.com/photos/climb/1144273...</td>\n",
       "      <td>https://cdn2.apstatic.com/photos/climb/1144273...</td>\n",
       "      <td>-70.9863</td>\n",
       "      <td>42.4908</td>\n",
       "    </tr>\n",
       "  </tbody>\n",
       "</table>\n",
       "</div>"
      ],
      "text/plain": [
       "          id                    name     type rating  stars  starVotes  \\\n",
       "0  106906051           Stone Warrior  Boulder     V5    4.3         35   \n",
       "1  114793072                  Subway  Boulder     V3    4.5         29   \n",
       "2  106951986             Bear Grease  Boulder     V1    4.7         26   \n",
       "3  106952022  Holly the Happy Healer  Boulder     V3    4.3         34   \n",
       "4  106906062              Green Haze  Boulder    V7+    4.9         14   \n",
       "\n",
       "  pitches                                           location  \\\n",
       "0          [Massachusetts, North Shore, Lynn Woods, Stone...   \n",
       "1          [Massachusetts, North Shore, Lynn Woods, Stone...   \n",
       "2          [Massachusetts, North Shore, Lynn Woods, Stone...   \n",
       "3          [Massachusetts, North Shore, Lynn Woods, Stone...   \n",
       "4          [Massachusetts, North Shore, Lynn Woods, Stone...   \n",
       "\n",
       "                                                 url  \\\n",
       "0  https://www.mountainproject.com/route/10690605...   \n",
       "1  https://www.mountainproject.com/route/11479307...   \n",
       "2  https://www.mountainproject.com/route/10695198...   \n",
       "3  https://www.mountainproject.com/route/10695202...   \n",
       "4  https://www.mountainproject.com/route/10690606...   \n",
       "\n",
       "                                          imgSqSmall  \\\n",
       "0  https://cdn2.apstatic.com/photos/climb/1189936...   \n",
       "1  https://cdn2.apstatic.com/photos/climb/1182350...   \n",
       "2  https://cdn2.apstatic.com/photos/climb/1135920...   \n",
       "3  https://cdn2.apstatic.com/photos/climb/1111143...   \n",
       "4  https://cdn2.apstatic.com/photos/climb/1144273...   \n",
       "\n",
       "                                            imgSmall  \\\n",
       "0  https://cdn2.apstatic.com/photos/climb/1189936...   \n",
       "1  https://cdn2.apstatic.com/photos/climb/1182350...   \n",
       "2  https://cdn2.apstatic.com/photos/climb/1135920...   \n",
       "3  https://cdn2.apstatic.com/photos/climb/1111143...   \n",
       "4  https://cdn2.apstatic.com/photos/climb/1144273...   \n",
       "\n",
       "                                         imgSmallMed  \\\n",
       "0  https://cdn2.apstatic.com/photos/climb/1189936...   \n",
       "1  https://cdn2.apstatic.com/photos/climb/1182350...   \n",
       "2  https://cdn2.apstatic.com/photos/climb/1135920...   \n",
       "3  https://cdn2.apstatic.com/photos/climb/1111143...   \n",
       "4  https://cdn2.apstatic.com/photos/climb/1144273...   \n",
       "\n",
       "                                           imgMedium  longitude  latitude  \n",
       "0  https://cdn2.apstatic.com/photos/climb/1189936...   -70.9863   42.4908  \n",
       "1  https://cdn2.apstatic.com/photos/climb/1182350...   -70.9863   42.4908  \n",
       "2  https://cdn2.apstatic.com/photos/climb/1135920...   -70.9827   42.4850  \n",
       "3  https://cdn2.apstatic.com/photos/climb/1111143...   -70.9830   42.4905  \n",
       "4  https://cdn2.apstatic.com/photos/climb/1144273...   -70.9863   42.4908  "
      ]
     },
     "execution_count": 76,
     "metadata": {},
     "output_type": "execute_result"
    }
   ],
   "source": [
    "lynn_woods_df = json_normalize(routes_json['routes'])\n",
    "lynn_woods_df.head()"
   ]
  },
  {
   "cell_type": "code",
   "execution_count": 77,
   "metadata": {},
   "outputs": [
    {
     "data": {
      "text/plain": [
       "500"
      ]
     },
     "execution_count": 77,
     "metadata": {},
     "output_type": "execute_result"
    }
   ],
   "source": [
    "len(lynn_woods_df)"
   ]
  },
  {
   "cell_type": "code",
   "execution_count": 82,
   "metadata": {},
   "outputs": [
    {
     "data": {
      "text/plain": [
       "V3             55\n",
       "V2             49\n",
       "V4             45\n",
       "V1             31\n",
       "V6             29\n",
       "               ..\n",
       "V0- R           1\n",
       "V0-             1\n",
       "5.11c V4 R      1\n",
       "5.9 V0 PG13     1\n",
       "5.10            1\n",
       "Name: rating, Length: 74, dtype: int64"
      ]
     },
     "execution_count": 82,
     "metadata": {},
     "output_type": "execute_result"
    }
   ],
   "source": [
    "lynn_woods_df['rating'].value_counts()"
   ]
  },
  {
   "cell_type": "code",
   "execution_count": null,
   "metadata": {},
   "outputs": [],
   "source": []
  }
 ],
 "metadata": {
  "kernelspec": {
   "display_name": "Python 3",
   "language": "python",
   "name": "python3"
  },
  "language_info": {
   "codemirror_mode": {
    "name": "ipython",
    "version": 3
   },
   "file_extension": ".py",
   "mimetype": "text/x-python",
   "name": "python",
   "nbconvert_exporter": "python",
   "pygments_lexer": "ipython3",
   "version": "3.6.9"
  }
 },
 "nbformat": 4,
 "nbformat_minor": 4
}
