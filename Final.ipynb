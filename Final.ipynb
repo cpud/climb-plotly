{
 "cells": [
  {
   "cell_type": "code",
   "execution_count": 53,
   "metadata": {},
   "outputs": [],
   "source": [
    "# Trying to get hyperlinks for all states so we can run the scraping script on all states.\n",
    "\n",
    "# Imports and get the html data from MountainProject. \n",
    "import pandas as pd\n",
    "import numpy as np\n",
    "import string\n",
    "import requests\n",
    "from bs4 import BeautifulSoup\n",
    "\n",
    "#This page contains the links to each state page. \n",
    "url = 'https://www.mountainproject.com/route-guide'\n",
    "page = requests.get(url)\n",
    "\n",
    "soup = BeautifulSoup(page.content, 'html.parser')\n",
    "\n",
    "# Put all hyperlinks on the page into a list.\n",
    "data = []\n",
    "for link in soup.find_all('a', class_= 'text-truncate float-xs-left'):\n",
    "    data.append(link.get('href'))\n",
    "    \n",
    "# List of US States that we'll use to remove unwanted hyperlinks.\n",
    "# Mississippi and Nebrasaka don't have pages, which makes sense,\n",
    "# considering how flat they are.\n",
    "states = [\"Alabama\",\"Alaska\",\"Arizona\",\"Arkansas\",\"California\",\"Colorado\",\n",
    "  \"Connecticut\",\"Delaware\",\"Florida\",\"Georgia\",\"Hawaii\",\"Idaho\",\"Illinois\",\n",
    "  \"Indiana\",\"Iowa\",\"Kansas\",\"Kentucky\",\"Louisiana\",\"Maine\",\"Maryland\",\n",
    "  \"Massachusetts\",\"Michigan\",\"Minnesota\",\"Mississippi\",\"Missouri\",\"Montana\",\n",
    "  \"Nebraska\",\"Nevada\",\"New-Hampshire\",\"New-Jersey\",\"New-Mexico\",\"New-York\",\n",
    "  \"North-Carolina\",\"North-Dakota\",\"Ohio\",\"Oklahoma\",\"Oregon\",\"Pennsylvania\",\n",
    "  \"Rhode-Island\",\"South-Carolina\",\"South-Dakota\",\"Tennessee\",\"Texas\",\"Utah\",\n",
    "  \"Vermont\",\"Virginia\",\"Washington\",\"West-Virginia\",\"Wisconsin\",\"Wyoming\"]\n",
    "\n",
    "# List of US States and their abbreviations for a dictionary.\n",
    "us_state_abbrev = {\n",
    "    'Alabama': 'AL',\n",
    "    'Alaska': 'AK',\n",
    "    'Arizona': 'AZ',\n",
    "    'Arkansas': 'AR',\n",
    "    'California': 'CA',\n",
    "    'Colorado': 'CO',\n",
    "    'Connecticut': 'CT',\n",
    "    'Delaware': 'DE',\n",
    "    'District of Columbia': 'DC',\n",
    "    'Florida': 'FL',\n",
    "    'Georgia': 'GA',\n",
    "    'Hawaii': 'HI',\n",
    "    'Idaho': 'ID',\n",
    "    'Illinois': 'IL',\n",
    "    'Indiana': 'IN',\n",
    "    'Iowa': 'IA',\n",
    "    'Kansas': 'KS',\n",
    "    'Kentucky': 'KY',\n",
    "    'Louisiana': 'LA',\n",
    "    'Maine': 'ME',\n",
    "    'Maryland': 'MD',\n",
    "    'Massachusetts': 'MA',\n",
    "    'Michigan': 'MI',\n",
    "    'Minnesota': 'MN',\n",
    "    'Mississippi': 'MS',\n",
    "    'Missouri': 'MO',\n",
    "    'Montana': 'MT',\n",
    "    'Nebraska': 'NE',\n",
    "    'Nevada': 'NV',\n",
    "    'New-Hampshire': 'NH',\n",
    "    'New-Jersey': 'NJ',\n",
    "    'New-Mexico': 'NM',\n",
    "    'New-York': 'NY',\n",
    "    'North-Carolina': 'NC',\n",
    "    'North-Dakota': 'ND',\n",
    "    'Northern Mariana Islands':'MP',\n",
    "    'Ohio': 'OH',\n",
    "    'Oklahoma': 'OK',\n",
    "    'Oregon': 'OR',\n",
    "    'Palau': 'PW',\n",
    "    'Pennsylvania': 'PA',\n",
    "    'Puerto Rico': 'PR',\n",
    "    'Rhode-Island': 'RI',\n",
    "    'South-Carolina': 'SC',\n",
    "    'South-Dakota': 'SD',\n",
    "    'Tennessee': 'TN',\n",
    "    'Texas': 'TX',\n",
    "    'Utah': 'UT',\n",
    "    'Vermont': 'VT',\n",
    "    'Virgin Islands': 'VI',\n",
    "    'Virginia': 'VA',\n",
    "    'Washington': 'WA',\n",
    "    'West-Virginia': 'WV',\n",
    "    'Wisconsin': 'WI',\n",
    "    'Wyoming': 'WY',\n",
    "}\n",
    "\n",
    "# Make the states lowercase to match hyperlinks. \n",
    "states = [x.lower() for x in states]\n",
    "us_state_abbrev = dict((k.lower(),v) for k,v in us_state_abbrev.items())\n",
    "\n",
    "# Loop through each hyperlink and see if it contains a state as a subsrting.\n",
    "# If it does, add the link to a list containing links for each state page. \n",
    "US = []\n",
    "for datum in data:\n",
    "    for state in states:\n",
    "        if state in datum:\n",
    "            US.append([state,datum])\n",
    "        \n",
    "# Remove duplicate links, Vermont Ice+Mixed, and Tennessee Wall (they are duplicates!)\n",
    "# Check length. Should be 48. \n",
    "res = [] \n",
    "[res.append(x) for x in US if x not in res] \n",
    "# US=list(set(US))\n",
    "res.remove(['tennessee','https://www.mountainproject.com/area/105851828/the-tennessee-wall'])\n",
    "res.remove(['vermont','https://www.mountainproject.com/area/107280521/vermont-ice-and-mixed'])\n",
    "links = dict(res)"
   ]
  },
  {
   "cell_type": "code",
   "execution_count": 54,
   "metadata": {},
   "outputs": [],
   "source": [
    "# Trying to get number of crags on an individual state page.\n",
    "\n",
    "def getData(url):\n",
    "\n",
    "    page = requests.get(url)\n",
    "\n",
    "    # Getting the webpage, creating a Response object.\n",
    "    response = requests.get(url)\n",
    " \n",
    "    # Extracting the source code of the page.\n",
    "    data = response.text\n",
    " \n",
    "    # Passing the source code to Beautiful Soup to create a BeautifulSoup object for it.\n",
    "    soup = BeautifulSoup(data, 'lxml')\n",
    " \n",
    "    # Extracting all the <a> tags into a list. No ID or class or anything next to hyperlink in HTML\n",
    "    titles = soup.findAll('a')\n",
    "    climbs = soup.findAll('span',class_ ='text-warm')\n",
    " \n",
    "    # Extracting text from the the <a> and put into list. \n",
    "    areas = [x.text for x in titles]\n",
    "    climbs = [y.text for y in climbs ]\n",
    "            \n",
    "    return areas, climbs\n",
    "\n",
    "\n",
    "# Define function to get location of a string that always occurs after end of list of crags.\n",
    "def getIndexes(dfObj, value):\n",
    "    ''' Get index positions of value in dataframe i.e. dfObj.'''\n",
    " \n",
    "    listOfPos = list()\n",
    "    # Get bool dataframe with True at positions where the given value exists\n",
    "    result = dfObj.isin([value])\n",
    "    # Get list of columns that contains the value\n",
    "    seriesObj = result.any()\n",
    "    columnNames = list(seriesObj[seriesObj == True].index)\n",
    "    # Iterate over list of columns and fetch the rows indexes where value exists\n",
    "    for col in columnNames:\n",
    "        rows = list(result[col][result[col] == True].index)\n",
    "        for row in rows:\n",
    "            listOfPos.append((row, col))\n",
    "    # Return a list of tuples indicating the positions of value in the dataframe\n",
    "    return listOfPos\n",
    "\n",
    "# Define function to remove the unwanted text from the dataframe. Pages with slight differences\n",
    "# in their layout needed the cutOff point to be manually entered.\n",
    "def adjustDF(url,state):\n",
    "\n",
    "    areas, climbs = getData(url)\n",
    "    \n",
    "    # Cleaning up areas DataFrame\n",
    "    areas = pd.DataFrame(list(filter(None,areas)))\n",
    "    areas.columns = ['Crags']\n",
    "    areas = areas[~areas['Crags'].str.contains('\\n')]\n",
    "    # Actual list of climbing areas starts 1 after 'Climbing Area map', and ends 2 before it.\n",
    "    places = getIndexes(areas,'Climbing Area Map')\n",
    "    cleaned_areas = areas.loc[places[0][0] + 1:places[1][0] - 2]\n",
    "    \n",
    "    # Cleaning up number of climbs DataFrame\n",
    "    climbs = pd.DataFrame(list(filter(None,climbs)))\n",
    "    climbs.columns = ['Climbs']\n",
    "    climbs['Climbs'] = [s.strip() for s in climbs['Climbs']]\n",
    "    \n",
    "    # Make DataFrame combining fields. The climbs scrape starts with the number of climbs for\n",
    "    # the first area, meaning it will line up with the proper crag. \n",
    "    df = pd.DataFrame(list(zip(cleaned_areas['Crags'],climbs['Climbs'])))\n",
    "\n",
    "    # Add state column\n",
    "    df = df.assign(ST = us_state_abbrev[state])\n",
    "    return df"
   ]
  },
  {
   "cell_type": "code",
   "execution_count": 55,
   "metadata": {},
   "outputs": [],
   "source": [
    "# Make combined dataframe for all crags in all states using gathered hyperlinks.\n",
    "def makeDataFrame(links):\n",
    "    # Instantiate empty dataframe\n",
    "    df = pd.DataFrame()\n",
    "    #Loop through links.\n",
    "    for sta, link in links.items():\n",
    "        # Add state dataframes on top of each other.\n",
    "        df = df.append(adjustDF(link,sta))\n",
    "    return df"
   ]
  },
  {
   "cell_type": "code",
   "execution_count": 56,
   "metadata": {},
   "outputs": [
    {
     "name": "stdout",
     "output_type": "stream",
     "text": [
      "<class 'pandas.core.frame.DataFrame'>\n",
      "Int64Index: 1136 entries, 0 to 31\n",
      "Data columns (total 3 columns):\n",
      "0     1136 non-null object\n",
      "1     1136 non-null object\n",
      "ST    1136 non-null object\n",
      "dtypes: object(3)\n",
      "memory usage: 35.5+ KB\n"
     ]
    }
   ],
   "source": [
    "all_df = makeDataFrame(links)\n",
    "all_df.info()"
   ]
  },
  {
   "cell_type": "code",
   "execution_count": 57,
   "metadata": {},
   "outputs": [],
   "source": [
    "all_df.columns=['Crags', 'Climbs', 'ST']\n",
    "# Remove Punctuation from Climbs\n",
    "all_df['Climbs'] = [s.translate(str.maketrans('', '', string.punctuation)) for s in all_df['Climbs']]\n",
    "# Convert Climbs values to integers\n",
    "all_df['Climbs'] = [int(x) for x in all_df['Climbs']]\n",
    "# Make dataframe to count number of crags per state. \n",
    "crag_counts = pd.DataFrame(all_df['ST'].value_counts())\n",
    "crag_counts.columns = ['Crags']\n",
    "# Make dataframe for aggregating climb counts at the State level.\n",
    "climb_counts = all_df.drop(columns = ['Crags'])\n",
    "climb_counts = climb_counts.set_index('ST')\n",
    "climb_counts = climb_counts.sum(level = 'ST')\n",
    "# Make aggregate dataFrame.\n",
    "agg_df = climb_counts.join(crag_counts)"
   ]
  },
  {
   "cell_type": "code",
   "execution_count": 58,
   "metadata": {},
   "outputs": [],
   "source": [
    "# Define function to get climb type data (Number of boulders, sport, trad, etc)\n",
    "def climb_type_dataframe(link, state):\n",
    "    url = link\n",
    "    page = requests.get(link)\n",
    "    soup = BeautifulSoup(page.content,'html.parser')\n",
    "    climb_types = ['Trad','Sport','Toprope','Boulder','Ice','Aid','Mixed','Alpine']\n",
    "    route_count = []\n",
    "    route_type = []\n",
    "    # Loop through climb types to create lists. Lists will be cleaned and combined\n",
    "    # into a dataframe.\n",
    "    for climb_type in climb_types:\n",
    "        for route in soup.find_all('span', class_ = \"lef-nav-\" + climb_type):\n",
    "            route_count.append(route.text)\n",
    "            route_type.append(climb_type)\n",
    "            \n",
    "    # Clean up lists before putting them in dataframe. \n",
    "    route_count = [s.strip() for s in route_count]\n",
    "    route_count = [s.replace(' /','') for s in route_count]\n",
    "    route_count = [s.replace(',','') for s in route_count]\n",
    "    route_count = [int(s) for s in route_count]\n",
    "    # Create dataframe. \n",
    "    df = pd.DataFrame(data = route_count)\n",
    "    df['type'] = route_type\n",
    "    df['ST'] = us_state_abbrev[state]\n",
    "    return df"
   ]
  },
  {
   "cell_type": "code",
   "execution_count": 59,
   "metadata": {},
   "outputs": [],
   "source": [
    "# Make dataframe with climb_types.\n",
    "climb_df = pd.DataFrame()\n",
    "for sta, link in links.items():\n",
    "    climb_df = climb_df.append(climb_type_dataframe(link,sta))"
   ]
  },
  {
   "cell_type": "code",
   "execution_count": 60,
   "metadata": {},
   "outputs": [],
   "source": [
    "# Set index and name columns for climb_df, join with agg_df for plotting. \n",
    "climb_df = climb_df.set_index('ST')\n",
    "climb_df.columns = ['num','type']\n",
    "# Pivot table to aggregate climb type counts to a state level.\n",
    "table = climb_df.pivot_table(values = 'num', columns = 'type', index = 'ST', aggfunc = np.sum)\n",
    "agg_df = agg_df.join(table)"
   ]
  },
  {
   "cell_type": "code",
   "execution_count": 61,
   "metadata": {},
   "outputs": [],
   "source": [
    "# Create 'text' column in agg_df. This will be what displays when mouse\n",
    "# hovers over a state. \n",
    "agg_df['text'] = ['Crags: {}<br>Boulder: {}<br>Sport: {}<br>Toprope: {}<br>Trad: {}<br>Alpine: {}<br>Ice: {}'\\\n",
    "                    .format(agg_df['Crags'][i],agg_df['Boulder'][i],agg_df['Sport'][i],agg_df['Toprope'][i],agg_df['Trad'][i],\\\n",
    "                    agg_df['Alpine'][i], agg_df['Ice'][i])\\\n",
    "                    for i in range(0, len(agg_df['Crags']))]"
   ]
  },
  {
   "cell_type": "code",
   "execution_count": 62,
   "metadata": {},
   "outputs": [],
   "source": [
    "# Imports for chart\n",
    "import chart_studio.plotly as py\n",
    "import plotly.graph_objs as go \n",
    "from plotly.offline import download_plotlyjs, init_notebook_mode, plot, iplot"
   ]
  },
  {
   "cell_type": "code",
   "execution_count": 63,
   "metadata": {},
   "outputs": [],
   "source": [
    "data = dict(type='choropleth',\n",
    "            colorscale = 'inferno',\n",
    "            locations = list(agg_df.index.values),\n",
    "            z = agg_df['Climbs'],\n",
    "            locationmode = 'USA-states',\n",
    "            text = agg_df['text'],\n",
    "            marker = dict(line = dict(color = 'rgb(255,255,255)',width = 2)),\n",
    "            colorbar = {'title':\"Number of Climbs\"}\n",
    "            ) "
   ]
  },
  {
   "cell_type": "code",
   "execution_count": 64,
   "metadata": {},
   "outputs": [],
   "source": [
    "layout = dict(title = 'Number of Climbs By State',\n",
    "              geo = dict(scope='usa',\n",
    "                         showlakes = True,\n",
    "                         lakecolor = 'rgb(85,173,240)')\n",
    "             )"
   ]
  },
  {
   "cell_type": "code",
   "execution_count": 65,
   "metadata": {},
   "outputs": [],
   "source": [
    "choromap = go.Figure(data = [data],layout = layout)"
   ]
  },
  {
   "cell_type": "code",
   "execution_count": 66,
   "metadata": {},
   "outputs": [
    {
     "data": {
      "application/vnd.plotly.v1+json": {
       "config": {
        "linkText": "Export to plot.ly",
        "plotlyServerURL": "https://plot.ly",
        "showLink": false
       },
       "data": [
        {
         "colorbar": {
          "title": {
           "text": "Number of Climbs"
          }
         },
         "colorscale": [
          [
           0,
           "#000004"
          ],
          [
           0.1111111111111111,
           "#1b0c41"
          ],
          [
           0.2222222222222222,
           "#4a0c6b"
          ],
          [
           0.3333333333333333,
           "#781c6d"
          ],
          [
           0.4444444444444444,
           "#a52c60"
          ],
          [
           0.5555555555555556,
           "#cf4446"
          ],
          [
           0.6666666666666666,
           "#ed6925"
          ],
          [
           0.7777777777777778,
           "#fb9b06"
          ],
          [
           0.8888888888888888,
           "#f7d13d"
          ],
          [
           1,
           "#fcffa4"
          ]
         ],
         "locationmode": "USA-states",
         "locations": [
          "AL",
          "AK",
          "AZ",
          "AR",
          "KS",
          "CA",
          "CO",
          "CT",
          "DE",
          "FL",
          "GA",
          "HI",
          "ID",
          "IL",
          "IN",
          "IA",
          "KY",
          "LA",
          "ME",
          "MD",
          "MA",
          "MI",
          "MN",
          "MO",
          "MT",
          "NV",
          "NH",
          "NJ",
          "NM",
          "NY",
          "NC",
          "ND",
          "OH",
          "OK",
          "OR",
          "PA",
          "RI",
          "SC",
          "SD",
          "TN",
          "TX",
          "UT",
          "VT",
          "VA",
          "WA",
          "WV",
          "WI",
          "WY"
         ],
         "marker": {
          "line": {
           "color": "rgb(255,255,255)",
           "width": 2
          }
         },
         "text": [
          "Crags: 32<br>Boulder: 875<br>Sport: 317<br>Toprope: 103<br>Trad: 249<br>Alpine: 0<br>Ice: 0",
          "Crags: 9<br>Boulder: 257<br>Sport: 672<br>Toprope: 186<br>Trad: 807<br>Alpine: 502<br>Ice: 226",
          "Crags: 3<br>Boulder: 2148<br>Sport: 4035<br>Toprope: 396<br>Trad: 3540<br>Alpine: 4<br>Ice: 0",
          "Crags: 33<br>Boulder: 463<br>Sport: 987<br>Toprope: 58<br>Trad: 416<br>Alpine: 0<br>Ice: 0",
          "Crags: 26<br>Boulder: 165<br>Sport: 1<br>Toprope: 6<br>Trad: 4<br>Alpine: 0<br>Ice: 0",
          "Crags: 19<br>Boulder: 10396<br>Sport: 8365<br>Toprope: 3200<br>Trad: 11241<br>Alpine: 1022<br>Ice: 105",
          "Crags: 74<br>Boulder: 7643<br>Sport: 9711<br>Toprope: 1823<br>Trad: 9544<br>Alpine: 1425<br>Ice: 752",
          "Crags: 7<br>Boulder: 1064<br>Sport: 79<br>Toprope: 503<br>Trad: 564<br>Alpine: 0<br>Ice: 3",
          "Crags: 2<br>Boulder: 22<br>Sport: 0<br>Toprope: 14<br>Trad: 0<br>Alpine: 0<br>Ice: 0",
          "Crags: 12<br>Boulder: 17<br>Sport: 0<br>Toprope: 1<br>Trad: 0<br>Alpine: 0<br>Ice: 0",
          "Crags: 36<br>Boulder: 695<br>Sport: 62<br>Toprope: 115<br>Trad: 192<br>Alpine: 0<br>Ice: 4",
          "Crags: 6<br>Boulder: 189<br>Sport: 65<br>Toprope: 34<br>Trad: 18<br>Alpine: 0<br>Ice: 0",
          "Crags: 6<br>Boulder: 722<br>Sport: 1820<br>Toprope: 374<br>Trad: 898<br>Alpine: 192<br>Ice: 18",
          "Crags: 27<br>Boulder: 443<br>Sport: 558<br>Toprope: 183<br>Trad: 284<br>Alpine: 0<br>Ice: 17",
          "Crags: 6<br>Boulder: 74<br>Sport: 4<br>Toprope: 2<br>Trad: 0<br>Alpine: 0<br>Ice: 0",
          "Crags: 13<br>Boulder: 92<br>Sport: 108<br>Toprope: 49<br>Trad: 27<br>Alpine: 0<br>Ice: 1",
          "Crags: 10<br>Boulder: 96<br>Sport: 1588<br>Toprope: 40<br>Trad: 609<br>Alpine: 0<br>Ice: 1",
          "Crags: 1<br>Boulder: 1<br>Sport: 0<br>Toprope: 0<br>Trad: 0<br>Alpine: 0<br>Ice: 0",
          "Crags: 15<br>Boulder: 345<br>Sport: 187<br>Toprope: 149<br>Trad: 394<br>Alpine: 14<br>Ice: 41",
          "Crags: 33<br>Boulder: 548<br>Sport: 24<br>Toprope: 503<br>Trad: 483<br>Alpine: 0<br>Ice: 0",
          "Crags: 110<br>Boulder: 3247<br>Sport: 74<br>Toprope: 534<br>Trad: 284<br>Alpine: 3<br>Ice: 9",
          "Crags: 2<br>Boulder: 213<br>Sport: 84<br>Toprope: 240<br>Trad: 146<br>Alpine: 0<br>Ice: 70",
          "Crags: 40<br>Boulder: 780<br>Sport: 358<br>Toprope: 556<br>Trad: 369<br>Alpine: 0<br>Ice: 59",
          "Crags: 44<br>Boulder: 374<br>Sport: 452<br>Toprope: 115<br>Trad: 140<br>Alpine: 0<br>Ice: 0",
          "Crags: 3<br>Boulder: 494<br>Sport: 952<br>Toprope: 233<br>Trad: 647<br>Alpine: 215<br>Ice: 89",
          "Crags: 3<br>Boulder: 717<br>Sport: 1683<br>Toprope: 184<br>Trad: 1672<br>Alpine: 54<br>Ice: 13",
          "Crags: 24<br>Boulder: 1929<br>Sport: 942<br>Toprope: 261<br>Trad: 1963<br>Alpine: 252<br>Ice: 318",
          "Crags: 5<br>Boulder: 257<br>Sport: 0<br>Toprope: 210<br>Trad: 173<br>Alpine: 0<br>Ice: 3",
          "Crags: 16<br>Boulder: 947<br>Sport: 2304<br>Toprope: 499<br>Trad: 1724<br>Alpine: 331<br>Ice: 20",
          "Crags: 44<br>Boulder: 977<br>Sport: 295<br>Toprope: 1069<br>Trad: 2148<br>Alpine: 24<br>Ice: 332",
          "Crags: 63<br>Boulder: 777<br>Sport: 549<br>Toprope: 269<br>Trad: 1553<br>Alpine: 10<br>Ice: 34",
          "Crags: 10<br>Boulder: 26<br>Sport: 2<br>Toprope: 9<br>Trad: 8<br>Alpine: 0<br>Ice: 0",
          "Crags: 6<br>Boulder: 658<br>Sport: 202<br>Toprope: 214<br>Trad: 96<br>Alpine: 0<br>Ice: 2",
          "Crags: 20<br>Boulder: 250<br>Sport: 118<br>Toprope: 173<br>Trad: 363<br>Alpine: 0<br>Ice: 0",
          "Crags: 8<br>Boulder: 344<br>Sport: 1687<br>Toprope: 369<br>Trad: 1033<br>Alpine: 70<br>Ice: 24",
          "Crags: 6<br>Boulder: 1309<br>Sport: 662<br>Toprope: 409<br>Trad: 414<br>Alpine: 19<br>Ice: 37",
          "Crags: 20<br>Boulder: 1151<br>Sport: 8<br>Toprope: 25<br>Trad: 3<br>Alpine: 0<br>Ice: 1",
          "Crags: 6<br>Boulder: 23<br>Sport: 29<br>Toprope: 10<br>Trad: 55<br>Alpine: 0<br>Ice: 0",
          "Crags: 8<br>Boulder: 756<br>Sport: 1338<br>Toprope: 245<br>Trad: 857<br>Alpine: 0<br>Ice: 19",
          "Crags: 50<br>Boulder: 592<br>Sport: 993<br>Toprope: 58<br>Trad: 611<br>Alpine: 0<br>Ice: 1",
          "Crags: 42<br>Boulder: 1537<br>Sport: 991<br>Toprope: 270<br>Trad: 265<br>Alpine: 5<br>Ice: 0",
          "Crags: 53<br>Boulder: 2828<br>Sport: 5083<br>Toprope: 608<br>Trad: 5412<br>Alpine: 554<br>Ice: 165",
          "Crags: 34<br>Boulder: 561<br>Sport: 192<br>Toprope: 83<br>Trad: 301<br>Alpine: 24<br>Ice: 69",
          "Crags: 27<br>Boulder: 721<br>Sport: 1095<br>Toprope: 189<br>Trad: 1002<br>Alpine: 0<br>Ice: 0",
          "Crags: 10<br>Boulder: 1230<br>Sport: 2921<br>Toprope: 460<br>Trad: 2358<br>Alpine: 359<br>Ice: 74",
          "Crags: 27<br>Boulder: 721<br>Sport: 1095<br>Toprope: 189<br>Trad: 1002<br>Alpine: 0<br>Ice: 0",
          "Crags: 53<br>Boulder: 2184<br>Sport: 175<br>Toprope: 1103<br>Trad: 1051<br>Alpine: 0<br>Ice: 47",
          "Crags: 32<br>Boulder: 658<br>Sport: 2806<br>Toprope: 194<br>Trad: 1651<br>Alpine: 638<br>Ice: 110"
         ],
         "type": "choropleth",
         "z": [
          1457,
          1865,
          9575,
          1843,
          171,
          31453,
          26814,
          1850,
          35,
          17,
          970,
          284,
          3526,
          1335,
          78,
          251,
          2296,
          1,
          1023,
          1248,
          3892,
          622,
          1763,
          975,
          2176,
          4116,
          5143,
          578,
          5028,
          4201,
          2821,
          37,
          1115,
          801,
          3123,
          2573,
          1175,
          106,
          2978,
          2213,
          2889,
          13492,
          1124,
          2875,
          6510,
          2875,
          3719,
          5055
         ]
        }
       ],
       "layout": {
        "geo": {
         "lakecolor": "rgb(85,173,240)",
         "scope": "usa",
         "showlakes": true
        },
        "template": {
         "data": {
          "bar": [
           {
            "error_x": {
             "color": "#2a3f5f"
            },
            "error_y": {
             "color": "#2a3f5f"
            },
            "marker": {
             "line": {
              "color": "#E5ECF6",
              "width": 0.5
             }
            },
            "type": "bar"
           }
          ],
          "barpolar": [
           {
            "marker": {
             "line": {
              "color": "#E5ECF6",
              "width": 0.5
             }
            },
            "type": "barpolar"
           }
          ],
          "carpet": [
           {
            "aaxis": {
             "endlinecolor": "#2a3f5f",
             "gridcolor": "white",
             "linecolor": "white",
             "minorgridcolor": "white",
             "startlinecolor": "#2a3f5f"
            },
            "baxis": {
             "endlinecolor": "#2a3f5f",
             "gridcolor": "white",
             "linecolor": "white",
             "minorgridcolor": "white",
             "startlinecolor": "#2a3f5f"
            },
            "type": "carpet"
           }
          ],
          "choropleth": [
           {
            "colorbar": {
             "outlinewidth": 0,
             "ticks": ""
            },
            "type": "choropleth"
           }
          ],
          "contour": [
           {
            "colorbar": {
             "outlinewidth": 0,
             "ticks": ""
            },
            "colorscale": [
             [
              0,
              "#0d0887"
             ],
             [
              0.1111111111111111,
              "#46039f"
             ],
             [
              0.2222222222222222,
              "#7201a8"
             ],
             [
              0.3333333333333333,
              "#9c179e"
             ],
             [
              0.4444444444444444,
              "#bd3786"
             ],
             [
              0.5555555555555556,
              "#d8576b"
             ],
             [
              0.6666666666666666,
              "#ed7953"
             ],
             [
              0.7777777777777778,
              "#fb9f3a"
             ],
             [
              0.8888888888888888,
              "#fdca26"
             ],
             [
              1,
              "#f0f921"
             ]
            ],
            "type": "contour"
           }
          ],
          "contourcarpet": [
           {
            "colorbar": {
             "outlinewidth": 0,
             "ticks": ""
            },
            "type": "contourcarpet"
           }
          ],
          "heatmap": [
           {
            "colorbar": {
             "outlinewidth": 0,
             "ticks": ""
            },
            "colorscale": [
             [
              0,
              "#0d0887"
             ],
             [
              0.1111111111111111,
              "#46039f"
             ],
             [
              0.2222222222222222,
              "#7201a8"
             ],
             [
              0.3333333333333333,
              "#9c179e"
             ],
             [
              0.4444444444444444,
              "#bd3786"
             ],
             [
              0.5555555555555556,
              "#d8576b"
             ],
             [
              0.6666666666666666,
              "#ed7953"
             ],
             [
              0.7777777777777778,
              "#fb9f3a"
             ],
             [
              0.8888888888888888,
              "#fdca26"
             ],
             [
              1,
              "#f0f921"
             ]
            ],
            "type": "heatmap"
           }
          ],
          "heatmapgl": [
           {
            "colorbar": {
             "outlinewidth": 0,
             "ticks": ""
            },
            "colorscale": [
             [
              0,
              "#0d0887"
             ],
             [
              0.1111111111111111,
              "#46039f"
             ],
             [
              0.2222222222222222,
              "#7201a8"
             ],
             [
              0.3333333333333333,
              "#9c179e"
             ],
             [
              0.4444444444444444,
              "#bd3786"
             ],
             [
              0.5555555555555556,
              "#d8576b"
             ],
             [
              0.6666666666666666,
              "#ed7953"
             ],
             [
              0.7777777777777778,
              "#fb9f3a"
             ],
             [
              0.8888888888888888,
              "#fdca26"
             ],
             [
              1,
              "#f0f921"
             ]
            ],
            "type": "heatmapgl"
           }
          ],
          "histogram": [
           {
            "marker": {
             "colorbar": {
              "outlinewidth": 0,
              "ticks": ""
             }
            },
            "type": "histogram"
           }
          ],
          "histogram2d": [
           {
            "colorbar": {
             "outlinewidth": 0,
             "ticks": ""
            },
            "colorscale": [
             [
              0,
              "#0d0887"
             ],
             [
              0.1111111111111111,
              "#46039f"
             ],
             [
              0.2222222222222222,
              "#7201a8"
             ],
             [
              0.3333333333333333,
              "#9c179e"
             ],
             [
              0.4444444444444444,
              "#bd3786"
             ],
             [
              0.5555555555555556,
              "#d8576b"
             ],
             [
              0.6666666666666666,
              "#ed7953"
             ],
             [
              0.7777777777777778,
              "#fb9f3a"
             ],
             [
              0.8888888888888888,
              "#fdca26"
             ],
             [
              1,
              "#f0f921"
             ]
            ],
            "type": "histogram2d"
           }
          ],
          "histogram2dcontour": [
           {
            "colorbar": {
             "outlinewidth": 0,
             "ticks": ""
            },
            "colorscale": [
             [
              0,
              "#0d0887"
             ],
             [
              0.1111111111111111,
              "#46039f"
             ],
             [
              0.2222222222222222,
              "#7201a8"
             ],
             [
              0.3333333333333333,
              "#9c179e"
             ],
             [
              0.4444444444444444,
              "#bd3786"
             ],
             [
              0.5555555555555556,
              "#d8576b"
             ],
             [
              0.6666666666666666,
              "#ed7953"
             ],
             [
              0.7777777777777778,
              "#fb9f3a"
             ],
             [
              0.8888888888888888,
              "#fdca26"
             ],
             [
              1,
              "#f0f921"
             ]
            ],
            "type": "histogram2dcontour"
           }
          ],
          "mesh3d": [
           {
            "colorbar": {
             "outlinewidth": 0,
             "ticks": ""
            },
            "type": "mesh3d"
           }
          ],
          "parcoords": [
           {
            "line": {
             "colorbar": {
              "outlinewidth": 0,
              "ticks": ""
             }
            },
            "type": "parcoords"
           }
          ],
          "pie": [
           {
            "automargin": true,
            "type": "pie"
           }
          ],
          "scatter": [
           {
            "marker": {
             "colorbar": {
              "outlinewidth": 0,
              "ticks": ""
             }
            },
            "type": "scatter"
           }
          ],
          "scatter3d": [
           {
            "line": {
             "colorbar": {
              "outlinewidth": 0,
              "ticks": ""
             }
            },
            "marker": {
             "colorbar": {
              "outlinewidth": 0,
              "ticks": ""
             }
            },
            "type": "scatter3d"
           }
          ],
          "scattercarpet": [
           {
            "marker": {
             "colorbar": {
              "outlinewidth": 0,
              "ticks": ""
             }
            },
            "type": "scattercarpet"
           }
          ],
          "scattergeo": [
           {
            "marker": {
             "colorbar": {
              "outlinewidth": 0,
              "ticks": ""
             }
            },
            "type": "scattergeo"
           }
          ],
          "scattergl": [
           {
            "marker": {
             "colorbar": {
              "outlinewidth": 0,
              "ticks": ""
             }
            },
            "type": "scattergl"
           }
          ],
          "scattermapbox": [
           {
            "marker": {
             "colorbar": {
              "outlinewidth": 0,
              "ticks": ""
             }
            },
            "type": "scattermapbox"
           }
          ],
          "scatterpolar": [
           {
            "marker": {
             "colorbar": {
              "outlinewidth": 0,
              "ticks": ""
             }
            },
            "type": "scatterpolar"
           }
          ],
          "scatterpolargl": [
           {
            "marker": {
             "colorbar": {
              "outlinewidth": 0,
              "ticks": ""
             }
            },
            "type": "scatterpolargl"
           }
          ],
          "scatterternary": [
           {
            "marker": {
             "colorbar": {
              "outlinewidth": 0,
              "ticks": ""
             }
            },
            "type": "scatterternary"
           }
          ],
          "surface": [
           {
            "colorbar": {
             "outlinewidth": 0,
             "ticks": ""
            },
            "colorscale": [
             [
              0,
              "#0d0887"
             ],
             [
              0.1111111111111111,
              "#46039f"
             ],
             [
              0.2222222222222222,
              "#7201a8"
             ],
             [
              0.3333333333333333,
              "#9c179e"
             ],
             [
              0.4444444444444444,
              "#bd3786"
             ],
             [
              0.5555555555555556,
              "#d8576b"
             ],
             [
              0.6666666666666666,
              "#ed7953"
             ],
             [
              0.7777777777777778,
              "#fb9f3a"
             ],
             [
              0.8888888888888888,
              "#fdca26"
             ],
             [
              1,
              "#f0f921"
             ]
            ],
            "type": "surface"
           }
          ],
          "table": [
           {
            "cells": {
             "fill": {
              "color": "#EBF0F8"
             },
             "line": {
              "color": "white"
             }
            },
            "header": {
             "fill": {
              "color": "#C8D4E3"
             },
             "line": {
              "color": "white"
             }
            },
            "type": "table"
           }
          ]
         },
         "layout": {
          "annotationdefaults": {
           "arrowcolor": "#2a3f5f",
           "arrowhead": 0,
           "arrowwidth": 1
          },
          "coloraxis": {
           "colorbar": {
            "outlinewidth": 0,
            "ticks": ""
           }
          },
          "colorscale": {
           "diverging": [
            [
             0,
             "#8e0152"
            ],
            [
             0.1,
             "#c51b7d"
            ],
            [
             0.2,
             "#de77ae"
            ],
            [
             0.3,
             "#f1b6da"
            ],
            [
             0.4,
             "#fde0ef"
            ],
            [
             0.5,
             "#f7f7f7"
            ],
            [
             0.6,
             "#e6f5d0"
            ],
            [
             0.7,
             "#b8e186"
            ],
            [
             0.8,
             "#7fbc41"
            ],
            [
             0.9,
             "#4d9221"
            ],
            [
             1,
             "#276419"
            ]
           ],
           "sequential": [
            [
             0,
             "#0d0887"
            ],
            [
             0.1111111111111111,
             "#46039f"
            ],
            [
             0.2222222222222222,
             "#7201a8"
            ],
            [
             0.3333333333333333,
             "#9c179e"
            ],
            [
             0.4444444444444444,
             "#bd3786"
            ],
            [
             0.5555555555555556,
             "#d8576b"
            ],
            [
             0.6666666666666666,
             "#ed7953"
            ],
            [
             0.7777777777777778,
             "#fb9f3a"
            ],
            [
             0.8888888888888888,
             "#fdca26"
            ],
            [
             1,
             "#f0f921"
            ]
           ],
           "sequentialminus": [
            [
             0,
             "#0d0887"
            ],
            [
             0.1111111111111111,
             "#46039f"
            ],
            [
             0.2222222222222222,
             "#7201a8"
            ],
            [
             0.3333333333333333,
             "#9c179e"
            ],
            [
             0.4444444444444444,
             "#bd3786"
            ],
            [
             0.5555555555555556,
             "#d8576b"
            ],
            [
             0.6666666666666666,
             "#ed7953"
            ],
            [
             0.7777777777777778,
             "#fb9f3a"
            ],
            [
             0.8888888888888888,
             "#fdca26"
            ],
            [
             1,
             "#f0f921"
            ]
           ]
          },
          "colorway": [
           "#636efa",
           "#EF553B",
           "#00cc96",
           "#ab63fa",
           "#FFA15A",
           "#19d3f3",
           "#FF6692",
           "#B6E880",
           "#FF97FF",
           "#FECB52"
          ],
          "font": {
           "color": "#2a3f5f"
          },
          "geo": {
           "bgcolor": "white",
           "lakecolor": "white",
           "landcolor": "#E5ECF6",
           "showlakes": true,
           "showland": true,
           "subunitcolor": "white"
          },
          "hoverlabel": {
           "align": "left"
          },
          "hovermode": "closest",
          "mapbox": {
           "style": "light"
          },
          "paper_bgcolor": "white",
          "plot_bgcolor": "#E5ECF6",
          "polar": {
           "angularaxis": {
            "gridcolor": "white",
            "linecolor": "white",
            "ticks": ""
           },
           "bgcolor": "#E5ECF6",
           "radialaxis": {
            "gridcolor": "white",
            "linecolor": "white",
            "ticks": ""
           }
          },
          "scene": {
           "xaxis": {
            "backgroundcolor": "#E5ECF6",
            "gridcolor": "white",
            "gridwidth": 2,
            "linecolor": "white",
            "showbackground": true,
            "ticks": "",
            "zerolinecolor": "white"
           },
           "yaxis": {
            "backgroundcolor": "#E5ECF6",
            "gridcolor": "white",
            "gridwidth": 2,
            "linecolor": "white",
            "showbackground": true,
            "ticks": "",
            "zerolinecolor": "white"
           },
           "zaxis": {
            "backgroundcolor": "#E5ECF6",
            "gridcolor": "white",
            "gridwidth": 2,
            "linecolor": "white",
            "showbackground": true,
            "ticks": "",
            "zerolinecolor": "white"
           }
          },
          "shapedefaults": {
           "line": {
            "color": "#2a3f5f"
           }
          },
          "ternary": {
           "aaxis": {
            "gridcolor": "white",
            "linecolor": "white",
            "ticks": ""
           },
           "baxis": {
            "gridcolor": "white",
            "linecolor": "white",
            "ticks": ""
           },
           "bgcolor": "#E5ECF6",
           "caxis": {
            "gridcolor": "white",
            "linecolor": "white",
            "ticks": ""
           }
          },
          "title": {
           "x": 0.05
          },
          "xaxis": {
           "automargin": true,
           "gridcolor": "white",
           "linecolor": "white",
           "ticks": "",
           "title": {
            "standoff": 15
           },
           "zerolinecolor": "white",
           "zerolinewidth": 2
          },
          "yaxis": {
           "automargin": true,
           "gridcolor": "white",
           "linecolor": "white",
           "ticks": "",
           "title": {
            "standoff": 15
           },
           "zerolinecolor": "white",
           "zerolinewidth": 2
          }
         }
        },
        "title": {
         "text": "Number of Climbs By State"
        }
       }
      },
      "text/html": [
       "<div>\n",
       "        \n",
       "        \n",
       "            <div id=\"0a2d28d0-3b3a-4045-b035-1e0d18ed220e\" class=\"plotly-graph-div\" style=\"height:525px; width:100%;\"></div>\n",
       "            <script type=\"text/javascript\">\n",
       "                require([\"plotly\"], function(Plotly) {\n",
       "                    window.PLOTLYENV=window.PLOTLYENV || {};\n",
       "                    \n",
       "                if (document.getElementById(\"0a2d28d0-3b3a-4045-b035-1e0d18ed220e\")) {\n",
       "                    Plotly.newPlot(\n",
       "                        '0a2d28d0-3b3a-4045-b035-1e0d18ed220e',\n",
       "                        [{\"colorbar\": {\"title\": {\"text\": \"Number of Climbs\"}}, \"colorscale\": [[0.0, \"#000004\"], [0.1111111111111111, \"#1b0c41\"], [0.2222222222222222, \"#4a0c6b\"], [0.3333333333333333, \"#781c6d\"], [0.4444444444444444, \"#a52c60\"], [0.5555555555555556, \"#cf4446\"], [0.6666666666666666, \"#ed6925\"], [0.7777777777777778, \"#fb9b06\"], [0.8888888888888888, \"#f7d13d\"], [1.0, \"#fcffa4\"]], \"locationmode\": \"USA-states\", \"locations\": [\"AL\", \"AK\", \"AZ\", \"AR\", \"KS\", \"CA\", \"CO\", \"CT\", \"DE\", \"FL\", \"GA\", \"HI\", \"ID\", \"IL\", \"IN\", \"IA\", \"KY\", \"LA\", \"ME\", \"MD\", \"MA\", \"MI\", \"MN\", \"MO\", \"MT\", \"NV\", \"NH\", \"NJ\", \"NM\", \"NY\", \"NC\", \"ND\", \"OH\", \"OK\", \"OR\", \"PA\", \"RI\", \"SC\", \"SD\", \"TN\", \"TX\", \"UT\", \"VT\", \"VA\", \"WA\", \"WV\", \"WI\", \"WY\"], \"marker\": {\"line\": {\"color\": \"rgb(255,255,255)\", \"width\": 2}}, \"text\": [\"Crags: 32<br>Boulder: 875<br>Sport: 317<br>Toprope: 103<br>Trad: 249<br>Alpine: 0<br>Ice: 0\", \"Crags: 9<br>Boulder: 257<br>Sport: 672<br>Toprope: 186<br>Trad: 807<br>Alpine: 502<br>Ice: 226\", \"Crags: 3<br>Boulder: 2148<br>Sport: 4035<br>Toprope: 396<br>Trad: 3540<br>Alpine: 4<br>Ice: 0\", \"Crags: 33<br>Boulder: 463<br>Sport: 987<br>Toprope: 58<br>Trad: 416<br>Alpine: 0<br>Ice: 0\", \"Crags: 26<br>Boulder: 165<br>Sport: 1<br>Toprope: 6<br>Trad: 4<br>Alpine: 0<br>Ice: 0\", \"Crags: 19<br>Boulder: 10396<br>Sport: 8365<br>Toprope: 3200<br>Trad: 11241<br>Alpine: 1022<br>Ice: 105\", \"Crags: 74<br>Boulder: 7643<br>Sport: 9711<br>Toprope: 1823<br>Trad: 9544<br>Alpine: 1425<br>Ice: 752\", \"Crags: 7<br>Boulder: 1064<br>Sport: 79<br>Toprope: 503<br>Trad: 564<br>Alpine: 0<br>Ice: 3\", \"Crags: 2<br>Boulder: 22<br>Sport: 0<br>Toprope: 14<br>Trad: 0<br>Alpine: 0<br>Ice: 0\", \"Crags: 12<br>Boulder: 17<br>Sport: 0<br>Toprope: 1<br>Trad: 0<br>Alpine: 0<br>Ice: 0\", \"Crags: 36<br>Boulder: 695<br>Sport: 62<br>Toprope: 115<br>Trad: 192<br>Alpine: 0<br>Ice: 4\", \"Crags: 6<br>Boulder: 189<br>Sport: 65<br>Toprope: 34<br>Trad: 18<br>Alpine: 0<br>Ice: 0\", \"Crags: 6<br>Boulder: 722<br>Sport: 1820<br>Toprope: 374<br>Trad: 898<br>Alpine: 192<br>Ice: 18\", \"Crags: 27<br>Boulder: 443<br>Sport: 558<br>Toprope: 183<br>Trad: 284<br>Alpine: 0<br>Ice: 17\", \"Crags: 6<br>Boulder: 74<br>Sport: 4<br>Toprope: 2<br>Trad: 0<br>Alpine: 0<br>Ice: 0\", \"Crags: 13<br>Boulder: 92<br>Sport: 108<br>Toprope: 49<br>Trad: 27<br>Alpine: 0<br>Ice: 1\", \"Crags: 10<br>Boulder: 96<br>Sport: 1588<br>Toprope: 40<br>Trad: 609<br>Alpine: 0<br>Ice: 1\", \"Crags: 1<br>Boulder: 1<br>Sport: 0<br>Toprope: 0<br>Trad: 0<br>Alpine: 0<br>Ice: 0\", \"Crags: 15<br>Boulder: 345<br>Sport: 187<br>Toprope: 149<br>Trad: 394<br>Alpine: 14<br>Ice: 41\", \"Crags: 33<br>Boulder: 548<br>Sport: 24<br>Toprope: 503<br>Trad: 483<br>Alpine: 0<br>Ice: 0\", \"Crags: 110<br>Boulder: 3247<br>Sport: 74<br>Toprope: 534<br>Trad: 284<br>Alpine: 3<br>Ice: 9\", \"Crags: 2<br>Boulder: 213<br>Sport: 84<br>Toprope: 240<br>Trad: 146<br>Alpine: 0<br>Ice: 70\", \"Crags: 40<br>Boulder: 780<br>Sport: 358<br>Toprope: 556<br>Trad: 369<br>Alpine: 0<br>Ice: 59\", \"Crags: 44<br>Boulder: 374<br>Sport: 452<br>Toprope: 115<br>Trad: 140<br>Alpine: 0<br>Ice: 0\", \"Crags: 3<br>Boulder: 494<br>Sport: 952<br>Toprope: 233<br>Trad: 647<br>Alpine: 215<br>Ice: 89\", \"Crags: 3<br>Boulder: 717<br>Sport: 1683<br>Toprope: 184<br>Trad: 1672<br>Alpine: 54<br>Ice: 13\", \"Crags: 24<br>Boulder: 1929<br>Sport: 942<br>Toprope: 261<br>Trad: 1963<br>Alpine: 252<br>Ice: 318\", \"Crags: 5<br>Boulder: 257<br>Sport: 0<br>Toprope: 210<br>Trad: 173<br>Alpine: 0<br>Ice: 3\", \"Crags: 16<br>Boulder: 947<br>Sport: 2304<br>Toprope: 499<br>Trad: 1724<br>Alpine: 331<br>Ice: 20\", \"Crags: 44<br>Boulder: 977<br>Sport: 295<br>Toprope: 1069<br>Trad: 2148<br>Alpine: 24<br>Ice: 332\", \"Crags: 63<br>Boulder: 777<br>Sport: 549<br>Toprope: 269<br>Trad: 1553<br>Alpine: 10<br>Ice: 34\", \"Crags: 10<br>Boulder: 26<br>Sport: 2<br>Toprope: 9<br>Trad: 8<br>Alpine: 0<br>Ice: 0\", \"Crags: 6<br>Boulder: 658<br>Sport: 202<br>Toprope: 214<br>Trad: 96<br>Alpine: 0<br>Ice: 2\", \"Crags: 20<br>Boulder: 250<br>Sport: 118<br>Toprope: 173<br>Trad: 363<br>Alpine: 0<br>Ice: 0\", \"Crags: 8<br>Boulder: 344<br>Sport: 1687<br>Toprope: 369<br>Trad: 1033<br>Alpine: 70<br>Ice: 24\", \"Crags: 6<br>Boulder: 1309<br>Sport: 662<br>Toprope: 409<br>Trad: 414<br>Alpine: 19<br>Ice: 37\", \"Crags: 20<br>Boulder: 1151<br>Sport: 8<br>Toprope: 25<br>Trad: 3<br>Alpine: 0<br>Ice: 1\", \"Crags: 6<br>Boulder: 23<br>Sport: 29<br>Toprope: 10<br>Trad: 55<br>Alpine: 0<br>Ice: 0\", \"Crags: 8<br>Boulder: 756<br>Sport: 1338<br>Toprope: 245<br>Trad: 857<br>Alpine: 0<br>Ice: 19\", \"Crags: 50<br>Boulder: 592<br>Sport: 993<br>Toprope: 58<br>Trad: 611<br>Alpine: 0<br>Ice: 1\", \"Crags: 42<br>Boulder: 1537<br>Sport: 991<br>Toprope: 270<br>Trad: 265<br>Alpine: 5<br>Ice: 0\", \"Crags: 53<br>Boulder: 2828<br>Sport: 5083<br>Toprope: 608<br>Trad: 5412<br>Alpine: 554<br>Ice: 165\", \"Crags: 34<br>Boulder: 561<br>Sport: 192<br>Toprope: 83<br>Trad: 301<br>Alpine: 24<br>Ice: 69\", \"Crags: 27<br>Boulder: 721<br>Sport: 1095<br>Toprope: 189<br>Trad: 1002<br>Alpine: 0<br>Ice: 0\", \"Crags: 10<br>Boulder: 1230<br>Sport: 2921<br>Toprope: 460<br>Trad: 2358<br>Alpine: 359<br>Ice: 74\", \"Crags: 27<br>Boulder: 721<br>Sport: 1095<br>Toprope: 189<br>Trad: 1002<br>Alpine: 0<br>Ice: 0\", \"Crags: 53<br>Boulder: 2184<br>Sport: 175<br>Toprope: 1103<br>Trad: 1051<br>Alpine: 0<br>Ice: 47\", \"Crags: 32<br>Boulder: 658<br>Sport: 2806<br>Toprope: 194<br>Trad: 1651<br>Alpine: 638<br>Ice: 110\"], \"type\": \"choropleth\", \"z\": [1457, 1865, 9575, 1843, 171, 31453, 26814, 1850, 35, 17, 970, 284, 3526, 1335, 78, 251, 2296, 1, 1023, 1248, 3892, 622, 1763, 975, 2176, 4116, 5143, 578, 5028, 4201, 2821, 37, 1115, 801, 3123, 2573, 1175, 106, 2978, 2213, 2889, 13492, 1124, 2875, 6510, 2875, 3719, 5055]}],\n",
       "                        {\"geo\": {\"lakecolor\": \"rgb(85,173,240)\", \"scope\": \"usa\", \"showlakes\": true}, \"template\": {\"data\": {\"bar\": [{\"error_x\": {\"color\": \"#2a3f5f\"}, \"error_y\": {\"color\": \"#2a3f5f\"}, \"marker\": {\"line\": {\"color\": \"#E5ECF6\", \"width\": 0.5}}, \"type\": \"bar\"}], \"barpolar\": [{\"marker\": {\"line\": {\"color\": \"#E5ECF6\", \"width\": 0.5}}, \"type\": \"barpolar\"}], \"carpet\": [{\"aaxis\": {\"endlinecolor\": \"#2a3f5f\", \"gridcolor\": \"white\", \"linecolor\": \"white\", \"minorgridcolor\": \"white\", \"startlinecolor\": \"#2a3f5f\"}, \"baxis\": {\"endlinecolor\": \"#2a3f5f\", \"gridcolor\": \"white\", \"linecolor\": \"white\", \"minorgridcolor\": \"white\", \"startlinecolor\": \"#2a3f5f\"}, \"type\": \"carpet\"}], \"choropleth\": [{\"colorbar\": {\"outlinewidth\": 0, \"ticks\": \"\"}, \"type\": \"choropleth\"}], \"contour\": [{\"colorbar\": {\"outlinewidth\": 0, \"ticks\": \"\"}, \"colorscale\": [[0.0, \"#0d0887\"], [0.1111111111111111, \"#46039f\"], [0.2222222222222222, \"#7201a8\"], [0.3333333333333333, \"#9c179e\"], [0.4444444444444444, \"#bd3786\"], [0.5555555555555556, \"#d8576b\"], [0.6666666666666666, \"#ed7953\"], [0.7777777777777778, \"#fb9f3a\"], [0.8888888888888888, \"#fdca26\"], [1.0, \"#f0f921\"]], \"type\": \"contour\"}], \"contourcarpet\": [{\"colorbar\": {\"outlinewidth\": 0, \"ticks\": \"\"}, \"type\": \"contourcarpet\"}], \"heatmap\": [{\"colorbar\": {\"outlinewidth\": 0, \"ticks\": \"\"}, \"colorscale\": [[0.0, \"#0d0887\"], [0.1111111111111111, \"#46039f\"], [0.2222222222222222, \"#7201a8\"], [0.3333333333333333, \"#9c179e\"], [0.4444444444444444, \"#bd3786\"], [0.5555555555555556, \"#d8576b\"], [0.6666666666666666, \"#ed7953\"], [0.7777777777777778, \"#fb9f3a\"], [0.8888888888888888, \"#fdca26\"], [1.0, \"#f0f921\"]], \"type\": \"heatmap\"}], \"heatmapgl\": [{\"colorbar\": {\"outlinewidth\": 0, \"ticks\": \"\"}, \"colorscale\": [[0.0, \"#0d0887\"], [0.1111111111111111, \"#46039f\"], [0.2222222222222222, \"#7201a8\"], [0.3333333333333333, \"#9c179e\"], [0.4444444444444444, \"#bd3786\"], [0.5555555555555556, \"#d8576b\"], [0.6666666666666666, \"#ed7953\"], [0.7777777777777778, \"#fb9f3a\"], [0.8888888888888888, \"#fdca26\"], [1.0, \"#f0f921\"]], \"type\": \"heatmapgl\"}], \"histogram\": [{\"marker\": {\"colorbar\": {\"outlinewidth\": 0, \"ticks\": \"\"}}, \"type\": \"histogram\"}], \"histogram2d\": [{\"colorbar\": {\"outlinewidth\": 0, \"ticks\": \"\"}, \"colorscale\": [[0.0, \"#0d0887\"], [0.1111111111111111, \"#46039f\"], [0.2222222222222222, \"#7201a8\"], [0.3333333333333333, \"#9c179e\"], [0.4444444444444444, \"#bd3786\"], [0.5555555555555556, \"#d8576b\"], [0.6666666666666666, \"#ed7953\"], [0.7777777777777778, \"#fb9f3a\"], [0.8888888888888888, \"#fdca26\"], [1.0, \"#f0f921\"]], \"type\": \"histogram2d\"}], \"histogram2dcontour\": [{\"colorbar\": {\"outlinewidth\": 0, \"ticks\": \"\"}, \"colorscale\": [[0.0, \"#0d0887\"], [0.1111111111111111, \"#46039f\"], [0.2222222222222222, \"#7201a8\"], [0.3333333333333333, \"#9c179e\"], [0.4444444444444444, \"#bd3786\"], [0.5555555555555556, \"#d8576b\"], [0.6666666666666666, \"#ed7953\"], [0.7777777777777778, \"#fb9f3a\"], [0.8888888888888888, \"#fdca26\"], [1.0, \"#f0f921\"]], \"type\": \"histogram2dcontour\"}], \"mesh3d\": [{\"colorbar\": {\"outlinewidth\": 0, \"ticks\": \"\"}, \"type\": \"mesh3d\"}], \"parcoords\": [{\"line\": {\"colorbar\": {\"outlinewidth\": 0, \"ticks\": \"\"}}, \"type\": \"parcoords\"}], \"pie\": [{\"automargin\": true, \"type\": \"pie\"}], \"scatter\": [{\"marker\": {\"colorbar\": {\"outlinewidth\": 0, \"ticks\": \"\"}}, \"type\": \"scatter\"}], \"scatter3d\": [{\"line\": {\"colorbar\": {\"outlinewidth\": 0, \"ticks\": \"\"}}, \"marker\": {\"colorbar\": {\"outlinewidth\": 0, \"ticks\": \"\"}}, \"type\": \"scatter3d\"}], \"scattercarpet\": [{\"marker\": {\"colorbar\": {\"outlinewidth\": 0, \"ticks\": \"\"}}, \"type\": \"scattercarpet\"}], \"scattergeo\": [{\"marker\": {\"colorbar\": {\"outlinewidth\": 0, \"ticks\": \"\"}}, \"type\": \"scattergeo\"}], \"scattergl\": [{\"marker\": {\"colorbar\": {\"outlinewidth\": 0, \"ticks\": \"\"}}, \"type\": \"scattergl\"}], \"scattermapbox\": [{\"marker\": {\"colorbar\": {\"outlinewidth\": 0, \"ticks\": \"\"}}, \"type\": \"scattermapbox\"}], \"scatterpolar\": [{\"marker\": {\"colorbar\": {\"outlinewidth\": 0, \"ticks\": \"\"}}, \"type\": \"scatterpolar\"}], \"scatterpolargl\": [{\"marker\": {\"colorbar\": {\"outlinewidth\": 0, \"ticks\": \"\"}}, \"type\": \"scatterpolargl\"}], \"scatterternary\": [{\"marker\": {\"colorbar\": {\"outlinewidth\": 0, \"ticks\": \"\"}}, \"type\": \"scatterternary\"}], \"surface\": [{\"colorbar\": {\"outlinewidth\": 0, \"ticks\": \"\"}, \"colorscale\": [[0.0, \"#0d0887\"], [0.1111111111111111, \"#46039f\"], [0.2222222222222222, \"#7201a8\"], [0.3333333333333333, \"#9c179e\"], [0.4444444444444444, \"#bd3786\"], [0.5555555555555556, \"#d8576b\"], [0.6666666666666666, \"#ed7953\"], [0.7777777777777778, \"#fb9f3a\"], [0.8888888888888888, \"#fdca26\"], [1.0, \"#f0f921\"]], \"type\": \"surface\"}], \"table\": [{\"cells\": {\"fill\": {\"color\": \"#EBF0F8\"}, \"line\": {\"color\": \"white\"}}, \"header\": {\"fill\": {\"color\": \"#C8D4E3\"}, \"line\": {\"color\": \"white\"}}, \"type\": \"table\"}]}, \"layout\": {\"annotationdefaults\": {\"arrowcolor\": \"#2a3f5f\", \"arrowhead\": 0, \"arrowwidth\": 1}, \"coloraxis\": {\"colorbar\": {\"outlinewidth\": 0, \"ticks\": \"\"}}, \"colorscale\": {\"diverging\": [[0, \"#8e0152\"], [0.1, \"#c51b7d\"], [0.2, \"#de77ae\"], [0.3, \"#f1b6da\"], [0.4, \"#fde0ef\"], [0.5, \"#f7f7f7\"], [0.6, \"#e6f5d0\"], [0.7, \"#b8e186\"], [0.8, \"#7fbc41\"], [0.9, \"#4d9221\"], [1, \"#276419\"]], \"sequential\": [[0.0, \"#0d0887\"], [0.1111111111111111, \"#46039f\"], [0.2222222222222222, \"#7201a8\"], [0.3333333333333333, \"#9c179e\"], [0.4444444444444444, \"#bd3786\"], [0.5555555555555556, \"#d8576b\"], [0.6666666666666666, \"#ed7953\"], [0.7777777777777778, \"#fb9f3a\"], [0.8888888888888888, \"#fdca26\"], [1.0, \"#f0f921\"]], \"sequentialminus\": [[0.0, \"#0d0887\"], [0.1111111111111111, \"#46039f\"], [0.2222222222222222, \"#7201a8\"], [0.3333333333333333, \"#9c179e\"], [0.4444444444444444, \"#bd3786\"], [0.5555555555555556, \"#d8576b\"], [0.6666666666666666, \"#ed7953\"], [0.7777777777777778, \"#fb9f3a\"], [0.8888888888888888, \"#fdca26\"], [1.0, \"#f0f921\"]]}, \"colorway\": [\"#636efa\", \"#EF553B\", \"#00cc96\", \"#ab63fa\", \"#FFA15A\", \"#19d3f3\", \"#FF6692\", \"#B6E880\", \"#FF97FF\", \"#FECB52\"], \"font\": {\"color\": \"#2a3f5f\"}, \"geo\": {\"bgcolor\": \"white\", \"lakecolor\": \"white\", \"landcolor\": \"#E5ECF6\", \"showlakes\": true, \"showland\": true, \"subunitcolor\": \"white\"}, \"hoverlabel\": {\"align\": \"left\"}, \"hovermode\": \"closest\", \"mapbox\": {\"style\": \"light\"}, \"paper_bgcolor\": \"white\", \"plot_bgcolor\": \"#E5ECF6\", \"polar\": {\"angularaxis\": {\"gridcolor\": \"white\", \"linecolor\": \"white\", \"ticks\": \"\"}, \"bgcolor\": \"#E5ECF6\", \"radialaxis\": {\"gridcolor\": \"white\", \"linecolor\": \"white\", \"ticks\": \"\"}}, \"scene\": {\"xaxis\": {\"backgroundcolor\": \"#E5ECF6\", \"gridcolor\": \"white\", \"gridwidth\": 2, \"linecolor\": \"white\", \"showbackground\": true, \"ticks\": \"\", \"zerolinecolor\": \"white\"}, \"yaxis\": {\"backgroundcolor\": \"#E5ECF6\", \"gridcolor\": \"white\", \"gridwidth\": 2, \"linecolor\": \"white\", \"showbackground\": true, \"ticks\": \"\", \"zerolinecolor\": \"white\"}, \"zaxis\": {\"backgroundcolor\": \"#E5ECF6\", \"gridcolor\": \"white\", \"gridwidth\": 2, \"linecolor\": \"white\", \"showbackground\": true, \"ticks\": \"\", \"zerolinecolor\": \"white\"}}, \"shapedefaults\": {\"line\": {\"color\": \"#2a3f5f\"}}, \"ternary\": {\"aaxis\": {\"gridcolor\": \"white\", \"linecolor\": \"white\", \"ticks\": \"\"}, \"baxis\": {\"gridcolor\": \"white\", \"linecolor\": \"white\", \"ticks\": \"\"}, \"bgcolor\": \"#E5ECF6\", \"caxis\": {\"gridcolor\": \"white\", \"linecolor\": \"white\", \"ticks\": \"\"}}, \"title\": {\"x\": 0.05}, \"xaxis\": {\"automargin\": true, \"gridcolor\": \"white\", \"linecolor\": \"white\", \"ticks\": \"\", \"title\": {\"standoff\": 15}, \"zerolinecolor\": \"white\", \"zerolinewidth\": 2}, \"yaxis\": {\"automargin\": true, \"gridcolor\": \"white\", \"linecolor\": \"white\", \"ticks\": \"\", \"title\": {\"standoff\": 15}, \"zerolinecolor\": \"white\", \"zerolinewidth\": 2}}}, \"title\": {\"text\": \"Number of Climbs By State\"}},\n",
       "                        {\"responsive\": true}\n",
       "                    ).then(function(){\n",
       "                            \n",
       "var gd = document.getElementById('0a2d28d0-3b3a-4045-b035-1e0d18ed220e');\n",
       "var x = new MutationObserver(function (mutations, observer) {{\n",
       "        var display = window.getComputedStyle(gd).display;\n",
       "        if (!display || display === 'none') {{\n",
       "            console.log([gd, 'removed!']);\n",
       "            Plotly.purge(gd);\n",
       "            observer.disconnect();\n",
       "        }}\n",
       "}});\n",
       "\n",
       "// Listen for the removal of the full notebook cells\n",
       "var notebookContainer = gd.closest('#notebook-container');\n",
       "if (notebookContainer) {{\n",
       "    x.observe(notebookContainer, {childList: true});\n",
       "}}\n",
       "\n",
       "// Listen for the clearing of the current output cell\n",
       "var outputEl = gd.closest('.output');\n",
       "if (outputEl) {{\n",
       "    x.observe(outputEl, {childList: true});\n",
       "}}\n",
       "\n",
       "                        })\n",
       "                };\n",
       "                });\n",
       "            </script>\n",
       "        </div>"
      ]
     },
     "metadata": {},
     "output_type": "display_data"
    }
   ],
   "source": [
    "iplot(choromap)"
   ]
  },
  {
   "cell_type": "code",
   "execution_count": null,
   "metadata": {},
   "outputs": [],
   "source": []
  }
 ],
 "metadata": {
  "kernelspec": {
   "display_name": "Python 3",
   "language": "python",
   "name": "python3"
  },
  "language_info": {
   "codemirror_mode": {
    "name": "ipython",
    "version": 3
   },
   "file_extension": ".py",
   "mimetype": "text/x-python",
   "name": "python",
   "nbconvert_exporter": "python",
   "pygments_lexer": "ipython3",
   "version": "3.7.3"
  }
 },
 "nbformat": 4,
 "nbformat_minor": 2
}
